{
 "cells": [
  {
   "cell_type": "markdown",
   "metadata": {},
   "source": [
    "# ProductHunt Products from the January 2023"
   ]
  },
  {
   "cell_type": "code",
   "execution_count": 67,
   "metadata": {},
   "outputs": [],
   "source": [
    "import pandas as pd\n",
    "import seaborn as sns\n",
    "import matplotlib.pyplot as plt\n",
    "from sklearn.preprocessing import StandardScaler\n",
    "from sklearn.preprocessing import OneHotEncoder\n",
    "from matplotlib.dates import DateFormatter\n",
    "import networkx as nx\n",
    "from adjustText import adjust_text\n",
    "import plotly.graph_objects as go\n",
    "import plotly.express as px\n"
   ]
  },
  {
   "cell_type": "markdown",
   "metadata": {},
   "source": [
    "# Import & Analyse the raw dataset"
   ]
  },
  {
   "cell_type": "code",
   "execution_count": 68,
   "metadata": {},
   "outputs": [
    {
     "data": {
      "text/html": [
       "<div>\n",
       "<style scoped>\n",
       "    .dataframe tbody tr th:only-of-type {\n",
       "        vertical-align: middle;\n",
       "    }\n",
       "\n",
       "    .dataframe tbody tr th {\n",
       "        vertical-align: top;\n",
       "    }\n",
       "\n",
       "    .dataframe thead th {\n",
       "        text-align: right;\n",
       "    }\n",
       "</style>\n",
       "<table border=\"1\" class=\"dataframe\">\n",
       "  <thead>\n",
       "    <tr style=\"text-align: right;\">\n",
       "      <th></th>\n",
       "      <th>id</th>\n",
       "      <th>name</th>\n",
       "      <th>votesCount</th>\n",
       "      <th>reviewsRating</th>\n",
       "      <th>reviewsCount</th>\n",
       "      <th>commentsCount</th>\n",
       "      <th>createdAt</th>\n",
       "      <th>totalCount</th>\n",
       "      <th>topics</th>\n",
       "    </tr>\n",
       "  </thead>\n",
       "  <tbody>\n",
       "    <tr>\n",
       "      <th>0</th>\n",
       "      <td>377488</td>\n",
       "      <td>Perplexity.ai</td>\n",
       "      <td>214</td>\n",
       "      <td>0.0</td>\n",
       "      <td>0</td>\n",
       "      <td>19</td>\n",
       "      <td>2023-02-01T01:10:23Z</td>\n",
       "      <td>20</td>\n",
       "      <td>Search</td>\n",
       "    </tr>\n",
       "    <tr>\n",
       "      <th>1</th>\n",
       "      <td>377270</td>\n",
       "      <td>Image Editor AI</td>\n",
       "      <td>46</td>\n",
       "      <td>0.0</td>\n",
       "      <td>0</td>\n",
       "      <td>11</td>\n",
       "      <td>2023-02-01T08:00:00Z</td>\n",
       "      <td>15</td>\n",
       "      <td>Design Tools, Marketing, Tech</td>\n",
       "    </tr>\n",
       "    <tr>\n",
       "      <th>2</th>\n",
       "      <td>377466</td>\n",
       "      <td>RoboHelper</td>\n",
       "      <td>21</td>\n",
       "      <td>0.0</td>\n",
       "      <td>0</td>\n",
       "      <td>5</td>\n",
       "      <td>2023-01-31T21:41:01Z</td>\n",
       "      <td>3</td>\n",
       "      <td>Productivity</td>\n",
       "    </tr>\n",
       "    <tr>\n",
       "      <th>3</th>\n",
       "      <td>376463</td>\n",
       "      <td>Dover Autopilot</td>\n",
       "      <td>1118</td>\n",
       "      <td>0.0</td>\n",
       "      <td>0</td>\n",
       "      <td>134</td>\n",
       "      <td>2023-01-31T08:03:56Z</td>\n",
       "      <td>20</td>\n",
       "      <td>Hiring, Artificial Intelligence</td>\n",
       "    </tr>\n",
       "    <tr>\n",
       "      <th>4</th>\n",
       "      <td>377244</td>\n",
       "      <td>Unlimited Voice Transcription with API</td>\n",
       "      <td>873</td>\n",
       "      <td>0.0</td>\n",
       "      <td>0</td>\n",
       "      <td>229</td>\n",
       "      <td>2023-01-31T08:12:31Z</td>\n",
       "      <td>20</td>\n",
       "      <td>Productivity, Privacy</td>\n",
       "    </tr>\n",
       "  </tbody>\n",
       "</table>\n",
       "</div>"
      ],
      "text/plain": [
       "       id                                    name  votesCount  reviewsRating  \\\n",
       "0  377488                           Perplexity.ai         214            0.0   \n",
       "1  377270                         Image Editor AI          46            0.0   \n",
       "2  377466                              RoboHelper          21            0.0   \n",
       "3  376463                         Dover Autopilot        1118            0.0   \n",
       "4  377244  Unlimited Voice Transcription with API         873            0.0   \n",
       "\n",
       "   reviewsCount  commentsCount             createdAt  totalCount  \\\n",
       "0             0             19  2023-02-01T01:10:23Z          20   \n",
       "1             0             11  2023-02-01T08:00:00Z          15   \n",
       "2             0              5  2023-01-31T21:41:01Z           3   \n",
       "3             0            134  2023-01-31T08:03:56Z          20   \n",
       "4             0            229  2023-01-31T08:12:31Z          20   \n",
       "\n",
       "                            topics  \n",
       "0                           Search  \n",
       "1    Design Tools, Marketing, Tech  \n",
       "2                     Productivity  \n",
       "3  Hiring, Artificial Intelligence  \n",
       "4            Productivity, Privacy  "
      ]
     },
     "execution_count": 68,
     "metadata": {},
     "output_type": "execute_result"
    }
   ],
   "source": [
    "# Step 1: Load the Dataset\n",
    "# df = pd.read_csv(\"C:/Users/alime/Dropbox/PC/Documents/Coding/2023/ProductHunt_EDA_and_Unspervised_Sentiment_Analysis/Data/Stats/CSV/Stats_Year_2022.csv\")\n",
    "df = pd.read_csv(\"C:/Users/alime/Dropbox/PC/Documents/Coding/2023/ProductHunt_EDA_and_Unspervised_Sentiment_Analysis/Data/Stats/CSV/Posts_Jan_2023_Fix_Cleaned.csv\")\n",
    "df.head()"
   ]
  },
  {
   "cell_type": "code",
   "execution_count": 69,
   "metadata": {},
   "outputs": [
    {
     "data": {
      "text/plain": [
       "(40320, 9)"
      ]
     },
     "execution_count": 69,
     "metadata": {},
     "output_type": "execute_result"
    }
   ],
   "source": [
    "df.shape"
   ]
  },
  {
   "cell_type": "code",
   "execution_count": 70,
   "metadata": {},
   "outputs": [
    {
     "name": "stdout",
     "output_type": "stream",
     "text": [
      "<class 'pandas.core.frame.DataFrame'>\n",
      "RangeIndex: 40320 entries, 0 to 40319\n",
      "Data columns (total 9 columns):\n",
      " #   Column         Non-Null Count  Dtype  \n",
      "---  ------         --------------  -----  \n",
      " 0   id             40320 non-null  int64  \n",
      " 1   name           40320 non-null  object \n",
      " 2   votesCount     40320 non-null  int64  \n",
      " 3   reviewsRating  40320 non-null  float64\n",
      " 4   reviewsCount   40320 non-null  int64  \n",
      " 5   commentsCount  40320 non-null  int64  \n",
      " 6   createdAt      40320 non-null  object \n",
      " 7   totalCount     40320 non-null  int64  \n",
      " 8   topics         40320 non-null  object \n",
      "dtypes: float64(1), int64(5), object(3)\n",
      "memory usage: 2.8+ MB\n"
     ]
    }
   ],
   "source": [
    "df.info()"
   ]
  },
  {
   "cell_type": "markdown",
   "metadata": {},
   "source": [
    "# Step 2: Data Cleaning"
   ]
  },
  {
   "cell_type": "code",
   "execution_count": 71,
   "metadata": {},
   "outputs": [
    {
     "name": "stdout",
     "output_type": "stream",
     "text": [
      "id               0\n",
      "name             0\n",
      "votesCount       0\n",
      "reviewsRating    0\n",
      "reviewsCount     0\n",
      "commentsCount    0\n",
      "createdAt        0\n",
      "totalCount       0\n",
      "topics           0\n",
      "dtype: int64\n"
     ]
    }
   ],
   "source": [
    "# Check for missing values\n",
    "print(df.isnull().sum())"
   ]
  },
  {
   "cell_type": "code",
   "execution_count": 72,
   "metadata": {},
   "outputs": [
    {
     "data": {
      "text/html": [
       "<div>\n",
       "<style scoped>\n",
       "    .dataframe tbody tr th:only-of-type {\n",
       "        vertical-align: middle;\n",
       "    }\n",
       "\n",
       "    .dataframe tbody tr th {\n",
       "        vertical-align: top;\n",
       "    }\n",
       "\n",
       "    .dataframe thead th {\n",
       "        text-align: right;\n",
       "    }\n",
       "</style>\n",
       "<table border=\"1\" class=\"dataframe\">\n",
       "  <thead>\n",
       "    <tr style=\"text-align: right;\">\n",
       "      <th></th>\n",
       "      <th>id</th>\n",
       "      <th>votesCount</th>\n",
       "      <th>reviewsRating</th>\n",
       "      <th>reviewsCount</th>\n",
       "      <th>commentsCount</th>\n",
       "      <th>totalCount</th>\n",
       "    </tr>\n",
       "  </thead>\n",
       "  <tbody>\n",
       "    <tr>\n",
       "      <th>count</th>\n",
       "      <td>40320.000000</td>\n",
       "      <td>40320.000000</td>\n",
       "      <td>40320.0</td>\n",
       "      <td>40320.0</td>\n",
       "      <td>40320.000000</td>\n",
       "      <td>40320.000000</td>\n",
       "    </tr>\n",
       "    <tr>\n",
       "      <th>mean</th>\n",
       "      <td>375590.076860</td>\n",
       "      <td>150.859400</td>\n",
       "      <td>0.0</td>\n",
       "      <td>0.0</td>\n",
       "      <td>27.822197</td>\n",
       "      <td>10.642684</td>\n",
       "    </tr>\n",
       "    <tr>\n",
       "      <th>std</th>\n",
       "      <td>1232.294971</td>\n",
       "      <td>252.254059</td>\n",
       "      <td>0.0</td>\n",
       "      <td>0.0</td>\n",
       "      <td>51.294438</td>\n",
       "      <td>6.884244</td>\n",
       "    </tr>\n",
       "    <tr>\n",
       "      <th>min</th>\n",
       "      <td>369053.000000</td>\n",
       "      <td>1.000000</td>\n",
       "      <td>0.0</td>\n",
       "      <td>0.0</td>\n",
       "      <td>0.000000</td>\n",
       "      <td>0.000000</td>\n",
       "    </tr>\n",
       "    <tr>\n",
       "      <th>25%</th>\n",
       "      <td>374814.000000</td>\n",
       "      <td>28.000000</td>\n",
       "      <td>0.0</td>\n",
       "      <td>0.0</td>\n",
       "      <td>3.000000</td>\n",
       "      <td>4.000000</td>\n",
       "    </tr>\n",
       "    <tr>\n",
       "      <th>50%</th>\n",
       "      <td>375793.000000</td>\n",
       "      <td>60.000000</td>\n",
       "      <td>0.0</td>\n",
       "      <td>0.0</td>\n",
       "      <td>8.000000</td>\n",
       "      <td>9.000000</td>\n",
       "    </tr>\n",
       "    <tr>\n",
       "      <th>75%</th>\n",
       "      <td>376501.000000</td>\n",
       "      <td>161.000000</td>\n",
       "      <td>0.0</td>\n",
       "      <td>0.0</td>\n",
       "      <td>26.000000</td>\n",
       "      <td>19.000000</td>\n",
       "    </tr>\n",
       "    <tr>\n",
       "      <th>max</th>\n",
       "      <td>377488.000000</td>\n",
       "      <td>3338.000000</td>\n",
       "      <td>0.0</td>\n",
       "      <td>0.0</td>\n",
       "      <td>478.000000</td>\n",
       "      <td>20.000000</td>\n",
       "    </tr>\n",
       "  </tbody>\n",
       "</table>\n",
       "</div>"
      ],
      "text/plain": [
       "                  id    votesCount  reviewsRating  reviewsCount  \\\n",
       "count   40320.000000  40320.000000        40320.0       40320.0   \n",
       "mean   375590.076860    150.859400            0.0           0.0   \n",
       "std      1232.294971    252.254059            0.0           0.0   \n",
       "min    369053.000000      1.000000            0.0           0.0   \n",
       "25%    374814.000000     28.000000            0.0           0.0   \n",
       "50%    375793.000000     60.000000            0.0           0.0   \n",
       "75%    376501.000000    161.000000            0.0           0.0   \n",
       "max    377488.000000   3338.000000            0.0           0.0   \n",
       "\n",
       "       commentsCount    totalCount  \n",
       "count   40320.000000  40320.000000  \n",
       "mean       27.822197     10.642684  \n",
       "std        51.294438      6.884244  \n",
       "min         0.000000      0.000000  \n",
       "25%         3.000000      4.000000  \n",
       "50%         8.000000      9.000000  \n",
       "75%        26.000000     19.000000  \n",
       "max       478.000000     20.000000  "
      ]
     },
     "execution_count": 72,
     "metadata": {},
     "output_type": "execute_result"
    }
   ],
   "source": [
    "df.describe()"
   ]
  },
  {
   "cell_type": "markdown",
   "metadata": {},
   "source": [
    "### Remove the reviewRating and reviewsCount columns since they are always 0"
   ]
  },
  {
   "cell_type": "code",
   "execution_count": 73,
   "metadata": {},
   "outputs": [],
   "source": [
    "df = df.drop('reviewsRating', axis=1)\n",
    "df = df.drop('reviewsCount', axis=1)"
   ]
  },
  {
   "cell_type": "markdown",
   "metadata": {},
   "source": [
    "### Remove Duplicates and keep the first appearance"
   ]
  },
  {
   "cell_type": "code",
   "execution_count": 74,
   "metadata": {},
   "outputs": [],
   "source": [
    "df.drop_duplicates(subset=['name', 'createdAt'], keep='first', inplace=True)"
   ]
  },
  {
   "cell_type": "markdown",
   "metadata": {},
   "source": [
    "### Change the date column type to DataTime"
   ]
  },
  {
   "cell_type": "code",
   "execution_count": 75,
   "metadata": {},
   "outputs": [
    {
     "data": {
      "text/html": [
       "<div>\n",
       "<style scoped>\n",
       "    .dataframe tbody tr th:only-of-type {\n",
       "        vertical-align: middle;\n",
       "    }\n",
       "\n",
       "    .dataframe tbody tr th {\n",
       "        vertical-align: top;\n",
       "    }\n",
       "\n",
       "    .dataframe thead th {\n",
       "        text-align: right;\n",
       "    }\n",
       "</style>\n",
       "<table border=\"1\" class=\"dataframe\">\n",
       "  <thead>\n",
       "    <tr style=\"text-align: right;\">\n",
       "      <th></th>\n",
       "      <th>id</th>\n",
       "      <th>name</th>\n",
       "      <th>votesCount</th>\n",
       "      <th>commentsCount</th>\n",
       "      <th>createdAt</th>\n",
       "      <th>totalCount</th>\n",
       "      <th>topics</th>\n",
       "    </tr>\n",
       "  </thead>\n",
       "  <tbody>\n",
       "    <tr>\n",
       "      <th>0</th>\n",
       "      <td>377488</td>\n",
       "      <td>Perplexity.ai</td>\n",
       "      <td>214</td>\n",
       "      <td>19</td>\n",
       "      <td>2023-02-01 01:10:23+00:00</td>\n",
       "      <td>20</td>\n",
       "      <td>Search</td>\n",
       "    </tr>\n",
       "    <tr>\n",
       "      <th>1</th>\n",
       "      <td>377270</td>\n",
       "      <td>Image Editor AI</td>\n",
       "      <td>46</td>\n",
       "      <td>11</td>\n",
       "      <td>2023-02-01 08:00:00+00:00</td>\n",
       "      <td>15</td>\n",
       "      <td>Design Tools, Marketing, Tech</td>\n",
       "    </tr>\n",
       "    <tr>\n",
       "      <th>2</th>\n",
       "      <td>377466</td>\n",
       "      <td>RoboHelper</td>\n",
       "      <td>21</td>\n",
       "      <td>5</td>\n",
       "      <td>2023-01-31 21:41:01+00:00</td>\n",
       "      <td>3</td>\n",
       "      <td>Productivity</td>\n",
       "    </tr>\n",
       "    <tr>\n",
       "      <th>3</th>\n",
       "      <td>376463</td>\n",
       "      <td>Dover Autopilot</td>\n",
       "      <td>1118</td>\n",
       "      <td>134</td>\n",
       "      <td>2023-01-31 08:03:56+00:00</td>\n",
       "      <td>20</td>\n",
       "      <td>Hiring, Artificial Intelligence</td>\n",
       "    </tr>\n",
       "    <tr>\n",
       "      <th>4</th>\n",
       "      <td>377244</td>\n",
       "      <td>Unlimited Voice Transcription with API</td>\n",
       "      <td>873</td>\n",
       "      <td>229</td>\n",
       "      <td>2023-01-31 08:12:31+00:00</td>\n",
       "      <td>20</td>\n",
       "      <td>Productivity, Privacy</td>\n",
       "    </tr>\n",
       "  </tbody>\n",
       "</table>\n",
       "</div>"
      ],
      "text/plain": [
       "       id                                    name  votesCount  commentsCount  \\\n",
       "0  377488                           Perplexity.ai         214             19   \n",
       "1  377270                         Image Editor AI          46             11   \n",
       "2  377466                              RoboHelper          21              5   \n",
       "3  376463                         Dover Autopilot        1118            134   \n",
       "4  377244  Unlimited Voice Transcription with API         873            229   \n",
       "\n",
       "                  createdAt  totalCount                           topics  \n",
       "0 2023-02-01 01:10:23+00:00          20                           Search  \n",
       "1 2023-02-01 08:00:00+00:00          15    Design Tools, Marketing, Tech  \n",
       "2 2023-01-31 21:41:01+00:00           3                     Productivity  \n",
       "3 2023-01-31 08:03:56+00:00          20  Hiring, Artificial Intelligence  \n",
       "4 2023-01-31 08:12:31+00:00          20            Productivity, Privacy  "
      ]
     },
     "execution_count": 75,
     "metadata": {},
     "output_type": "execute_result"
    }
   ],
   "source": [
    "df['createdAt'] = pd.to_datetime(df['createdAt'])\n",
    "df.head()"
   ]
  },
  {
   "cell_type": "markdown",
   "metadata": {},
   "source": [
    "### Add a month Column"
   ]
  },
  {
   "cell_type": "code",
   "execution_count": 76,
   "metadata": {},
   "outputs": [
    {
     "data": {
      "text/html": [
       "<div>\n",
       "<style scoped>\n",
       "    .dataframe tbody tr th:only-of-type {\n",
       "        vertical-align: middle;\n",
       "    }\n",
       "\n",
       "    .dataframe tbody tr th {\n",
       "        vertical-align: top;\n",
       "    }\n",
       "\n",
       "    .dataframe thead th {\n",
       "        text-align: right;\n",
       "    }\n",
       "</style>\n",
       "<table border=\"1\" class=\"dataframe\">\n",
       "  <thead>\n",
       "    <tr style=\"text-align: right;\">\n",
       "      <th></th>\n",
       "      <th>id</th>\n",
       "      <th>name</th>\n",
       "      <th>votesCount</th>\n",
       "      <th>commentsCount</th>\n",
       "      <th>createdAt</th>\n",
       "      <th>Month</th>\n",
       "      <th>totalCount</th>\n",
       "      <th>topics</th>\n",
       "    </tr>\n",
       "  </thead>\n",
       "  <tbody>\n",
       "    <tr>\n",
       "      <th>0</th>\n",
       "      <td>377488</td>\n",
       "      <td>Perplexity.ai</td>\n",
       "      <td>214</td>\n",
       "      <td>19</td>\n",
       "      <td>2023-02-01 01:10:23+00:00</td>\n",
       "      <td>February</td>\n",
       "      <td>20</td>\n",
       "      <td>Search</td>\n",
       "    </tr>\n",
       "    <tr>\n",
       "      <th>1</th>\n",
       "      <td>377270</td>\n",
       "      <td>Image Editor AI</td>\n",
       "      <td>46</td>\n",
       "      <td>11</td>\n",
       "      <td>2023-02-01 08:00:00+00:00</td>\n",
       "      <td>February</td>\n",
       "      <td>15</td>\n",
       "      <td>Design Tools, Marketing, Tech</td>\n",
       "    </tr>\n",
       "    <tr>\n",
       "      <th>2</th>\n",
       "      <td>377466</td>\n",
       "      <td>RoboHelper</td>\n",
       "      <td>21</td>\n",
       "      <td>5</td>\n",
       "      <td>2023-01-31 21:41:01+00:00</td>\n",
       "      <td>January</td>\n",
       "      <td>3</td>\n",
       "      <td>Productivity</td>\n",
       "    </tr>\n",
       "    <tr>\n",
       "      <th>3</th>\n",
       "      <td>376463</td>\n",
       "      <td>Dover Autopilot</td>\n",
       "      <td>1118</td>\n",
       "      <td>134</td>\n",
       "      <td>2023-01-31 08:03:56+00:00</td>\n",
       "      <td>January</td>\n",
       "      <td>20</td>\n",
       "      <td>Hiring, Artificial Intelligence</td>\n",
       "    </tr>\n",
       "    <tr>\n",
       "      <th>4</th>\n",
       "      <td>377244</td>\n",
       "      <td>Unlimited Voice Transcription with API</td>\n",
       "      <td>873</td>\n",
       "      <td>229</td>\n",
       "      <td>2023-01-31 08:12:31+00:00</td>\n",
       "      <td>January</td>\n",
       "      <td>20</td>\n",
       "      <td>Productivity, Privacy</td>\n",
       "    </tr>\n",
       "  </tbody>\n",
       "</table>\n",
       "</div>"
      ],
      "text/plain": [
       "       id                                    name  votesCount  commentsCount  \\\n",
       "0  377488                           Perplexity.ai         214             19   \n",
       "1  377270                         Image Editor AI          46             11   \n",
       "2  377466                              RoboHelper          21              5   \n",
       "3  376463                         Dover Autopilot        1118            134   \n",
       "4  377244  Unlimited Voice Transcription with API         873            229   \n",
       "\n",
       "                  createdAt     Month  totalCount  \\\n",
       "0 2023-02-01 01:10:23+00:00  February          20   \n",
       "1 2023-02-01 08:00:00+00:00  February          15   \n",
       "2 2023-01-31 21:41:01+00:00   January           3   \n",
       "3 2023-01-31 08:03:56+00:00   January          20   \n",
       "4 2023-01-31 08:12:31+00:00   January          20   \n",
       "\n",
       "                            topics  \n",
       "0                           Search  \n",
       "1    Design Tools, Marketing, Tech  \n",
       "2                     Productivity  \n",
       "3  Hiring, Artificial Intelligence  \n",
       "4            Productivity, Privacy  "
      ]
     },
     "execution_count": 76,
     "metadata": {},
     "output_type": "execute_result"
    }
   ],
   "source": [
    "\n",
    "# Create the \"Month\" column with the corresponding month\n",
    "df['Month'] = df['createdAt'].dt.month\n",
    "\n",
    "# Rearrange the columns to position \"Month\" after \"createdAt\"\n",
    "cols = list(df.columns)\n",
    "cols.insert(cols.index('createdAt') + 1, cols.pop(cols.index('Month')))\n",
    "df = df[cols]\n",
    "df['Month'] = df['createdAt'].dt.strftime('%B')\n",
    "df.head()\n"
   ]
  },
  {
   "cell_type": "markdown",
   "metadata": {},
   "source": [
    "### Adding an Hours column"
   ]
  },
  {
   "cell_type": "code",
   "execution_count": 77,
   "metadata": {},
   "outputs": [],
   "source": [
    "# # Convert the 'createdAt' column to pandas datetime\n",
    "# df['createdAt'] = pd.to_datetime(df['createdAt'])\n",
    "\n",
    "# # Filter the DataFrame with a specific date (e.g., January 31, 2023)\n",
    "# specific_date = '2023-01-24'\n",
    "# filtered_df = df[df['createdAt'].dt.date == pd.to_datetime(specific_date).date()]\n",
    "\n",
    "# # filtered_df.head()"
   ]
  },
  {
   "cell_type": "code",
   "execution_count": 78,
   "metadata": {},
   "outputs": [
    {
     "data": {
      "text/html": [
       "<div>\n",
       "<style scoped>\n",
       "    .dataframe tbody tr th:only-of-type {\n",
       "        vertical-align: middle;\n",
       "    }\n",
       "\n",
       "    .dataframe tbody tr th {\n",
       "        vertical-align: top;\n",
       "    }\n",
       "\n",
       "    .dataframe thead th {\n",
       "        text-align: right;\n",
       "    }\n",
       "</style>\n",
       "<table border=\"1\" class=\"dataframe\">\n",
       "  <thead>\n",
       "    <tr style=\"text-align: right;\">\n",
       "      <th></th>\n",
       "      <th>id</th>\n",
       "      <th>name</th>\n",
       "      <th>votesCount</th>\n",
       "      <th>commentsCount</th>\n",
       "      <th>createdAt</th>\n",
       "      <th>Month</th>\n",
       "      <th>totalCount</th>\n",
       "      <th>topics</th>\n",
       "      <th>hours</th>\n",
       "    </tr>\n",
       "  </thead>\n",
       "  <tbody>\n",
       "    <tr>\n",
       "      <th>39042</th>\n",
       "      <td>376765</td>\n",
       "      <td>Ask99</td>\n",
       "      <td>3</td>\n",
       "      <td>2</td>\n",
       "      <td>2023-01-27 00:31:21+00:00</td>\n",
       "      <td>January</td>\n",
       "      <td>0</td>\n",
       "      <td>Android, Social Media, Advertising</td>\n",
       "      <td>0</td>\n",
       "    </tr>\n",
       "    <tr>\n",
       "      <th>39046</th>\n",
       "      <td>377280</td>\n",
       "      <td>Translator: LinkedIn Jobs</td>\n",
       "      <td>3</td>\n",
       "      <td>1</td>\n",
       "      <td>2023-01-31 00:38:36+00:00</td>\n",
       "      <td>January</td>\n",
       "      <td>0</td>\n",
       "      <td>Chrome Extensions, Productivity, LinkedIn</td>\n",
       "      <td>0</td>\n",
       "    </tr>\n",
       "    <tr>\n",
       "      <th>40309</th>\n",
       "      <td>376128</td>\n",
       "      <td>RxDB</td>\n",
       "      <td>8</td>\n",
       "      <td>0</td>\n",
       "      <td>2023-01-23 00:38:35+00:00</td>\n",
       "      <td>January</td>\n",
       "      <td>1</td>\n",
       "      <td>Software Engineering, Developer Tools, GitHub</td>\n",
       "      <td>0</td>\n",
       "    </tr>\n",
       "    <tr>\n",
       "      <th>0</th>\n",
       "      <td>377488</td>\n",
       "      <td>Perplexity.ai</td>\n",
       "      <td>214</td>\n",
       "      <td>19</td>\n",
       "      <td>2023-02-01 01:10:23+00:00</td>\n",
       "      <td>February</td>\n",
       "      <td>20</td>\n",
       "      <td>Search</td>\n",
       "      <td>1</td>\n",
       "    </tr>\n",
       "    <tr>\n",
       "      <th>4614</th>\n",
       "      <td>375943</td>\n",
       "      <td>Black Freelancer</td>\n",
       "      <td>25</td>\n",
       "      <td>1</td>\n",
       "      <td>2023-01-21 01:07:03+00:00</td>\n",
       "      <td>January</td>\n",
       "      <td>3</td>\n",
       "      <td>Freelance, Tech, Diversity &amp; Inclusion</td>\n",
       "      <td>1</td>\n",
       "    </tr>\n",
       "  </tbody>\n",
       "</table>\n",
       "</div>"
      ],
      "text/plain": [
       "           id                       name  votesCount  commentsCount  \\\n",
       "39042  376765                      Ask99           3              2   \n",
       "39046  377280  Translator: LinkedIn Jobs           3              1   \n",
       "40309  376128                       RxDB           8              0   \n",
       "0      377488              Perplexity.ai         214             19   \n",
       "4614   375943           Black Freelancer          25              1   \n",
       "\n",
       "                      createdAt     Month  totalCount  \\\n",
       "39042 2023-01-27 00:31:21+00:00   January           0   \n",
       "39046 2023-01-31 00:38:36+00:00   January           0   \n",
       "40309 2023-01-23 00:38:35+00:00   January           1   \n",
       "0     2023-02-01 01:10:23+00:00  February          20   \n",
       "4614  2023-01-21 01:07:03+00:00   January           3   \n",
       "\n",
       "                                              topics  hours  \n",
       "39042             Android, Social Media, Advertising      0  \n",
       "39046      Chrome Extensions, Productivity, LinkedIn      0  \n",
       "40309  Software Engineering, Developer Tools, GitHub      0  \n",
       "0                                             Search      1  \n",
       "4614          Freelance, Tech, Diversity & Inclusion      1  "
      ]
     },
     "execution_count": 78,
     "metadata": {},
     "output_type": "execute_result"
    }
   ],
   "source": [
    "# Convert the 'createdAt' column to pandas datetime\n",
    "df['createdAt'] = pd.to_datetime(df['createdAt'])\n",
    "\n",
    "# Create a new column 'hours' containing only the hours from the 'createdAt' column\n",
    "df['hours'] = df['createdAt'].dt.hour\n",
    "\n",
    "# Sort the DataFrame by the 'hours' column in ascending order\n",
    "New_filtered_df = df.sort_values(by='hours', ascending=True)\n",
    "\n",
    "New_filtered_df.head()"
   ]
  },
  {
   "cell_type": "markdown",
   "metadata": {},
   "source": [
    "### Line plot of hourly product Launches for the most active day"
   ]
  },
  {
   "cell_type": "code",
   "execution_count": 79,
   "metadata": {},
   "outputs": [],
   "source": [
    "\n",
    "# # Count the number of products launched each hour of the day\n",
    "# hour_counts = New_filtered_df['hours'].value_counts().sort_index()\n",
    "\n",
    "# # Create a line plot using Plotly\n",
    "# fig = go.Figure()\n",
    "\n",
    "# fig.add_trace(go.Scatter(x=hour_counts.index, y=hour_counts.values, mode='lines+markers', line_shape='linear'))\n",
    "\n",
    "# # Update the layout with a modern look\n",
    "# fig.update_layout(\n",
    "#     title='Number of Products Launched Each Hour',\n",
    "#     xaxis_title='Hour of the Day',\n",
    "#     yaxis_title='Number of Products',\n",
    "#     xaxis=dict(tickvals=list(range(24))),\n",
    "#     yaxis=dict(tickmode='array',  # Set the tick mode to 'array' for custom tick values\n",
    "#                tickvals=list(range(0, hour_counts.max() + 1, 5)),  # Show labels every 5 values\n",
    "#                ticktext=list(range(0, hour_counts.max() + 1, 5)),  # Use the same values for tick labels\n",
    "#                ),\n",
    "#     # width=800,            # Adjust the plot width to provide more space for labels\n",
    "#     height=500,           # Adjust the plot height to provide more space for labels\n",
    "#     margin=dict(t=50),    # Add margin at the top for the title\n",
    "#     template='plotly_dark'  # Use a dark theme for a modern look\n",
    "# )\n",
    "\n",
    "# # Update marker and line styles\n",
    "# fig.update_traces(marker=dict(size=8, line=dict(width=2, color='white')), line=dict(width=2))\n",
    "\n",
    "# # Show the plot\n",
    "# fig.show()"
   ]
  },
  {
   "cell_type": "code",
   "execution_count": 80,
   "metadata": {},
   "outputs": [
    {
     "data": {
      "text/html": [
       "<div>\n",
       "<style scoped>\n",
       "    .dataframe tbody tr th:only-of-type {\n",
       "        vertical-align: middle;\n",
       "    }\n",
       "\n",
       "    .dataframe tbody tr th {\n",
       "        vertical-align: top;\n",
       "    }\n",
       "\n",
       "    .dataframe thead th {\n",
       "        text-align: right;\n",
       "    }\n",
       "</style>\n",
       "<table border=\"1\" class=\"dataframe\">\n",
       "  <thead>\n",
       "    <tr style=\"text-align: right;\">\n",
       "      <th></th>\n",
       "      <th>id</th>\n",
       "      <th>name</th>\n",
       "      <th>votesCount</th>\n",
       "      <th>commentsCount</th>\n",
       "      <th>createdAt</th>\n",
       "      <th>Month</th>\n",
       "      <th>totalCount</th>\n",
       "      <th>topics</th>\n",
       "      <th>hours</th>\n",
       "    </tr>\n",
       "  </thead>\n",
       "  <tbody>\n",
       "    <tr>\n",
       "      <th>0</th>\n",
       "      <td>377488</td>\n",
       "      <td>Perplexity.ai</td>\n",
       "      <td>214</td>\n",
       "      <td>19</td>\n",
       "      <td>2023-02-01 01:10:23+00:00</td>\n",
       "      <td>February</td>\n",
       "      <td>20</td>\n",
       "      <td>Search</td>\n",
       "      <td>1</td>\n",
       "    </tr>\n",
       "    <tr>\n",
       "      <th>1</th>\n",
       "      <td>377270</td>\n",
       "      <td>Image Editor AI</td>\n",
       "      <td>46</td>\n",
       "      <td>11</td>\n",
       "      <td>2023-02-01 08:00:00+00:00</td>\n",
       "      <td>February</td>\n",
       "      <td>15</td>\n",
       "      <td>Design Tools, Marketing, Tech</td>\n",
       "      <td>8</td>\n",
       "    </tr>\n",
       "    <tr>\n",
       "      <th>2</th>\n",
       "      <td>377466</td>\n",
       "      <td>RoboHelper</td>\n",
       "      <td>21</td>\n",
       "      <td>5</td>\n",
       "      <td>2023-01-31 21:41:01+00:00</td>\n",
       "      <td>January</td>\n",
       "      <td>3</td>\n",
       "      <td>Productivity</td>\n",
       "      <td>21</td>\n",
       "    </tr>\n",
       "    <tr>\n",
       "      <th>3</th>\n",
       "      <td>376463</td>\n",
       "      <td>Dover Autopilot</td>\n",
       "      <td>1118</td>\n",
       "      <td>134</td>\n",
       "      <td>2023-01-31 08:03:56+00:00</td>\n",
       "      <td>January</td>\n",
       "      <td>20</td>\n",
       "      <td>Hiring, Artificial Intelligence</td>\n",
       "      <td>8</td>\n",
       "    </tr>\n",
       "    <tr>\n",
       "      <th>4</th>\n",
       "      <td>377244</td>\n",
       "      <td>Unlimited Voice Transcription with API</td>\n",
       "      <td>873</td>\n",
       "      <td>229</td>\n",
       "      <td>2023-01-31 08:12:31+00:00</td>\n",
       "      <td>January</td>\n",
       "      <td>20</td>\n",
       "      <td>Productivity, Privacy</td>\n",
       "      <td>8</td>\n",
       "    </tr>\n",
       "  </tbody>\n",
       "</table>\n",
       "</div>"
      ],
      "text/plain": [
       "       id                                    name  votesCount  commentsCount  \\\n",
       "0  377488                           Perplexity.ai         214             19   \n",
       "1  377270                         Image Editor AI          46             11   \n",
       "2  377466                              RoboHelper          21              5   \n",
       "3  376463                         Dover Autopilot        1118            134   \n",
       "4  377244  Unlimited Voice Transcription with API         873            229   \n",
       "\n",
       "                  createdAt     Month  totalCount  \\\n",
       "0 2023-02-01 01:10:23+00:00  February          20   \n",
       "1 2023-02-01 08:00:00+00:00  February          15   \n",
       "2 2023-01-31 21:41:01+00:00   January           3   \n",
       "3 2023-01-31 08:03:56+00:00   January          20   \n",
       "4 2023-01-31 08:12:31+00:00   January          20   \n",
       "\n",
       "                            topics  hours  \n",
       "0                           Search      1  \n",
       "1    Design Tools, Marketing, Tech      8  \n",
       "2                     Productivity     21  \n",
       "3  Hiring, Artificial Intelligence      8  \n",
       "4            Productivity, Privacy      8  "
      ]
     },
     "execution_count": 80,
     "metadata": {},
     "output_type": "execute_result"
    }
   ],
   "source": [
    "# df.drop_duplicates(subset=['name', 'createdAt'], keep='first', inplace=True)\n",
    "df.head()"
   ]
  },
  {
   "cell_type": "code",
   "execution_count": 81,
   "metadata": {},
   "outputs": [
    {
     "data": {
      "text/plain": [
       "(1260, 9)"
      ]
     },
     "execution_count": 81,
     "metadata": {},
     "output_type": "execute_result"
    }
   ],
   "source": [
    "df.shape"
   ]
  },
  {
   "cell_type": "code",
   "execution_count": 82,
   "metadata": {},
   "outputs": [],
   "source": [
    "# # Find the oldest and youngest dates\n",
    "# oldest_date = df['createdAt'].min()\n",
    "# youngest_date = df['createdAt'].max()\n",
    "\n",
    "# # Print the results\n",
    "# print(\"Oldest Date:\", oldest_date)\n",
    "# print(\"Youngest Date:\", youngest_date)"
   ]
  },
  {
   "cell_type": "markdown",
   "metadata": {},
   "source": [
    "## Extracting the frequencies of topic groups"
   ]
  },
  {
   "cell_type": "code",
   "execution_count": 83,
   "metadata": {},
   "outputs": [
    {
     "name": "stdout",
     "output_type": "stream",
     "text": [
      "{('Artificial Intelligence', 'Productivity', 'Tech'): 13, 'Artificial Intelligence': 11, 'Productivity': 10, ('Developer Tools', 'Productivity', 'Tech'): 10, ('Android', 'Productivity', 'iOS'): 8, 'Tech': 8, ('Artificial Intelligence', 'Marketing', 'Productivity'): 7, ('Artificial Intelligence', 'Chrome Extensions', 'Productivity'): 6, ('Notion', 'Productivity', 'Task Management'): 6, ('Marketing', 'Productivity', 'Tech'): 6, ('Artificial Intelligence', 'SaaS'): 5, ('Artificial Intelligence', 'Marketing', 'Writing'): 5, ('Artificial Intelligence', 'Productivity', 'Writing'): 5, ('Design Tools', 'Developer Tools', 'Productivity'): 5, ('Artificial Intelligence', 'Email', 'Productivity'): 4, ('Productivity', 'Task Management', 'Time Tracking'): 4, ('Developer Tools', 'GitHub'): 4, 'Marketing': 4, ('Developer Tools', 'Open Source', 'Software Engineering'): 4, ('Developer Tools', 'GitHub', 'Open Source'): 4, ('Artificial Intelligence', 'Productivity', 'SaaS'): 4, ('Artificial Intelligence', 'Education', 'Productivity'): 4, 'SaaS': 4, ('Developer Tools', 'Productivity', 'User Experience'): 4, ('Artificial Intelligence', 'Developer Tools', 'Productivity'): 4, ('Artificial Intelligence', 'Productivity'): 4, ('Developer Tools', 'Tech'): 4, 'Developer Tools': 4, ('Artificial Intelligence', 'Community', 'Productivity'): 4, ('Artificial Intelligence', 'Developer Tools'): 4, ('Android', 'Developer Tools', 'iOS'): 3, ('Android', 'Artificial Intelligence', 'Productivity'): 3, ('Productivity', 'SaaS', 'Task Management'): 3, ('Artificial Intelligence', 'Marketing', 'Tech'): 3, ('Developer Tools', 'GitHub', 'Software Engineering'): 3, ('Artificial Intelligence', 'Productivity', 'Slack'): 3, ('Chrome Extensions', 'Developer Tools', 'Productivity'): 3, ('Artificial Intelligence', 'Design Tools', 'Photography'): 3, ('Artificial Intelligence', 'Tech', 'Writing'): 3, ('Developer Tools', 'Tech', 'User Experience'): 3, ('Marketing', 'Productivity', 'Social Media'): 3, ('Developer Tools', 'Marketing', 'Productivity'): 3, ('Artificial Intelligence', 'Marketing', 'Social Media'): 3, ('Fintech', 'Money', 'Personal Finance'): 3, ('Notion', 'Productivity', 'Tech'): 3, ('Artificial Intelligence', 'Data & Analytics', 'Data Science'): 3, ('Artificial Intelligence', 'Design Tools', 'Photo editing'): 3, ('Chrome Extensions', 'Productivity'): 3, ('Productivity', 'Task Management'): 3, ('Artificial Intelligence', 'Developer Tools', 'Tech'): 3, ('Artificial Intelligence', 'Productivity', 'User Experience'): 3, ('Productivity', 'Task Management', 'iOS'): 2, ('Social Media', 'Social Network', 'Social Networking'): 2, ('Artificial Intelligence', 'Human Resources', 'Productivity'): 2, ('News', 'Newsletters', 'Productivity'): 2, 'Books': 2, ('Bots', 'Productivity', 'Slack'): 2, ('Android', 'Social Media', 'Social Network'): 2, ('Artificial Intelligence', 'Education', 'Online Learning'): 2, ('Browser Extensions', 'Chrome Extensions', 'Productivity'): 2, ('Art', 'Artificial Intelligence', 'Entertainment'): 2, ('Productivity', 'Tech', 'Web App'): 2, ('Blockchain', 'Crypto', 'Web3'): 2, ('Crypto', 'NFT', 'Web3'): 2, ('Hiring', 'Productivity', 'SaaS'): 2, ('Artificial Intelligence', 'E-Commerce', 'Marketing'): 2, ('Artificial Intelligence', 'Productivity', 'Web App'): 2, ('Productivity', 'Task Management', 'Web App'): 2, ('Developer Tools', 'Open Source', 'Tech'): 2, 'Twitter': 2, ('Artificial Intelligence', 'Design Tools', 'Productivity'): 2, ('Health & Fitness', 'Productivity', 'iOS'): 2, ('Fintech', 'Investing', 'Personal Finance'): 2, ('API', 'Crypto', 'Developer Tools'): 2, ('Artificial Intelligence', 'Messaging', 'Productivity'): 2, ('Artificial Intelligence', 'Photography', 'Tech'): 2, 'Investing': 2, ('Education', 'Online Learning', 'Productivity'): 2, ('Analytics', 'Growth Hacking', 'Marketing'): 2, ('Marketing', 'Social Media'): 2, ('Artificial Intelligence', 'Productivity', 'Search'): 2, ('Mac', 'Menu Bar Apps', 'Productivity'): 2, ('Design Tools', 'Productivity'): 2, ('Artificial Intelligence', 'Marketing', 'Notion'): 2, ('Meetings', 'Productivity', 'Sales'): 2, ('Productivity', 'SaaS', 'Web App'): 2, ('Productivity', 'Tech'): 2, ('Artificial Intelligence', 'Bots', 'Developer Tools'): 2, ('Design Tools', 'Productivity', 'UX Design'): 2, ('Developer Tools', 'Productivity', 'Task Management'): 2, ('Artificial Intelligence', 'Design Tools', 'Games'): 2, ('Artificial Intelligence', 'Notion', 'Sales'): 2, ('Artificial Intelligence', 'Developer Tools', 'No-Code'): 2, 'Design Tools': 2, ('Productivity', 'Social Media'): 2, ('Customer Communication', 'Marketing', 'Messaging'): 2, ('Design Tools', 'Notion', 'Productivity'): 2, ('Artificial Intelligence', 'Productivity', 'iOS'): 2, ('Artificial Intelligence', 'Developer Tools', 'Open Source'): 2, ('Art', 'Artificial Intelligence', 'Design Tools'): 2, ('Art', 'Artificial Intelligence', 'Photography'): 2, ('API', 'Artificial Intelligence', 'Developer Tools'): 2, ('News', 'Productivity'): 2, ('Android', 'Games'): 2, ('Artificial Intelligence', 'Tech'): 2, ('Notes', 'Productivity', 'Writing'): 2, ('Developer Tools', 'Software Engineering', 'Tech'): 2, ('Music', 'Spotify'): 2, ('Artificial Intelligence', 'Productivity', 'Social Media'): 2, ('Artificial Intelligence', 'LinkedIn', 'Productivity'): 2, ('No-Code', 'Web App', 'Website Builder'): 2, ('Apple', 'Mac'): 2, ('Career', 'Hiring', 'Human Resources'): 2, ('Maker Tools', 'Productivity'): 2, ('Apple', 'Mac', 'Menu Bar Apps'): 2, ('Analytics', 'Marketing', 'SaaS'): 2, ('Artificial Intelligence', 'News', 'Newsletters'): 2, ('Calendar', 'Productivity'): 2, ('Design Tools', 'Productivity', 'User Experience'): 2, ('Fitness', 'Health', 'Health & Fitness'): 2, ('Artificial Intelligence', 'Mac'): 2, ('Android', 'Education', 'Tech'): 2, ('Chrome Extensions', 'Productivity', 'SaaS'): 2, 'Social Media': 2, ('Developer Tools', 'GitHub', 'User Experience'): 2, ('Developer Tools', 'Productivity', 'Software Engineering'): 2, ('Artificial Intelligence', 'Career'): 2, ('Android', 'Productivity', 'Tech'): 2, ('Artificial Intelligence', 'Database', 'Developer Tools'): 2, ('Artificial Intelligence', 'Career', 'Hiring'): 2, ('Fintech', 'Investing'): 2, ('Artificial Intelligence', 'Bots', 'Messaging'): 2, ('No-Code', 'Productivity'): 2, ('GitHub', 'Open Source', 'Productivity'): 2, ('Android', 'Health & Fitness', 'iOS'): 2, ('Developer Tools', 'No-Code'): 2, ('Android', 'Fitness', 'Health & Fitness'): 2, ('Marketing', 'SEO'): 2, ('Calendar', 'Productivity', 'Task Management'): 2, 'YouTube': 1, ('Community', 'Online Learning', 'Tech'): 1, ('Artificial Intelligence', 'Design Tools'): 1, ('Messaging', 'No-Code', 'User Experience'): 1, ('Art', 'Artificial Intelligence', 'Music'): 1, ('Advertising', 'Marketing', 'Newsletters'): 1, ('Fundraising', 'SaaS', 'Venture Capital'): 1, ('Cookbooks', 'Cooking', 'Maker Tools'): 1, ('Developer Tools', 'Open Source', 'SaaS'): 1, ('Chrome Extensions', 'Web3'): 1, ('Advertising', 'Branding', 'Printing'): 1, ('News', 'Social Media', 'Twitter'): 1, ('Advertising', 'Android', 'Social Media'): 1, ('Design Tools', 'Notion', 'User Experience'): 1, ('Family', 'Notion', 'Productivity'): 1, ('Developer Tools', 'Music', 'Tech'): 1, ('Calendar', 'Marketing', 'Tech'): 1, ('Books', 'Health & Fitness', 'Productivity'): 1, ('Chrome Extensions', 'Education', 'Productivity'): 1, ('Development', 'UX Design', 'Web Design'): 1, ('Notion', 'Productivity', 'User Experience'): 1, ('Free Games', 'Movies', 'Pop culture'): 1, ('Chrome Extensions', 'Productivity', 'SEO'): 1, ('Crypto', 'Encryption', 'VPN'): 1, ('Artificial Intelligence', 'Books', 'Writing'): 1, 'Wallpaper': 1, ('Games', 'Marketing', 'Social Media'): 1, ('Fundraising', 'Investing', 'Venture Capital'): 1, ('Health & Fitness', 'Strategy Games'): 1, ('Design Tools', 'User Experience'): 1, ('API', 'Developer Tools', 'Open Source'): 1, ('Design Tools', 'Marketing', 'TV'): 1, ('API', 'E-Commerce', 'Fintech'): 1, ('Community', 'Productivity', 'SaaS'): 1, ('Developer Tools', 'Maker Tools', 'Marketing'): 1, ('Branding', 'Influencer marketing', 'Marketing'): 1, ('Analytics', 'Developer Tools'): 1, ('Password manager', 'SaaS', 'Security'): 1, ('Education', 'Events', 'Productivity'): 1, ('Chrome Extensions', 'LinkedIn', 'Productivity'): 1, ('Graphic Design', 'Marketing', 'UX Design'): 1, ('Artificial Intelligence', 'Productivity', 'Task Management'): 1, ('Community', 'Education', 'Startup Books'): 1, ('Analytics', 'Email Marketing', 'Marketing'): 1, ('Free Games', 'Games', 'Social Network'): 1, ('Artificial Intelligence', 'Music', 'Spotify'): 1, ('Artificial Intelligence', 'Messaging', 'Virtual Assistants'): 1, ('Analytics', 'Productivity', 'SaaS'): 1, ('Artificial Intelligence', 'GitHub', 'Web App'): 1, ('Android', 'Marketing', 'Messaging'): 1, ('Developer Tools', 'Search'): 1, ('E-Commerce', 'Fashion', 'Social Media'): 1, ('Productivity', 'Security', 'Tech'): 1, ('Investing', 'Venture Capital'): 1, ('Artificial Intelligence', 'Developer Tools', 'Text Editors'): 1, ('Fantasy Games', 'Free Games', 'Games'): 1, ('Design Tools', 'Developer Tools', 'Marketing'): 1, ('API', 'Climate Tech', 'Developer Tools'): 1, ('Crypto', 'Developer Tools', 'Web3'): 1, ('Food & Drink', 'Marketing', 'Menu Bar Apps'): 1, ('Crowdfunding', 'Hardware', 'Productivity'): 1, ('Art', 'Artificial Intelligence', 'Tech'): 1, ('Books', 'Kids', 'Kids & Parenting'): 1, ('Nature', 'Photo & Video', 'Photography'): 1, ('Fintech', 'Payments', 'Tech'): 1, ('Notes', 'Open Source', 'Writing'): 1, ('Remote Work', 'Standing Desks'): 1, ('Art', 'Design Tools', 'Illustration'): 1, ('Customer Success', 'Education', 'YouTube'): 1, ('Climate Tech', 'Travel', 'Vacation'): 1, ('Games', 'Health & Fitness', 'Tech'): 1, ('Crypto', 'Payments', 'Productivity'): 1, ('Design Tools', 'Messaging', 'Telegram'): 1, ('Analytics', 'Artificial Intelligence', 'Tech'): 1, ('Artificial Intelligence', 'Data Science', 'SaaS'): 1, ('Design Tools', 'Design resources', 'UX Design'): 1, ('Growth Hacking', 'Marketing', 'Messaging'): 1, ('Community', 'Games', 'Indie Games'): 1, ('Chat rooms', 'Sports', 'Tech'): 1, ('Career', 'Community', 'Hiring'): 1, ('Golf', 'Sports'): 1, ('Computers', 'SaaS', 'VPN'): 1, ('Android', 'Home', 'iOS'): 1, ('Marketing', 'SaaS', 'Task Management'): 1, ('Artificial Intelligence', 'Marketing', 'SEO'): 1, ('Career', 'UX Design', 'User Experience'): 1, ('Customer Communication', 'User Experience', 'Web3'): 1, ('Mac', 'Tech', 'Writing'): 1, ('Customer Communication', 'Customer Success', 'Messaging'): 1, ('Health & Fitness', 'Productivity', 'Tech'): 1, ('Analytics', 'Marketing', 'Web3'): 1, ('Calendar', 'Productivity', 'Sales'): 1, ('Marketing', 'SaaS', 'Startup Lessons'): 1, ('Artificial Intelligence', 'Design Tools', 'Mac'): 1, ('Advertising', 'Artificial Intelligence', 'Marketing'): 1, ('Human Resources', 'Remote Work', 'Tech'): 1, ('Design', 'SaaS', 'User Experience'): 1, ('Global Nomad', 'Travel', 'User Experience'): 1, ('Marketing', 'Productivity', 'SEO'): 1, ('Design Tools', 'Maker Tools', 'Productivity'): 1, ('Amazon', 'E-Commerce', 'SaaS'): 1, ('Privacy', 'Security', 'Social Media'): 1, ('Calendar', 'Productivity', 'Remote Work'): 1, ('Apple', 'Maps', 'Messaging'): 1, ('Artificial Intelligence', 'Funny', 'Legal'): 1, ('Drinking', 'Free Games', 'Games'): 1, ('Data', 'Games', 'Web3'): 1, ('Privacy', 'Security', 'VPN'): 1, ('Design Tools', 'GIFs', 'YouTube'): 1, ('Artificial Intelligence', 'Developer Tools', 'SaaS'): 1, ('Finance', 'Fintech', 'Personal Finance'): 1, ('No-Code', 'Notion', 'Productivity'): 1, 'Shopping': 1, ('Design Tools', 'Web Design'): 1, ('Productivity', 'Storage'): 1, ('Data Visualization', 'No-Code', 'Web Design'): 1, ('Design Tools', 'Freelance', 'Productivity'): 1, ('GitHub', 'Open Source', 'Writing'): 1, 'Fintech': 1, ('Analytics', 'Artificial Intelligence', 'Data & Analytics'): 1, ('Marketing', 'No-Code', 'Sales'): 1, ('E-Commerce', 'Marketing', 'Social Media'): 1, ('Education', 'Marketing', 'Online Learning'): 1, ('Education', 'Writing'): 1, ('Design Tools', 'Social Media'): 1, ('Data', 'LinkedIn', 'Marketing'): 1, ('Artificial Intelligence', 'Career', 'LinkedIn'): 1, ('Data Science', 'Database', 'Developer Tools'): 1, ('Marketing', 'Productivity', 'SaaS'): 1, ('Music', 'Video Streaming'): 1, ('Customer Success', 'Productivity', 'SaaS'): 1, ('Lifestyle', 'Social Networking'): 1, ('Artificial Intelligence', 'Bots', 'E-Commerce'): 1, ('Artificial Intelligence', 'Fintech', 'Investing'): 1, ('E-Commerce', 'On-Demand', 'Tech'): 1, ('Artificial Intelligence', 'Design Tools', 'Developer Tools'): 1, ('Artificial Intelligence', 'Entertainment', 'Music'): 1, ('Email', 'Messaging', 'Productivity'): 1, ('Chrome Extensions', 'Freelance'): 1, ('Health & Fitness', 'Social Media', 'iOS'): 1, ('Productivity', 'Task Management', 'Tech'): 1, ('Accounting', 'Payments', 'SaaS'): 1, ('Design templates', 'UX Design', 'User Experience'): 1, ('Social Media', 'Social Network'): 1, ('Growth Hacking', 'Growth Hacks ', 'Twitter'): 1, ('Investing', 'SaaS'): 1, ('Artificial Intelligence', 'Education', 'Writing'): 1, ('Calendar', 'Events', 'Social Network'): 1, ('Android', 'Home theater', 'Music'): 1, ('Photo & Video', 'Photography', 'iOS'): 1, ('Snow sports', 'Tech', 'iOS'): 1, ('Community', 'Movies', 'iOS'): 1, ('Productivity', 'Web App', 'Writing'): 1, ('Android', 'Fintech', 'SaaS'): 1, ('Productivity', 'Social Media', 'Social media marketing'): 1, ('Developer Tools', 'Open Source', 'SDK'): 1, ('Analytics', 'DeFi', 'Web3'): 1, ('Artificial Intelligence', 'Home', 'Interior design'): 1, ('Artificial Intelligence', 'Customer Success', 'Tech'): 1, ('Artificial Intelligence', 'Branding', 'Design Tools'): 1, ('Career', 'Developer Tools', 'Hiring'): 1, ('Cryptocurrency', 'Fintech', 'Web3'): 1, ('Art', 'Artificial Intelligence', 'Web3'): 1, ('Artificial Intelligence', 'Education', 'Tech'): 1, ('Analytics', 'Artificial Intelligence', 'News'): 1, ('API', 'Developer Tools', 'Productivity'): 1, ('Artificial Intelligence', 'Wallpaper', 'iOS'): 1, ('Android', 'Photography', 'iOS'): 1, ('Event marketing', 'Marketing', 'Video'): 1, 'Icons': 1, ('No-Code', 'Web Design'): 1, 'Open Source': 1, ('Analytics', 'GitHub', 'Productivity'): 1, ('Fintech', 'Investing', 'Money'): 1, ('E-Commerce', 'Messaging', 'SaaS'): 1, ('Design Tools', 'UX Design', 'Writing'): 1, ('Games', 'Health & Fitness', 'Productivity'): 1, ('Customer Success', 'SaaS', 'Task Management'): 1, ('Design Tools', 'Design resources', 'Icons'): 1, ('Design Tools', 'Photo editing', 'Photography'): 1, ('Chrome Extensions', 'Productivity', 'Twitter'): 1, ('Music', 'Social Media', 'iOS'): 1, ('Education', 'Inclusivity', 'User Experience'): 1, ('Video Art', 'Web App', 'YouTube'): 1, ('Developer Tools', 'SaaS', 'Tech'): 1, ('Cryptocurrency', 'E-Commerce', 'Fintech'): 1, ('Apple', 'Design Tools', 'iOS'): 1, ('Analytics', 'Events', 'Productivity'): 1, ('Artificial Intelligence', 'Website Builder'): 1, ('Artificial Intelligence', 'Writing'): 1, ('Cryptocurrency', 'Fintech', 'Payments'): 1, ('Marketing', 'Operations', 'Productivity'): 1, ('Messaging', 'Productivity', 'SaaS'): 1, ('Design', 'Education', 'UX Design'): 1, ('Home', 'Travel', 'Vacation'): 1, ('Chrome Extensions', 'Marketing', 'SaaS'): 1, ('Education', 'Notes', 'Productivity'): 1, ('Marketing', 'Twitter', 'Video'): 1, ('Investing', 'Newsletters'): 1, ('Artificial Intelligence', 'Audio'): 1, ('Crypto', 'Developer Tools', 'Fintech'): 1, ('Design Tools', 'Developer Tools', 'UX Design'): 1, ('Education', 'Kids', 'Languages'): 1, ('Customer Success', 'User Experience', 'Web App'): 1, ('Productivity', 'SaaS', 'Social Impact'): 1, ('Artificial Intelligence', 'Social Media', 'iOS'): 1, ('GitHub', 'Productivity'): 1, ('Art', 'Artificial Intelligence'): 1, ('Android', 'Design Tools', 'Productivity'): 1, ('Artificial Intelligence', 'Hiring', 'SaaS'): 1, ('Business', 'Development', 'Productivity'): 1, ('Developer Tools', 'SDK', 'Tech'): 1, ('Amazon', 'Android', 'Politics'): 1, ('Android', 'Finance', 'iOS'): 1, ('Advertising', 'E-Commerce', 'Social media marketing'): 1, ('Productivity', 'SaaS', 'iOS'): 1, ('Android', 'Home', 'Productivity'): 1, ('Artificial Intelligence', 'Marketing', 'Photography'): 1, ('Productivity', 'Social Media', 'Web App'): 1, ('Design Tools', 'Productivity', 'Task Management'): 1, ('Developer Tools', 'Maker Tools', 'Newsletters'): 1, ('Android', 'Travel', 'iOS'): 1, ('Education', 'Languages', 'Online Learning'): 1, ('Artificial Intelligence', 'Design Tools', 'Photo & Video'): 1, ('Android', 'Health', 'Quantified Self'): 1, ('Health', 'Productivity'): 1, ('Fundraising', 'Startup Lessons', 'Venture Capital'): 1, ('Crypto', 'Web3'): 1, ('Artificial Intelligence', 'Travel', 'Weather'): 1, ('Developer Tools', 'GitHub', 'Typography'): 1, ('Artificial Intelligence', 'Productivity', 'Travel'): 1, ('API', 'Accounting', 'Climate Tech'): 1, ('Education', 'No-Code', 'Website Builder'): 1, ('GitHub', 'Open Source', 'Web App'): 1, ('Babies', 'Family', 'Parenting'): 1, ('Career', 'Education', 'Tech'): 1, ('Analytics', 'Developer Tools', 'SaaS'): 1, ('Productivity', 'Social Network'): 1, ('Art', 'Artificial Intelligence', 'iOS'): 1, ('Career', 'Hiring', 'Tech'): 1, ('Browser Extensions', 'Product Hunt'): 1, ('News', 'Newsletters', 'Politics'): 1, ('Health', 'Productivity', 'Task Management'): 1, ('Career', 'GitHub', 'Productivity'): 1, ('Linux', 'Open Source', 'Wine'): 1, ('Chrome Extensions', 'User Experience'): 1, ('Artificial Intelligence', 'Tech', 'User Experience'): 1, ('Artificial Intelligence', 'Parenting', 'Pregnancy'): 1, ('Crafting', 'DIY', 'Entertainment'): 1, ('Analytics', 'Artificial Intelligence', 'User Experience'): 1, ('Artificial Intelligence', 'Career', 'Productivity'): 1, ('Education', 'Productivity', 'Task Management'): 1, ('Artificial Intelligence', 'Business', 'Sales'): 1, 'Social Networking': 1, ('Bitcoin', 'Cryptocurrency', 'Security'): 1, ('Health & Fitness', 'Quantified Self', 'Wearables'): 1, ('Artificial Intelligence', 'Email Marketing', 'Marketing'): 1, ('Marketing', 'Printing', 'Web App'): 1, ('Artificial Intelligence', 'Digital Art', 'Music'): 1, ('E-Commerce', 'SaaS'): 1, ('Internet of Things', 'Marketing', 'Productivity'): 1, ('Artificial Intelligence', 'Funny Games', 'Tech'): 1, ('Design Tools', 'Developer Tools', 'Events'): 1, ('API', 'Dogs', 'Tech'): 1, ('Business', 'Finance', 'SaaS'): 1, ('Open Source', 'Productivity', 'Tech'): 1, ('Hiring', 'Human Resources', 'Remote Work'): 1, ('Cryptocurrency', 'Web App', 'Web3'): 1, ('Android', 'Web App', 'iOS'): 1, ('Artificial Intelligence', 'Custom Keyboards', 'Productivity'): 1, ('Productivity', 'Search'): 1, ('Calendar', 'Productivity', 'Tech'): 1, ('Chrome Extensions', 'Design Tools', 'Developer Tools'): 1, ('Chrome Extensions', 'Email', 'Productivity'): 1, ('Email Marketing', 'Marketing', 'Sales'): 1, ('Developer Tools', 'Development', 'Productivity'): 1, ('Artificial Intelligence', 'Twitter', 'Writing'): 1, ('Fundraising', 'Games', 'Health & Fitness'): 1, ('Legal', 'Personal Finance', 'Tech'): 1, ('API', 'Artificial Intelligence', 'No-Code'): 1, ('Finance', 'Fundraising', 'Venture Capital'): 1, ('Entertainment', 'Productivity', 'Tech'): 1, 'Design': 1, ('Tech', 'Text Editors'): 1, ('Productivity', 'Remote Work', 'Tech'): 1, ('Android', 'Payments', 'Website Builder'): 1, ('Hiring', 'Marketing', 'Public Relations'): 1, ('Android', 'Fintech', 'Investing'): 1, ('API', 'News', 'Tech'): 1, ('Data Science', 'Entertainment', 'Sports'): 1, ('Charity & Giving', 'Maps', 'Tech'): 1, ('E-Commerce', 'Website Builder'): 1, ('Lifestyle', 'Productivity', 'Writing'): 1, ('Artificial Intelligence', 'Bots', 'Productivity'): 1, ('Android', 'Delivery', 'iOS'): 1, ('Chrome Extensions', 'Social Media', 'Twitter'): 1, ('Productivity', 'Video'): 1, ('Chrome Extensions', 'Marketing', 'Productivity'): 1, ('Artificial Intelligence', 'Legal'): 1, ('Health', 'Productivity', 'Quantified Self'): 1, ('Artificial Intelligence', 'Meetings', 'Remote Work'): 1, ('Tech', 'Web App'): 1, ('Artificial Intelligence', 'Marketing', 'Video'): 1, ('Apple', 'Books', 'Mac'): 1, ('Android', 'Lifestyle', 'Spirituality'): 1, ('Blockchain', 'NFT', 'Web3'): 1, ('Artificial Intelligence', 'Photo & Video', 'Social Media'): 1, ('Community', 'Education', 'Languages'): 1, ('Operations', 'SaaS', 'Tech'): 1, ('Messaging', 'Productivity'): 1, ('GitHub', 'Productivity', 'Tech'): 1, ('Artificial Intelligence', 'Tech', 'Wearables'): 1, ('Android', 'Personal Finance', 'iOS'): 1, ('Design Tools', 'Photography', 'iOS'): 1, ('Human Resources', 'Productivity'): 1, ('Customer Communication', 'SaaS'): 1, ('Marketing', 'SaaS'): 1, ('Artificial Intelligence', 'Photo & Video', 'Video Streaming'): 1, ('Chrome Extensions', 'Productivity', 'User Experience'): 1, ('Education', 'Kids & Parenting', 'Parenting'): 1, ('Crypto', 'DAO'): 1, ('Maker Tools', 'Marketing', 'Product Hunt'): 1, 'Home': 1, ('Artificial Intelligence', 'Telegram', 'Web App'): 1, ('Indie Games', 'iOS', 'iPad'): 1, ('Health & Fitness', 'Notion', 'Productivity'): 1, ('Books', 'Illustration', 'Productivity'): 1, ('Branding', 'Marketing'): 1, ('Education', 'Kids', 'Productivity'): 1, ('Advertising', 'E-Commerce', 'Marketing'): 1, ('Developer Tools', 'Open Source'): 1, ('Productivity', 'Quantified Self', 'Spreadsheets'): 1, ('Events', 'Notion', 'Productivity'): 1, ('GitHub', 'Open Source'): 1, ('Marketing', 'Open Source', 'Sales'): 1, ('Artificial Intelligence', 'Dogs', 'Pets'): 1, 'Charity & Giving': 1, ('Freelance', 'Hiring', 'Productivity'): 1, ('Marketing', 'Productivity', 'Video Streaming'): 1, ('Social Media', 'Social media marketing'): 1, ('Community', 'Freelance', 'NFT'): 1, ('Photo editing', 'SaaS', 'Video Streaming'): 1, ('Fintech', 'Motorcycles', 'SaaS'): 1, ('Design Tools', 'Design resources', 'Web3'): 1, ('Marketing', 'SaaS', 'Social Networking'): 1, ('Design Tools', 'Development', 'Software Engineering'): 1, ('Online Learning', 'Productivity', 'Task Management'): 1, 'Social Network': 1, ('Education', 'Kids', 'Parenting'): 1, ('Education', 'Marketing', 'Tech'): 1, ('Artificial Intelligence', 'Data', 'Productivity'): 1, ('Bots', 'Education', 'Online Learning'): 1, ('Education', 'Remote Work', 'SaaS'): 1, ('Artificial Intelligence', 'Marketing', 'Sales'): 1, ('Online Learning', 'Social Media', 'Writing'): 1, ('Design resources', 'Design templates', 'Prototyping'): 1, ('Artificial Intelligence', 'Computers', 'Tech'): 1, ('Design Tools', 'Emoji', 'Productivity'): 1, 'Instagram': 1, ('Productivity', 'Tech', 'iOS'): 1, ('Hiring', 'Productivity', 'User Experience'): 1, ('Artificial Intelligence', 'Security', 'Social Impact'): 1, ('API', 'Branding', 'Developer Tools'): 1, ('Android', 'Free Games', 'Strategy Games'): 1, ('Design Tools', 'Hiring', 'Web App'): 1, ('Data & Analytics', 'Data Science', 'Tech'): 1, ('Chrome Extensions', 'Crypto', 'Investing'): 1, 'Card Games': 1, ('Artificial Intelligence', 'Marketing', 'Ridesharing'): 1, ('Artificial Intelligence', 'Developer Tools', 'Twitter'): 1, ('No-Code', 'Productivity', 'Spreadsheets'): 1, ('Blockchain', 'Chrome Extensions'): 1, ('Music', 'Tech', 'iOS'): 1, ('Android', 'Health & Fitness', 'Tech'): 1, ('Email', 'Email Marketing'): 1, ('Analytics', 'Productivity', 'Tech'): 1, ('Community', 'Product Hunt'): 1, ('Design Tools', 'Productivity', 'Venture Capital'): 1, 'Audio': 1, ('Business Intelligence', 'Fintech', 'Tech'): 1, ('Marketing', 'SEO', 'SaaS'): 1, ('Crypto', 'Cryptocurrency', 'Tech'): 1, ('Alcohol', 'Drinking', 'Spreadsheets'): 1, ('Community', 'Social Networking', 'Tech'): 1, ('Affiliate marketing', 'Marketing', 'SaaS'): 1, ('Business Intelligence', 'Tech', 'Tech news'): 1, ('CRM', 'Dating'): 1, 'Free Games': 1, ('Artificial Intelligence', 'Bots', 'No-Code'): 1, ('Design Tools', 'Design resources', 'Newsletters'): 1, ('Crowdfunding', 'Hardware', 'Tech'): 1, ('Development', 'Productivity', 'SaaS'): 1, ('Career', 'Remote Work', 'Tech'): 1, ('Social Media', 'Web App', 'Website Builder'): 1, ('Cell Phone', 'PC', 'Productivity'): 1, ('Books', 'Productivity'): 1, ('Artificial Intelligence', 'No-Code', 'Productivity'): 1, ('Design', 'Web Design'): 1, ('Artificial Intelligence', 'Developer Tools', 'Growth Hacking'): 1, ('Calendar', 'Data & Analytics', 'Meetings'): 1, ('Amazon', 'E-Commerce', 'Shopping'): 1, ('Entertainment', 'Lifestyle', 'Social Networking'): 1, ('NFT', 'Web3'): 1, ('Artificial Intelligence', 'Audio', 'Books'): 1, 'Education': 1, ('Marketing', 'Productivity', 'Writing'): 1, ('Marketing', 'Productivity', 'User Experience'): 1, ('Artificial Intelligence', 'Entertainment', 'Newsletters'): 1, ('Apple', 'Music', 'iOS'): 1, ('Health & Fitness', 'Productivity'): 1, ('Developer Tools', 'Productivity'): 1, ('Free Games', 'Games'): 1, ('Artificial Intelligence', 'Design Tools', 'Logo Design'): 1, 'Search': 1, ('Crypto', 'Education', 'Web3'): 1, ('Consulting', 'Hiring', 'Human Resources'): 1, ('Fintech', 'Legal'): 1, ('Alarms', 'Android', 'Meetings'): 1, ('Growth Hacks ', 'Maker Tools', 'Marketing'): 1, ('Artificial Intelligence', 'Bots', 'Search'): 1, ('Education', 'Mac', 'Windows'): 1, ('Social Networking', 'Twitter'): 1, ('Chrome Extensions', 'Productivity', 'Sales'): 1, ('Blockchain', 'Cryptocurrency', 'DeFi'): 1, ('Artificial Intelligence', 'Bots', 'Music'): 1, ('No-Code', 'Open Source', 'Productivity'): 1, ('Developer Tools', 'Development', 'Web App'): 1, ('Productivity', 'SaaS', 'Spreadsheets'): 1, ('API', 'Fintech', 'Open Source'): 1, ('Design Tools', 'Marketing', 'Notion'): 1, ('API', 'Android', 'Artificial Intelligence'): 1, ('Marketing', 'Notion', 'Payments'): 1, ('Fitness', 'Weather', 'iOS'): 1, ('Artificial Intelligence', 'E-Commerce', 'Instagram'): 1, ('E-Commerce', 'Shopping', 'Social media marketing'): 1, ('Legal', 'Productivity', 'SaaS'): 1, ('Android', 'Fintech', 'Payments'): 1, ('Education', 'Languages', 'Web App'): 1, ('SaaS', 'Software Engineering', 'Tech'): 1, ('Artificial Intelligence', 'Maps'): 1, ('Productivity', 'SaaS', 'Tech'): 1, ('Free Games', 'Funny Games', 'Tech'): 1, ('Android', 'Health & Fitness', 'Social Media'): 1, ('Crypto', 'User Experience', 'Web3'): 1, ('Customer Success', 'Developer Tools', 'Open Source'): 1, ('Open Source', 'Web App', 'Writing'): 1, ('API', 'Developer Tools', 'Wearables'): 1, ('Artificial Intelligence', 'Online Learning', 'Productivity'): 1, ('Marketing', 'Social Media', 'Social media marketing'): 1, ('Art', 'Movies'): 1, ('Memes', 'NFT', 'Web App'): 1, ('Browser Extensions', 'Productivity', 'Security'): 1, ('Developer Tools', 'Development', 'Open Source'): 1, ('Entertainment', 'Nintendo', 'iOS'): 1, ('Art', 'Artificial Intelligence', 'Pokemon'): 1, ('Entertainment', 'Funny', 'User Experience'): 1, ('Menu Bar Apps', 'Productivity', 'Security'): 1, ('Data', 'No-Code', 'Spreadsheets'): 1, ('Education', 'Open Source', 'Tech'): 1, ('Amazon', 'Chrome Extensions', 'E-Commerce'): 1, ('Career', 'Hiring', 'Online Learning'): 1, ('Apple', 'Health & Fitness', 'iOS'): 1, ('Developer Tools', 'SaaS', 'Sales'): 1, ('Free Games', 'Web App'): 1, ('Analytics', 'Data & Analytics', 'SaaS'): 1, ('Design Tools', 'Hiring'): 1, 'NFT': 1, ('Chrome Extensions', 'Privacy', 'Productivity'): 1, ('E-Commerce', 'Growth Hacks ', 'Marketing automation'): 1, ('API', 'Design Tools', 'Developer Tools'): 1, ('Developer Tools', 'No-Code', 'SEO'): 1, ('Community', 'SaaS', 'Tech'): 1, ('Bots', 'Chrome Extensions', 'Social Media'): 1, ('Events', 'Live Events'): 1, ('Calendar', 'E-Commerce', 'Email Marketing'): 1, ('Education', 'Software Engineering'): 1, ('Design', 'UX Design', 'User Experience'): 1, ('Crypto', 'Fintech', 'Privacy'): 1, ('Developer Tools', 'Productivity', 'Slack'): 1, ('GitHub', 'Internet of Things', 'Productivity'): 1, 'Hiring': 1, ('Education', 'Music', 'Productivity'): 1, ('Chrome Extensions', 'Productivity', 'Spreadsheets'): 1, ('Human Resources', 'Tech'): 1, ('Artificial Intelligence', 'Design Tools', 'iOS'): 1, ('Video', 'Video Streaming', 'iOS'): 1, ('Games', 'Word Games'): 1, ('API', 'Marketing', 'Messaging'): 1, ('Artificial Intelligence', 'Tech', 'iOS'): 1, ('Cryptocurrency', 'Web3'): 1, ('API', 'Open Source', 'User Experience'): 1, ('E-Commerce', 'Events', 'Ticketing'): 1, ('Business', 'Marketing', 'SaaS'): 1, ('API', 'Messaging'): 1, ('Artificial Intelligence', 'E-Commerce', 'Photography'): 1, ('Cryptocurrency', 'Payments', 'Web3'): 1, ('Analytics', 'Artificial Intelligence', 'Marketing'): 1, ('Artificial Intelligence', 'Movies', 'Streaming Services'): 1, ('Artificial Intelligence', 'Couples', 'Tech'): 1, ('Design', 'Design templates', 'Notion'): 1, ('Artificial Intelligence', 'Cooking', 'Health & Fitness'): 1, ('Bots', 'Marketing', 'SaaS'): 1, ('Health & Fitness', 'Meditation', 'Productivity'): 1, ('GitHub', 'Open Source', 'Time Tracking'): 1, ('Games', 'Human Resources', 'Slack'): 1, ('Music', 'Productivity'): 1, ('Health & Fitness', 'Web App', 'iOS'): 1, ('Marketing', 'Messaging', 'Web App'): 1, ('Artificial Intelligence', 'Productivity', 'Remote Work'): 1, ('Community', 'Productivity', 'Web3'): 1, ('Growth Hacks ', 'No-Code', 'Productivity'): 1, ('Design Tools', 'Marketing', 'Productivity'): 1, ('Artificial Intelligence', 'Digital Art', 'Tech'): 1, ('Design', 'Design Tools', 'User Experience'): 1, ('Crowdfunding', 'Health & Fitness', 'Wearables'): 1, ('Analytics', 'Developer Tools', 'Productivity'): 1, ('Artificial Intelligence', 'News', 'Politics'): 1, ('Fitness', 'Health & Fitness', 'Nutrition'): 1, ('Business', 'Education', 'Web App'): 1, ('Amazon', 'Health & Fitness'): 1, ('Education', 'Fintech'): 1, ('Free Games', 'Games', 'Music'): 1, ('Design Tools', 'Productivity', 'WordPress'): 1, 'Task Management': 1, ('Meetings', 'Productivity', 'Web App'): 1, 'SEO': 1, ('Android', 'Productivity', 'Task Management'): 1, ('Dating', 'Funny', 'Notes'): 1, 'E-Commerce': 1, ('Dating', 'Events', 'Social Media'): 1, ('Artificial Intelligence', 'Home Automation', 'Marketing automation'): 1, ('Languages', 'Messaging', 'Open Source'): 1, ('Marketing', 'Menu Bar Apps', 'Writing'): 1, ('Developer Tools', 'GitHub', 'Virtual Reality'): 1, ('Languages', 'Online Learning', 'Web App'): 1, ('Android', 'Health & Fitness', 'Music'): 1, ('Android', 'Fintech', 'Productivity'): 1, ('API', 'Meetings', 'Video Streaming'): 1, ('Developer Tools', 'Development', 'Software Engineering'): 1, ('Artificial Intelligence', 'Chrome Extensions', 'Search'): 1, ('Analytics', 'First Person Shooter', 'Games'): 1, ('Climate Tech', 'Food & Drink', 'Health & Fitness'): 1, ('No-Code', 'Payments', 'SaaS'): 1, ('Artificial Intelligence', 'Fitness'): 1, ('Artificial Intelligence', 'Photo & Video'): 1, ('Mac', 'Messaging', 'Social Network'): 1, ('Productivity', 'Remote Work', 'SaaS'): 1, ('Android', 'Meditation', 'Productivity'): 1, ('Meetings', 'Productivity', 'Tech'): 1, ('Android', 'Personal Finance'): 1, ('Productivity', 'Remote Work', 'Task Management'): 1, ('Newsletters', 'Startup Lessons', 'User Experience'): 1, ('Calendar', 'Productivity', 'Social Media'): 1, ('Artificial Intelligence', 'Investing'): 1, ('Artificial Intelligence', 'Hiring'): 1, ('Privacy', 'Productivity'): 1, ('Crypto', 'Games', 'Web3'): 1, ('Android', 'E-Commerce', 'iOS'): 1, ('Design Tools', 'Developer Tools', 'Mac'): 1, ('E-Commerce', 'Marketing', 'Newsletters'): 1, ('Android', 'News', 'iOS'): 1, ('Education', 'Side Project', 'Tech'): 1, ('Productivity', 'UX Design', 'User Experience'): 1, ('Developer Tools', 'Mac', 'Productivity'): 1, ('Chrome Extensions', 'Productivity', 'Social Media'): 1, ('3D Modeling', 'Augmented Reality', 'Design Tools'): 1, ('Design Tools', 'Productivity', 'Sales'): 1, ('Android', 'Privacy', 'Security'): 1, ('Books', 'Education', 'Kids'): 1, ('Developer Tools', 'Software Engineering', 'Web App'): 1, ('News', 'Social Network'): 1, ('Artificial Intelligence', 'Online Learning', 'Video'): 1, ('Community', 'Maker Tools', 'Web App'): 1, ('API', 'Business Intelligence', 'Data & Analytics'): 1, ('Business Travel', 'Events', 'Meetings'): 1, ('Chrome Extensions', 'Developer Tools', 'Website Builder'): 1, ('Artificial Intelligence', 'Social Media', 'Writing'): 1, ('Fitness', 'Health & Fitness', 'Streaming Services'): 1, ('Fashion', 'Health & Fitness', 'Sneakers & Shoes'): 1, ('Music', 'Web App'): 1, ('Artificial Intelligence', 'GitHub', 'Music'): 1, ('Developer Tools', 'Notes', 'Productivity'): 1, ('API', 'Prototyping', 'Web App'): 1, ('Branding', 'Freelance', 'Productivity'): 1, ('Adventure Games', 'NFT', 'Web3'): 1, ('Android', 'Cats', 'Dogs'): 1, ('Artificial Intelligence', 'E-Commerce', 'User Experience'): 1, ('Newsletters', 'Productivity'): 1, ('Android', 'Remote Work', 'iOS'): 1, ('Customer Communication', 'Customer Success', 'SaaS'): 1, ('Design', 'Fundraising', 'Startup Lessons'): 1, ('Artificial Intelligence', 'No-Code', 'Product Hunt'): 1, ('Notion', 'Social Media', 'Tech'): 1, ('Affiliate marketing', 'E-Commerce', 'Marketing attribution'): 1, ('Analytics', 'Business Intelligence', 'Data & Analytics'): 1, ('Marketing', 'SaaS', 'Writing'): 1, ('Biohacking', 'Climate Tech', 'Quantified Self'): 1, ('Email', 'Productivity', 'Sales'): 1, ('Artificial Intelligence', 'Bots', 'Twitter'): 1, ('Chrome Extensions', 'Email', 'Writing'): 1, ('Android', 'Apple Watch', 'Health & Fitness'): 1, ('Crypto', 'Cryptocurrency', 'Encryption'): 1, ('Artificial Intelligence', 'Internet of Things', 'Tech'): 1, ('Android', 'Messaging', 'Social Network'): 1, ('Developer Tools', 'Linux', 'Software Engineering'): 1, ('Android', 'Music', 'Weather'): 1, ('Business', 'Meetings', 'Social Network'): 1, ('Fintech', 'Web3'): 1, ('Crypto', 'Web3', 'Writing'): 1, ('Career', 'Design resources', 'UX Design'): 1, ('Education', 'Newsletters', 'eBook Reader'): 1, ('Developer Tools', 'GitHub', 'Productivity'): 1, ('Artificial Intelligence', 'Developer Tools', 'Software Engineering'): 1, ('API', 'Developer Tools', 'Writing'): 1, ('Design Tools', 'Illustration', 'Productivity'): 1, ('Illustration', 'Kids', 'School'): 1, ('GitHub', 'Software Engineering'): 1, ('Artificial Intelligence', 'Bots', 'Writing'): 1, ('Games', 'Puzzle Games'): 1, ('Artificial Intelligence', 'Bots', 'Customer Success'): 1, ('Notion', 'Social Media', 'Twitter'): 1, ('Artificial Intelligence', 'Messaging'): 1, ('Artificial Intelligence', 'Cooking', 'Food & Drink'): 1, ('Wallpaper', 'iOS'): 1, ('Artificial Intelligence', 'Design Tools', 'Interior design'): 1, ('Android', 'Meetings', 'Task Management'): 1, ('GitHub', 'Productivity', 'Wi-Fi'): 1, ('Artificial Intelligence', 'Photography', 'Privacy'): 1, ('Bots', 'Marketing', 'Productivity'): 1, ('Artificial Intelligence', 'Languages', 'Side Project'): 1, ('Artificial Intelligence', 'Bots'): 1, ('Bitcoin', 'Crypto', 'Fintech'): 1, ('Freelance', 'Productivity', 'Sales'): 1, ('Graphic Design', 'Graphics & Design', 'Logo Design'): 1, ('Hiring', 'Human Resources'): 1, ('Crypto', 'Investing', 'News'): 1, ('API', 'Developer Tools', 'SDK'): 1, ('Design Tools', 'Developer Tools', 'No-Code'): 1, ('Apple', 'Productivity', 'iOS'): 1, ('Music', 'Social Media'): 1, ('E-Commerce', 'Marketing', 'User Experience'): 1, ('Chrome Extensions', 'News', 'Productivity'): 1, ('Quantified Self', 'Web App'): 1, ('Android', 'Artificial Intelligence', 'Cell Phone'): 1, ('Analytics', 'Artificial Intelligence', 'Developer Tools'): 1, ('Business Books', 'Productivity', 'Science Books'): 1, ('Developer Tools', 'No-Code', 'Web App'): 1, ('Education', 'Free Games', 'Games'): 1, ('E-Commerce', 'Tech'): 1, ('Emoji', 'Games', 'iOS'): 1, ('Blockchain', 'DApp', 'Web3'): 1, ('Health & Fitness', 'Meditation', 'iOS'): 1, ('Design Tools', 'E-Commerce', 'Notion'): 1, ('Human Resources', 'Remote Work', 'SaaS'): 1, ('Fitness', 'Health & Fitness', 'iOS'): 1, ('Apple', 'Twitter', 'YouTube'): 1, ('Artificial Intelligence', 'No-Code', 'Pets'): 1, ('Art', 'Illustration', 'iOS'): 1, ('Finance', 'Money'): 1, ('Games', 'Sports Games'): 1, ('Artificial Intelligence', 'Customer Communication', 'Marketing'): 1, ('Developer Tools', 'SaaS', 'Web App'): 1, ('Messaging', 'Productivity', 'Slack'): 1, ('Maker Tools', 'No-Code', 'User Experience'): 1, ('Android', 'Entertainment', 'Funny'): 1, ('Storage', 'Web3'): 1, ('Meetings', 'Travel', 'Twitter'): 1, ('Calendar', 'Events', 'Social Networking'): 1, ('API', 'Developer Tools'): 1, ('Artificial Intelligence', 'No-Code', 'Social Media'): 1, ('Mac', 'Tech', 'Video'): 1, ('Maps', 'Social Media', 'Social Network'): 1, ('Analytics', 'Blockchain', 'Fintech'): 1, ('Health & Fitness', 'Lifestyle', 'Notion'): 1, ('Education', 'Games', 'Languages'): 1, ('Analytics', 'Design Tools', 'User Experience'): 1, ('CRM', 'Freelance', 'Productivity'): 1, ('Community', 'Influencer marketing', 'Marketing'): 1, ('Artificial Intelligence', 'Design Tools', 'User Experience'): 1, ('Design Tools', 'Maps', 'No-Code'): 1, ('Artificial Intelligence', 'Dating', 'SaaS'): 1, ('Design resources', 'Developer Tools', 'Icons'): 1, ('Human Resources', 'Productivity', 'SaaS'): 1, ('Community', 'Social Media', 'Social media marketing'): 1, ('Chrome Extensions', 'Notion', 'SEO'): 1, ('Analytics', 'Artificial Intelligence', 'Data Science'): 1, ('Developer Tools', 'WordPress'): 1, ('Software Engineering', 'Tech'): 1, ('Artificial Intelligence', 'Productivity', 'YouTube'): 1, ('Marketing', 'Newsletters', 'Productivity'): 1, ('Productivity', 'Tech', 'User Experience'): 1, ('Entertainment', 'Social Media', 'Twitter'): 1, ('Design Tools', 'Graphics & Design', 'Marketing'): 1, ('Chrome Extensions', 'Video', 'YouTube'): 1, ('Android', 'Artificial Intelligence', 'Writing'): 1, ('API', 'CRM', 'Database'): 1, ('Artificial Intelligence', 'E-Commerce'): 1, ('Android', 'iOS'): 1, ('Charity & Giving', 'Fintech', 'Social Impact'): 1, ('Change Management', 'Maker Tools', 'Task Management'): 1, ('Developer Tools', 'Productivity', 'SaaS'): 1, ('Medical', 'SaaS', 'YouTube'): 1, ('Meetings', 'Productivity', 'Video Streaming'): 1, ('Analytics', 'Data & Analytics', 'Developer Tools'): 1, ('E-Commerce', 'Shopping', 'Tech'): 1, ('Crypto', 'Marketing', 'SaaS'): 1, ('Artificial Intelligence', 'Photography'): 1, 'Music': 1, ('Android', 'Art', 'iOS'): 1, ('Health & Fitness', 'Notion', 'Quantified Self'): 1, ('Notes', 'Tech', 'Writing'): 1, ('Artificial Intelligence', 'SaaS', 'Venture Capital'): 1, ('Android', 'Global Nomad', 'Travel'): 1, 'Lifestyle': 1, ('Artificial Intelligence', 'Developer Tools', 'Social Networking'): 1, ('Writing', 'iOS'): 1, ('GitHub', 'Privacy', 'Windows'): 1, ('Artificial Intelligence', 'Business Intelligence', 'SaaS'): 1, ('Artificial Intelligence', 'Dating'): 1, ('Productivity', 'Twitter', 'User Experience'): 1, ('Artificial Intelligence', 'Bots', 'Marketing automation'): 1, ('Business Intelligence', 'Data & Analytics', 'Marketing'): 1, ('Artificial Intelligence', 'Search'): 1, ('Maker Tools', 'Productivity', 'Tech'): 1, ('Artificial Intelligence', 'Newsletters', 'Tech'): 1, ('Marketing', 'Productivity', 'Spreadsheets'): 1, ('Community', 'Marketing', 'Newsletters'): 1, ('Artificial Intelligence', 'Notes', 'Productivity'): 1, ('Design Tools', 'Marketing', 'Tech'): 1, ('Biohacking', 'Clothing', 'Health'): 1, ('Games', 'Social Media', 'Sports'): 1, ('Music', 'Notion', 'Productivity'): 1, ('Data', 'Email Marketing', 'Marketing'): 1, ('Business', 'Productivity', 'Tech'): 1, ('Artificial Intelligence', 'Community'): 1, ('Coding Books', 'Open Source', 'Tech'): 1, ('Design', 'Design Tools', 'Tech'): 1, ('Android', 'Productivity', 'Social Media'): 1, ('API', 'Chrome Extensions', 'Open Source'): 1, ('Growth Hacking', 'Marketing', 'SEO'): 1, ('Human Resources', 'Legal', 'SaaS'): 1, ('Apple', 'Artificial Intelligence', 'Fitness'): 1, ('Apple', 'Design Tools', 'Wallpaper'): 1, ('Career', 'Hiring', 'SaaS'): 1, ('Email', 'Email Marketing', 'Writing'): 1, ('Productivity', 'Tech', 'YouTube'): 1, ('Artificial Intelligence', 'Design Tools', 'Graphics & Design'): 1, ('Artificial Intelligence', 'Notion', 'SEO'): 1, ('Games', 'Mac', 'Simulation Games'): 1, ('Chrome Extensions', 'Crypto', 'GitHub'): 1, ('Artificial Intelligence', 'Education', 'Languages'): 1, ('DAO', 'Task Management', 'Web3'): 1, ('Ad Blockers', 'Productivity', 'Search'): 1, ('Notion', 'Productivity'): 1, ('Developer Tools', 'Productivity', 'Web App'): 1, ('Lifestyle', 'Spirituality', 'Time Tracking'): 1, ('Artificial Intelligence', 'Games'): 1, ('Food & Drink', 'SaaS', 'Sales'): 1, ('Apple', 'Home Automation', 'Music'): 1, ('Remote Work', 'Travel'): 1, ('API', 'Productivity', 'Spreadsheets'): 1, ('Android', 'Health & Fitness', 'Nutrition'): 1, ('Apple', 'Travel'): 1, ('Privacy', 'Sales', 'Security'): 1, ('Delivery', 'E-Commerce', 'SaaS'): 1, ('Career', 'Hiring'): 1, ('Growth Hacking', 'Marketing', 'SaaS'): 1, ('Productivity', 'Startup Books', 'User Experience'): 1, ('Dating', 'Social Network', 'Social Networking'): 1, ('Artificial Intelligence', 'Design Tools', 'Movies'): 1, ('API', 'Music', 'Tech'): 1, ('Board Games', 'RPGs'): 1, ('Productivity', 'SaaS'): 1, ('Global Nomad', 'Newsletters', 'Travel'): 1, ('Maker Tools', 'Product Hunt'): 1, ('Android', 'Social Media', 'iOS'): 1, ('Notes', 'Task Management'): 1, ('Data', 'Developer Tools', 'Tech'): 1, ('Artificial Intelligence', 'Design Tools', 'Tech'): 1, 'Consulting': 1, ('Artificial Intelligence', 'Languages', 'Online Learning'): 1, ('Artificial Intelligence', 'Email'): 1, ('Anonymous', 'Blockchain', 'Web3'): 1, ('Social Media', 'TV', 'iOS'): 1, ('Community', 'Newsletters', 'Sales'): 1, ('Analytics', 'Marketing', 'Social Media'): 1, ('Artificial Intelligence', 'Chrome Extensions', 'Freelance'): 1, ('Android', 'Marketing', 'Productivity'): 1, ('Photography', 'Social Media', 'iOS'): 1, ('DApp', 'Ethereum', 'Web3'): 1, ('Customer Communication', 'Marketing', 'Productivity'): 1, ('Crypto', 'Cryptocurrency'): 1, ('Chrome Extensions', 'Design Tools', 'Development'): 1, ('Fintech', 'Freelance', 'Productivity'): 1, ('Menu Bar Apps', 'Sales', 'User Experience'): 1, ('SaaS', 'Social Media', 'Tech'): 1, ('Marketing', 'SaaS', 'Sales'): 1, ('Babies', 'Kids & Parenting', 'Toddlers'): 1, ('Art', 'Artificial Intelligence', 'Photo editing'): 1, ('Artificial Intelligence', 'No-Code', 'Startup Lessons'): 1, ('Artificial Intelligence', 'Fitness', 'Health & Fitness'): 1, ('A/B Testing', 'Developer Tools', 'GitHub'): 1, ('Dogs', 'Education', 'Pets'): 1, ('Chrome Extensions', 'Hiring', 'Productivity'): 1, ('Design Tools', 'Productivity', 'Time Tracking'): 1, ('Marketing', 'Open Source', 'Tech'): 1, ('Maps', 'Social Media', 'Travel'): 1, ('Free Games', 'Games', 'iOS'): 1, ('E-Commerce', 'Fintech', 'SaaS'): 1, ('Fintech', 'Fundraising', 'Tech'): 1, ('Chrome Extensions', 'Design Tools', 'Productivity'): 1, ('Android', 'Notes', 'Productivity'): 1, ('API', 'Data & Analytics', 'No-Code'): 1, ('Career', 'Hiring', 'Productivity'): 1, ('Artificial Intelligence', 'No-Code', 'Twitter'): 1, ('Artificial Intelligence', 'Web App', 'Writing'): 1, ('Emulators', 'Games', 'Retro Games'): 1, ('Fintech', 'Games', 'Web3'): 1, ('Artificial Intelligence', 'Tech', 'Telegram'): 1, ('Lifestyle', 'Productivity', 'iOS'): 1, ('Design Tools', 'Developer Tools'): 1, ('API', 'Developer Tools', 'NFT'): 1, ('Health & Fitness', 'Sports', 'Travel'): 1, ('Photography', 'Remote Work', 'Web App'): 1, ('Personal shopper', 'Shopping'): 1, ('Community', 'Marketing', 'Web3'): 1, ('Education', 'Online Learning', 'Tech'): 1, ('Productivity', 'Remote Work', 'Writing'): 1, ('Analytics', 'Privacy', 'Productivity'): 1, ('Chat rooms', 'Messaging', 'Social Media'): 1, ('Social Media', 'Social Network', 'Tech'): 1, ('Android', 'Games', 'Indie Games'): 1, ('Art', 'Artificial Intelligence', 'Printing'): 1, ('Analytics', 'Design Tools', 'Prototyping'): 1, ('Bots', 'Customer Communication', 'Customer Success'): 1, ('Design Tools', 'Developer Tools', 'Writing'): 1, ('Diversity & Inclusion', 'Freelance', 'Tech'): 1, ('Health', 'Health & Fitness', 'Medical'): 1, ('Artificial Intelligence', 'Growth Hacking', 'LinkedIn'): 1, 'Human Resources': 1, ('Artificial Intelligence', 'Email Marketing', 'Notion'): 1, ('Marketing', 'SaaS', 'Web App'): 1, ('Funny', 'Funny Games', 'Tech'): 1, 'Retro Games': 1, ('Artificial Intelligence', 'Data & Analytics', 'Spreadsheets'): 1, ('Audio', 'Funny', 'Spotify'): 1, ('Career', 'Hiring', 'Writing'): 1, ('Android', 'Digital Art', 'Web3'): 1, ('Artificial Intelligence', 'Dating', 'Virtual Assistants'): 1, ('LinkedIn', 'Marketing', 'Sales'): 1, ('Crypto', 'Fintech', 'Payments'): 1, 'Android': 1}\n",
      "(991, 2)\n"
     ]
    },
    {
     "data": {
      "text/html": [
       "<div>\n",
       "<style scoped>\n",
       "    .dataframe tbody tr th:only-of-type {\n",
       "        vertical-align: middle;\n",
       "    }\n",
       "\n",
       "    .dataframe tbody tr th {\n",
       "        vertical-align: top;\n",
       "    }\n",
       "\n",
       "    .dataframe thead th {\n",
       "        text-align: right;\n",
       "    }\n",
       "</style>\n",
       "<table border=\"1\" class=\"dataframe\">\n",
       "  <thead>\n",
       "    <tr style=\"text-align: right;\">\n",
       "      <th></th>\n",
       "      <th>topic</th>\n",
       "      <th>frequency</th>\n",
       "    </tr>\n",
       "  </thead>\n",
       "  <tbody>\n",
       "    <tr>\n",
       "      <th>0</th>\n",
       "      <td>(Artificial Intelligence, Productivity, Tech)</td>\n",
       "      <td>13</td>\n",
       "    </tr>\n",
       "    <tr>\n",
       "      <th>1</th>\n",
       "      <td>Artificial Intelligence</td>\n",
       "      <td>11</td>\n",
       "    </tr>\n",
       "    <tr>\n",
       "      <th>2</th>\n",
       "      <td>Productivity</td>\n",
       "      <td>10</td>\n",
       "    </tr>\n",
       "    <tr>\n",
       "      <th>3</th>\n",
       "      <td>(Developer Tools, Productivity, Tech)</td>\n",
       "      <td>10</td>\n",
       "    </tr>\n",
       "    <tr>\n",
       "      <th>4</th>\n",
       "      <td>(Android, Productivity, iOS)</td>\n",
       "      <td>8</td>\n",
       "    </tr>\n",
       "  </tbody>\n",
       "</table>\n",
       "</div>"
      ],
      "text/plain": [
       "                                           topic  frequency\n",
       "0  (Artificial Intelligence, Productivity, Tech)         13\n",
       "1                        Artificial Intelligence         11\n",
       "2                                   Productivity         10\n",
       "3          (Developer Tools, Productivity, Tech)         10\n",
       "4                   (Android, Productivity, iOS)          8"
      ]
     },
     "execution_count": 83,
     "metadata": {},
     "output_type": "execute_result"
    }
   ],
   "source": [
    "topic_frequency = df['topics'].apply(lambda x: tuple(sorted(set(x.split(', '))))).value_counts()\n",
    "\n",
    "freq = {}\n",
    "# # Display the result\n",
    "for topic_group, frequency in topic_frequency.items():\n",
    "    freq[topic_group]= frequency\n",
    "\n",
    "# Create a new dictionary to store the modified keys\n",
    "Topic_grq_frq = {}\n",
    "# Iterate through the original dictionary\n",
    "for key, value in freq.items():\n",
    "    # Check if the key is a tuple\n",
    "    if isinstance(key, tuple):\n",
    "        # Remove the trailing comma by converting the tuple to a single-element tuple\n",
    "        modified_key = key[0] if len(key) == 1 else key\n",
    "        Topic_grq_frq[modified_key] = value\n",
    "    else:\n",
    "        # If the key is not a tuple, simply copy it to the modified dictionary\n",
    "        Topic_grq_frq[key] = value\n",
    "\n",
    "print(Topic_grq_frq)\n",
    "# Convert the dictionary to a DataFrame\n",
    "Topic_grq_frq_df = pd.DataFrame(Topic_grq_frq.items(), columns=['topic', 'frequency'])\n",
    "print(Topic_grq_frq_df.shape)\n",
    "Topic_grq_frq_df.head()"
   ]
  },
  {
   "cell_type": "markdown",
   "metadata": {},
   "source": [
    "### Bar plot of the Top 6 Topic Groups"
   ]
  },
  {
   "cell_type": "code",
   "execution_count": 84,
   "metadata": {},
   "outputs": [
    {
     "data": {
      "image/png": "[encoded data removed]",
      "text/plain": [
       "<Figure size 720x432 with 1 Axes>"
      ]
     },
     "metadata": {
      "needs_background": "light"
     },
     "output_type": "display_data"
    }
   ],
   "source": [
    "\n",
    "# Step 2: Sort the DataFrame by 'Frequency' in descending order\n",
    "df_sorted = Topic_grq_frq_df.sort_values(by='frequency', ascending=False)\n",
    "\n",
    "# Step 3: Calculate the threshold for the highest 50% of the data\n",
    "threshold = df_sorted['frequency'].quantile(0.9949)\n",
    "\n",
    "# Step 4: Filter the DataFrame to keep only the rows with frequencies greater than the threshold\n",
    "df_filtered = df_sorted[df_sorted['frequency'] > threshold]\n",
    "\n",
    "# Step 5: Create the bar plot using Seaborn\n",
    "plt.figure(figsize=(10, 6))\n",
    "sns.barplot(x='frequency', y='topic', data=df_filtered, palette='viridis', dodge=False) # Add dodge=False to increase bar spacing\n",
    "plt.xlabel('frequency')\n",
    "plt.ylabel('topic')\n",
    "plt.title('Bar plot of the Top 6 Topic Groups')\n",
    "\n",
    "# Rotate the y-axis labels for better readability\n",
    "# plt.yticks(rotation=45)\n",
    "\n",
    "plt.tight_layout()  # Adjust layout to prevent overlap\n",
    "plt.show()"
   ]
  },
  {
   "cell_type": "markdown",
   "metadata": {},
   "source": [
    "## Extracting the frequencies of individual topics "
   ]
  },
  {
   "cell_type": "code",
   "execution_count": 85,
   "metadata": {},
   "outputs": [
    {
     "name": "stdout",
     "output_type": "stream",
     "text": [
      "\n",
      "List of all topics (all_topics):\n",
      "['Search', 'Design Tools', 'Marketing', 'Tech', 'Productivity', 'Hiring', 'Artificial Intelligence', 'Productivity', 'Privacy', 'Crypto', 'Games', 'Web3', 'Android', 'iOS', 'E-Commerce', 'Productivity', 'Task Management', 'SaaS', 'Mac', 'Design Tools', 'Developer Tools', 'Newsletters', 'Marketing', 'E-Commerce', 'Android', 'iOS', 'News', 'Education', 'Tech', 'Side Project', 'Productivity', 'Open Source', 'GitHub', 'Productivity', 'User Experience', 'UX Design', 'Mac', 'Productivity', 'Developer Tools', 'Productivity', 'Marketing', 'Artificial Intelligence', 'Chrome Extensions', 'Productivity', 'Social Media', 'Productivity', 'Marketing', 'Developer Tools', 'Design Tools', 'Augmented Reality', '3D Modeling', 'Design Tools', 'Productivity', 'Sales', 'Messaging', 'Artificial Intelligence', 'Bots', 'Fintech', 'Investing', 'Android', 'Privacy', 'Security', 'Kids', 'Education', 'Books', 'Web App', 'Software Engineering', 'Developer Tools', 'News', 'Social Network', 'Artificial Intelligence', 'Online Learning', 'Video', 'Web App', 'Maker Tools', 'Community', 'Productivity', 'Social Media', 'Marketing', 'SaaS', 'Artificial Intelligence', 'API', 'Data & Analytics', 'Business Intelligence', 'Productivity', 'Artificial Intelligence', 'Tech', 'Events', 'Meetings', 'Business Travel', 'Android', 'Productivity', 'Tech', 'Chrome Extensions', 'Website Builder', 'Developer Tools', 'Writing', 'Social Media', 'Artificial Intelligence', 'Investing', 'Artificial Intelligence', 'Productivity', 'Social Media', 'Calendar', 'Newsletters', 'User Experience', 'Startup Lessons', 'Productivity', 'Task Management', 'Remote Work', 'Android', 'Productivity', 'Task Management', 'Funny', 'Notes', 'Dating', 'E-Commerce', 'Events', 'Dating', 'Social Media', 'User Experience', 'Developer Tools', 'GitHub', 'Artificial Intelligence', 'Home Automation', 'Marketing automation', 'Messaging', 'Open Source', 'Languages', 'Writing', 'Marketing', 'Menu Bar Apps', 'Virtual Reality', 'Developer Tools', 'GitHub', 'Productivity', 'Developer Tools', 'Artificial Intelligence', 'Productivity', 'Developer Tools', 'Tech', 'Web App', 'Languages', 'Online Learning', 'Social Media', 'Android', 'Education', 'Tech', 'Android', 'Health & Fitness', 'Music', 'Android', 'Productivity', 'Fintech', 'SEO', 'SaaS', 'Video Streaming', 'API', 'Meetings', 'Chrome Extensions', 'Artificial Intelligence', 'Search', 'Analytics', 'First Person Shooter', 'Games', 'Health & Fitness', 'Climate Tech', 'Food & Drink', 'Productivity', 'Software Engineering', 'Developer Tools', 'Artificial Intelligence', 'Career', 'Productivity', 'SaaS', 'Artificial Intelligence', 'Payments', 'SaaS', 'No-Code', 'Artificial Intelligence', 'Fitness', 'Artificial Intelligence', 'Photo & Video', 'Mac', 'Messaging', 'Social Network', 'Productivity', 'SaaS', 'Remote Work', 'Android', 'Productivity', 'Meditation', 'Productivity', 'Meetings', 'Tech', 'Android', 'Personal Finance', 'Health & Fitness', 'Streaming Services', 'Fitness', 'Software Engineering', 'Developer Tools', 'Development', 'Health & Fitness', 'Sneakers & Shoes', 'Fashion', 'E-Commerce', 'Marketing attribution', 'Affiliate marketing', 'UX Design', 'Design resources', 'Career', 'Artificial Intelligence', 'Artificial Intelligence', 'eBook Reader', 'Newsletters', 'Education', 'Productivity', 'Developer Tools', 'GitHub', 'Software Engineering', 'Developer Tools', 'Artificial Intelligence', 'API', 'Writing', 'Developer Tools', 'Design Tools', 'Productivity', 'Illustration', 'Kids', 'Illustration', 'School', 'Software Engineering', 'GitHub', 'Writing', 'Artificial Intelligence', 'Bots', 'Developer Tools', 'Artificial Intelligence', 'Tech', 'Productivity', 'User Experience', 'Artificial Intelligence', 'Puzzle Games', 'Games', 'Customer Success', 'Artificial Intelligence', 'Bots', 'Twitter', 'Social Media', 'Notion', 'Messaging', 'Artificial Intelligence', 'Cooking', 'Artificial Intelligence', 'Food & Drink', 'iOS', 'Wallpaper', 'Design Tools', 'Artificial Intelligence', 'Interior design', 'Android', 'Task Management', 'Meetings', 'Productivity', 'GitHub', 'Wi-Fi', 'Privacy', 'Photography', 'Artificial Intelligence', 'Productivity', 'Marketing', 'Bots', 'Developer Tools', 'Artificial Intelligence', 'Database', 'Hiring', 'Artificial Intelligence', 'Career', 'Languages', 'Artificial Intelligence', 'Side Project', 'Artificial Intelligence', 'Bots', 'SaaS', 'Fintech', 'Crypto', 'Bitcoin', 'Productivity', 'Task Management', 'Notion', 'Writing', 'Crypto', 'Web3', 'Productivity', 'No-Code', 'Fintech', 'Web3', 'Social Network', 'Meetings', 'Business', 'Android', 'iOS', 'Health & Fitness', 'Developer Tools', 'No-Code', 'Android', 'Music', 'Weather', 'Chrome Extensions', 'Productivity', 'SaaS', 'Productivity', 'Notes', 'Developer Tools', 'Web App', 'API', 'Prototyping', 'Productivity', 'Freelance', 'Branding', 'Adventure Games', 'Web3', 'NFT', 'Productivity', 'Task Management', 'Calendar', 'Android', 'Dogs', 'Cats', 'User Experience', 'Artificial Intelligence', 'E-Commerce', 'Productivity', 'Newsletters', 'Android', 'iOS', 'Remote Work', 'Customer Success', 'Customer Communication', 'SaaS', 'Productivity', 'Developer Tools', 'Tech', 'Startup Lessons', 'Fundraising', 'Design', 'News', 'Newsletters', 'Artificial Intelligence', 'Artificial Intelligence', 'Product Hunt', 'No-Code', 'Music', 'Artificial Intelligence', 'GitHub', 'Productivity', 'Artificial Intelligence', 'Tech', 'Social Media', 'Tech', 'Notion', 'Analytics', 'Data & Analytics', 'Business Intelligence', 'Writing', 'Marketing', 'SaaS', 'Biohacking', 'Climate Tech', 'Quantified Self', 'Email', 'Productivity', 'Sales', 'Artificial Intelligence', 'Twitter', 'Artificial Intelligence', 'Bots', 'Productivity', 'Marketing', 'Artificial Intelligence', 'Writing', 'Marketing', 'Artificial Intelligence', 'Chrome Extensions', 'Email', 'Writing', 'Crypto', 'Web3', 'NFT', 'Android', 'Apple Watch', 'Health & Fitness', 'Crypto', 'Cryptocurrency', 'Encryption', 'Internet of Things', 'Artificial Intelligence', 'Tech', 'Hiring', 'Productivity', 'SaaS', 'Android', 'Messaging', 'Social Network', 'Linux', 'Software Engineering', 'Developer Tools', 'Web App', 'Music', 'Task Management', 'Productivity', 'Artificial Intelligence', 'Productivity', 'Marketing', 'Artificial Intelligence', 'Web App', 'Productivity', 'Artificial Intelligence', 'Chrome Extensions', 'Productivity', 'Artificial Intelligence', 'Design Tools', 'API', 'Developer Tools', 'Design Tools', 'Productivity', 'WordPress', 'Productivity', 'No-Code', 'Customer Success', 'Open Source', 'Developer Tools', 'Open Source', 'Developer Tools', 'Tech', 'Twitter', 'Productivity', 'Crypto', 'Web3', 'Blockchain', 'Web App', 'Open Source', 'Writing', 'API', 'Wearables', 'Developer Tools', 'Design Tools', 'Productivity', 'Artificial Intelligence', 'Productivity', 'Artificial Intelligence', 'Online Learning', 'Social Media', 'Marketing', 'Social media marketing', 'Fintech', 'Investing', 'Personal Finance', 'Art', 'Movies', 'Productivity', 'Task Management', 'Web App', 'Memes', 'NFT', 'Browser Extensions', 'Productivity', 'Security', 'Open Source', 'Developer Tools', 'Development', 'Nintendo', 'iOS', 'Entertainment', 'API', 'Crypto', 'Developer Tools', 'Art', 'Artificial Intelligence', 'Pokemon', 'Productivity', 'Messaging', 'Artificial Intelligence', 'Funny', 'User Experience', 'Entertainment', 'Productivity', 'Menu Bar Apps', 'Security', 'Spreadsheets', 'No-Code', 'Data', 'Open Source', 'Education', 'Tech', 'Chrome Extensions', 'Amazon', 'E-Commerce', 'Hiring', 'Online Learning', 'Career', 'Artificial Intelligence', 'iOS', 'Health & Fitness', 'Apple', 'Sales', 'SaaS', 'Developer Tools', 'Productivity', 'Education', 'Online Learning', 'Web App', 'Free Games', 'Analytics', 'SaaS', 'Data & Analytics', 'Hiring', 'Design Tools', 'NFT', 'User Experience', 'Crypto', 'Web3', 'Android', 'Health & Fitness', 'Social Media', 'Open Source', 'Software Engineering', 'Developer Tools', 'Productivity', 'Writing', 'Artificial Intelligence', 'Android', 'iOS', 'Health & Fitness', 'Free Games', 'Funny Games', 'Tech', 'Productivity', 'SaaS', 'Tech', 'Fintech', 'Legal', 'Android', 'Productivity', 'Artificial Intelligence', 'Android', 'Alarms', 'Meetings', 'SaaS', 'Marketing', 'Maker Tools', 'Growth Hacks ', 'Artificial Intelligence', 'Bots', 'Search', 'Web App', 'Productivity', 'Tech', 'Windows', 'Mac', 'Education', 'Slack', 'Productivity', 'Bots', 'Twitter', 'Social Networking', 'Productivity', 'User Experience', 'Artificial Intelligence', 'Chrome Extensions', 'Productivity', 'Sales', 'Cryptocurrency', 'Blockchain', 'DeFi', 'Android', 'iOS', 'Productivity', 'Music', 'Artificial Intelligence', 'Bots', 'Productivity', 'Open Source', 'No-Code', 'Fintech', 'Investing', 'Personal Finance', 'Web App', 'Developer Tools', 'Development', 'Hiring', 'Consulting', 'Human Resources', 'Developer Tools', 'GitHub', 'Productivity', 'Spreadsheets', 'SaaS', 'Books', 'Design Tools', 'Marketing', 'Notion', 'Android', 'API', 'Artificial Intelligence', 'Payments', 'Marketing', 'Notion', 'iOS', 'Weather', 'Fitness', 'Instagram', 'Artificial Intelligence', 'E-Commerce', 'E-Commerce', 'Shopping', 'Social media marketing', 'Productivity', 'SaaS', 'Legal', 'Android', 'Fintech', 'Payments', 'Productivity', 'Task Management', 'Time Tracking', 'Web App', 'Education', 'Languages', 'SaaS', 'Software Engineering', 'Tech', 'Artificial Intelligence', 'Maps', 'Chrome Extensions', 'Productivity', 'Privacy', 'API', 'Open Source', 'Fintech', 'E-Commerce', 'Growth Hacks ', 'Marketing automation', 'Tech', 'Human Resources', 'Design', 'Design templates', 'Notion', 'Education', 'Artificial Intelligence', 'Online Learning', 'Health & Fitness', 'Cooking', 'Artificial Intelligence', 'Marketing', 'SaaS', 'Bots', 'Health & Fitness', 'Productivity', 'Meditation', 'Social Network', 'Social Media', 'Social Networking', 'Productivity', 'Artificial Intelligence', 'Human Resources', 'Open Source', 'Time Tracking', 'GitHub', 'Slack', 'Games', 'Human Resources', 'Productivity', 'Music', 'iOS', 'Web App', 'Health & Fitness', 'Productivity', 'News', 'Newsletters', 'Artificial Intelligence', 'Data & Analytics', 'Data Science', 'Web App', 'Messaging', 'Marketing', 'Design Tools', 'Productivity', 'Artificial Intelligence', 'Productivity', 'Artificial Intelligence', 'Remote Work', 'Productivity', 'Web3', 'Community', 'Fintech', 'Money', 'Personal Finance', 'Social Media', 'Marketing', 'Email', 'Productivity', 'Artificial Intelligence', 'Productivity', 'Growth Hacks ', 'No-Code', 'Mac', 'Productivity', 'Menu Bar Apps', 'Design Tools', 'Productivity', 'Marketing', 'Artificial Intelligence', 'Tech', 'Digital Art', 'Design Tools', 'User Experience', 'Design', 'Health & Fitness', 'Crowdfunding', 'Wearables', 'Artificial Intelligence', 'Career', 'Productivity', 'Analytics', 'Developer Tools', 'News', 'Politics', 'Artificial Intelligence', 'Health & Fitness', 'Nutrition', 'Fitness', 'API', 'Developer Tools', 'Artificial Intelligence', 'Web App', 'Education', 'Business', 'Productivity', 'Tech', 'Notion', 'Artificial Intelligence', 'Tech', 'Health & Fitness', 'Amazon', 'Fintech', 'Education', 'Music', 'Free Games', 'Games', 'Couples', 'Artificial Intelligence', 'Tech', 'Android', 'Productivity', 'Artificial Intelligence', 'Movies', 'Streaming Services', 'Artificial Intelligence', 'Chrome Extensions', 'Productivity', 'Artificial Intelligence', 'Analytics', 'Marketing', 'Artificial Intelligence', 'Tech', 'Payments', 'Web3', 'Cryptocurrency', 'SaaS', 'Tech', 'Community', 'Chrome Extensions', 'Social Media', 'Bots', 'Social Network', 'Social Media', 'Social Networking', 'Events', 'Live Events', 'Email Marketing', 'Calendar', 'E-Commerce', 'Education', 'Software Engineering', 'User Experience', 'Design', 'UX Design', 'Fintech', 'Crypto', 'Privacy', 'Slack', 'Productivity', 'Developer Tools', 'Productivity', 'Marketing', 'Tech', 'Productivity', 'Artificial Intelligence', 'Tech', 'Productivity', 'Internet of Things', 'GitHub', 'Hiring', 'Productivity', 'Music', 'Education', 'SEO', 'Developer Tools', 'No-Code', 'Chrome Extensions', 'Productivity', 'Spreadsheets', 'iOS', 'Design Tools', 'Artificial Intelligence', 'iOS', 'Video Streaming', 'Video', 'Word Games', 'Games', 'Messaging', 'API', 'Marketing', 'iOS', 'Artificial Intelligence', 'Tech', 'Open Source', 'Developer Tools', 'GitHub', 'Web3', 'Cryptocurrency', 'API', 'Open Source', 'User Experience', 'Events', 'E-Commerce', 'Ticketing', 'Marketing', 'SaaS', 'Business', 'Fintech', 'Money', 'Personal Finance', 'Messaging', 'API', 'Design Tools', 'Photography', 'Artificial Intelligence', 'Productivity', 'Marketing', 'Tech', 'Photography', 'Artificial Intelligence', 'E-Commerce', 'Android', 'iOS', 'Productivity', 'Web App', 'Website Builder', 'No-Code', 'Productivity', 'Sales', 'Freelance', 'Graphics & Design', 'Graphic Design', 'Logo Design', 'Hiring', 'Human Resources', 'Chrome Extensions', 'Productivity', 'Developer Tools', 'Productivity', 'Newsletters', 'Marketing', 'Productivity', 'Marketing', 'Artificial Intelligence', 'Product Hunt', 'Maker Tools', 'Android', 'iOS', 'Social Media', 'Task Management', 'Notes', 'Hiring', 'Human Resources', 'Career', 'Developer Tools', 'Tech', 'Data', 'Mac', 'Menu Bar Apps', 'Apple', 'Design Tools', 'Artificial Intelligence', 'Tech', 'Productivity', 'Task Management', 'Notion', 'Consulting', 'Languages', 'Artificial Intelligence', 'Online Learning', 'Email', 'Artificial Intelligence', 'Analytics', 'Marketing', 'SaaS', 'Anonymous', 'Web3', 'Blockchain', 'iOS', 'Social Media', 'TV', 'Productivity', 'Social Media', 'Marketing', 'Slack', 'Productivity', 'Bots', 'Sales', 'Newsletters', 'Community', 'Social Media', 'Analytics', 'Marketing', 'Chrome Extensions', 'Freelance', 'Artificial Intelligence', 'Email', 'Productivity', 'Artificial Intelligence', 'Android', 'Productivity', 'Marketing', 'iOS', 'Social Media', 'Photography', 'Web3', 'Ethereum', 'DApp', 'Productivity', 'Customer Communication', 'Marketing', 'Crypto', 'Cryptocurrency', 'Productivity', 'Artificial Intelligence', 'Tech', 'Chrome Extensions', 'Design Tools', 'Development', 'Productivity', 'Education', 'Artificial Intelligence', 'Productivity', 'Freelance', 'Fintech', 'Sales', 'User Experience', 'Menu Bar Apps', 'Social Media', 'SaaS', 'Tech', 'Sales', 'Marketing', 'SaaS', 'Newsletters', 'Global Nomad', 'Travel', 'Fintech', 'Investing', 'Health & Fitness', 'Health', 'Fitness', 'Productivity', 'SaaS', 'Board Games', 'RPGs', 'Productivity', 'Calendar', 'Music', 'API', 'Tech', 'Design Tools', 'Productivity', 'User Experience', 'Design Tools', 'Artificial Intelligence', 'Graphics & Design', 'Art', 'Photography', 'Artificial Intelligence', 'Sales', 'Artificial Intelligence', 'Notion', 'SEO', 'Artificial Intelligence', 'Notion', 'Design Tools', 'Art', 'Artificial Intelligence', 'Sales', 'Artificial Intelligence', 'Notion', 'Productivity', 'Task Management', 'Notion', 'Mac', 'Simulation Games', 'Games', 'Productivity', 'User Experience', 'Developer Tools', 'Productivity', 'Artificial Intelligence', 'Tech', 'Chrome Extensions', 'Crypto', 'GitHub', 'Education', 'Languages', 'Artificial Intelligence', 'Task Management', 'Web3', 'DAO', 'Android', 'Productivity', 'Artificial Intelligence', 'Productivity', 'Task Management', 'Notion', 'Productivity', 'Ad Blockers', 'Search', 'Slack', 'Productivity', 'Artificial Intelligence', 'Productivity', 'Notion', 'Web App', 'Productivity', 'Developer Tools', 'Time Tracking', 'Lifestyle', 'Spirituality', 'Artificial Intelligence', 'Games', 'Artificial Intelligence', 'Productivity', 'YouTube', 'Tech', 'Sales', 'SaaS', 'Food & Drink', 'Travel', 'Remote Work', 'Developer Tools', 'Artificial Intelligence', 'Bots', 'Productivity', 'API', 'Spreadsheets', 'Android', 'Health & Fitness', 'Nutrition', 'Travel', 'Apple', 'Sales', 'Privacy', 'Security', 'SaaS', 'Delivery', 'E-Commerce', 'Hiring', 'Career', 'Productivity', 'Developer Tools', 'Artificial Intelligence', 'Marketing', 'Growth Hacking', 'SaaS', 'Productivity', 'User Experience', 'Startup Books', 'Writing', 'Artificial Intelligence', 'Tech', 'Social Network', 'Dating', 'Social Networking', 'Design Tools', 'Movies', 'Artificial Intelligence', 'User Experience', 'Developer Tools', 'Tech', 'Kids & Parenting', 'Toddlers', 'Babies', 'Art', 'Artificial Intelligence', 'Photo editing', 'Artificial Intelligence', 'Startup Lessons', 'No-Code', 'Education', 'Tech', 'Online Learning', 'Productivity', 'Analytics', 'Privacy', 'Messaging', 'Social Media', 'Chat rooms', 'Hiring', 'Human Resources', 'Career', 'Productivity', 'Social Network', 'Social Media', 'Tech', 'Android', 'iOS', 'Productivity', 'Android', 'Indie Games', 'Games', 'Art', 'Artificial Intelligence', 'Printing', 'Design Tools', 'Analytics', 'Prototyping', 'Customer Success', 'Customer Communication', 'Bots', 'Design Tools', 'Writing', 'Developer Tools', 'Freelance', 'Tech', 'Diversity & Inclusion', 'Health & Fitness', 'Medical', 'Health', 'Growth Hacking', 'Artificial Intelligence', 'LinkedIn', 'API', 'Crypto', 'Developer Tools', 'Human Resources', 'Email Marketing', 'Artificial Intelligence', 'Notion', 'Web App', 'Marketing', 'SaaS', 'Funny', 'Funny Games', 'Tech', 'Retro Games', 'Productivity', 'Tech', 'Notion', 'Spreadsheets', 'Artificial Intelligence', 'Data & Analytics', 'Artificial Intelligence', 'Funny', 'Spotify', 'Audio', 'Productivity', 'News', 'Newsletters', 'Open Source', 'Developer Tools', 'Tech', 'Hiring', 'Writing', 'Career', 'Android', 'Web3', 'Digital Art', 'Dating', 'Artificial Intelligence', 'Virtual Assistants', 'Sales', 'Marketing', 'LinkedIn', 'Fintech', 'Payments', 'Crypto', 'Productivity', 'Writing', 'Remote Work', 'Design Tools', 'Productivity', 'Marketing', 'Web3', 'Community', 'Writing', 'Artificial Intelligence', 'Tech', 'Health & Fitness', 'Artificial Intelligence', 'Fitness', 'Shopping', 'Personal shopper', 'Design Tools', 'Art', 'Artificial Intelligence', 'A/B Testing', 'Developer Tools', 'GitHub', 'Dogs', 'Pets', 'Education', 'Productivity', 'Marketing', 'Tech', 'Chrome Extensions', 'Hiring', 'Productivity', 'Design Tools', 'Productivity', 'Time Tracking', 'Open Source', 'Marketing', 'Tech', 'Social Media', 'Travel', 'Maps', 'iOS', 'Free Games', 'Games', 'Fintech', 'SaaS', 'E-Commerce', 'Fintech', 'Tech', 'Fundraising', 'Productivity', 'Artificial Intelligence', 'Android', 'iOS', 'Developer Tools', 'Chrome Extensions', 'Productivity', 'Developer Tools', 'Chrome Extensions', 'Design Tools', 'Productivity', 'Android', 'Productivity', 'Notes', 'Productivity', 'API', 'No-Code', 'Data & Analytics', 'Writing', 'Marketing', 'Artificial Intelligence', 'Productivity', 'SaaS', 'Artificial Intelligence', 'Hiring', 'Productivity', 'Career', 'Twitter', 'Artificial Intelligence', 'No-Code', 'Web App', 'Writing', 'Artificial Intelligence', 'Android', 'iOS', 'Developer Tools', 'Retro Games', 'Emulators', 'Games', 'Fintech', 'Games', 'Web3', 'Telegram', 'Artificial Intelligence', 'Tech', 'iOS', 'Productivity', 'Lifestyle', 'Design Tools', 'Developer Tools', 'API', 'Developer Tools', 'NFT', 'Health & Fitness', 'Sports', 'Travel', 'Writing', 'Marketing', 'Artificial Intelligence', 'Web App', 'Photography', 'Remote Work', 'Music', 'Home Automation', 'Apple', 'Email', 'Writing', 'Email Marketing', 'Artificial Intelligence', 'Hiring', 'SaaS', 'Career', 'Productivity', 'Task Management', 'Notion', 'Productivity', 'Writing', 'Artificial Intelligence', 'Design Tools', 'Wallpaper', 'Apple', 'Android', 'Funny', 'Entertainment', 'Storage', 'Web3', 'Hiring', 'Artificial Intelligence', 'Career', 'Twitter', 'Travel', 'Meetings', 'Events', 'Calendar', 'Social Networking', 'API', 'Developer Tools', 'Design Tools', 'Productivity', 'Social Media', 'Social Media', 'Artificial Intelligence', 'No-Code', 'Mac', 'Tech', 'Video', 'Social Media', 'Marketing', 'Artificial Intelligence', 'Social Network', 'Social Media', 'Maps', 'Artificial Intelligence', 'Tech', 'Social Media', 'Marketing', 'Fintech', 'Analytics', 'Blockchain', 'Android', 'iOS', 'Developer Tools', 'Design Tools', 'Health & Fitness', 'Lifestyle', 'Notion', 'Chrome Extensions', 'Productivity', 'Education', 'Languages', 'Games', 'Messaging', 'Customer Communication', 'Marketing', 'Design Tools', 'User Experience', 'Analytics', 'Productivity', 'Freelance', 'CRM', 'Marketing', 'Influencer marketing', 'Community', 'Design Tools', 'User Experience', 'Artificial Intelligence', 'Mac', 'Productivity', 'Menu Bar Apps', 'Design Tools', 'Maps', 'No-Code', 'Dating', 'SaaS', 'Artificial Intelligence', 'Chrome Extensions', 'Productivity', 'Artificial Intelligence', 'Icons', 'Developer Tools', 'Design resources', 'Productivity', 'Messaging', 'Artificial Intelligence', 'Productivity', 'SaaS', 'Human Resources', 'Social Media', 'Social media marketing', 'Community', 'Chrome Extensions', 'SEO', 'Notion', 'Analytics', 'Artificial Intelligence', 'Data Science', 'Email', 'Productivity', 'Artificial Intelligence', 'WordPress', 'Developer Tools', 'User Experience', 'Maker Tools', 'No-Code', 'Slack', 'Productivity', 'Messaging', 'Web App', 'SaaS', 'Developer Tools', 'Customer Communication', 'Marketing', 'Artificial Intelligence', 'API', 'Developer Tools', 'SDK', 'Design Tools', 'Developer Tools', 'No-Code', 'iOS', 'Productivity', 'Apple', 'Music', 'Social Media', 'Open Source', 'Software Engineering', 'Developer Tools', 'User Experience', 'Marketing', 'E-Commerce', 'Chrome Extensions', 'Productivity', 'News', 'Web App', 'Quantified Self', 'SaaS', 'Artificial Intelligence', 'Android', 'Artificial Intelligence', 'Cell Phone', 'Artificial Intelligence', 'Analytics', 'Developer Tools', 'Artificial Intelligence', 'Productivity', 'Science Books', 'Business Books', 'Design Tools', 'Productivity', 'Notion', 'Web App', 'Developer Tools', 'No-Code', 'News', 'Investing', 'Crypto', 'Artificial Intelligence', 'Free Games', 'Education', 'Games', 'iOS', 'Emoji', 'Games', 'Web3', 'DApp', 'Blockchain', 'iOS', 'Health & Fitness', 'Meditation', 'Design Tools', 'E-Commerce', 'Notion', 'SaaS', 'Remote Work', 'Human Resources', 'iOS', 'Health & Fitness', 'Fitness', 'Twitter', 'YouTube', 'Apple', 'Health & Fitness', 'Health', 'Fitness', 'Chrome Extensions', 'Productivity', 'Pets', 'Artificial Intelligence', 'No-Code', 'Developer Tools', 'Tech', 'iOS', 'Art', 'Illustration', 'Money', 'Finance', 'Design Tools', 'Photography', 'Artificial Intelligence', 'Sports Games', 'Games', 'Software Engineering', 'Tech', 'E-Commerce', 'Tech', 'Software Engineering', 'Developer Tools', 'Tech', 'Productivity', 'Task Management', 'Productivity', 'Artificial Intelligence', 'YouTube', 'Analytics', 'Developer Tools', 'Data & Analytics', 'Productivity', 'User Experience', 'Twitter', 'Artificial Intelligence', 'Bots', 'Marketing automation', 'Marketing', 'Data & Analytics', 'Business Intelligence', 'Artificial Intelligence', 'Search', 'SaaS', 'Artificial Intelligence', 'Productivity', 'Tech', 'Maker Tools', 'Newsletters', 'Artificial Intelligence', 'Tech', 'Productivity', 'Spreadsheets', 'Marketing', 'Newsletters', 'Marketing', 'Community', 'User Experience', 'Developer Tools', 'GitHub', 'Productivity', 'Notes', 'Artificial Intelligence', 'Open Source', 'Developer Tools', 'Artificial Intelligence', 'Mac', 'Artificial Intelligence', 'Web App', 'Productivity', 'SaaS', 'Biohacking', 'Clothing', 'Health', 'Social Media', 'Sports', 'Games', 'Productivity', 'Music', 'Notion', 'Email Marketing', 'Marketing', 'Data', 'Marketing', 'Artificial Intelligence', 'Notion', 'Mac', 'Apple', 'Productivity', 'Tech', 'Business', 'Productivity', 'Artificial Intelligence', 'Community', 'Developer Tools', 'Artificial Intelligence', 'Database', 'Open Source', 'Developer Tools', 'GitHub', 'Artificial Intelligence', 'Community', 'Open Source', 'Tech', 'Coding Books', 'Design Tools', 'Tech', 'Design', 'Mac', 'Apple', 'Android', 'Productivity', 'Social Media', 'News', 'Newsletters', 'Artificial Intelligence', 'Productivity', 'Maker Tools', 'Chrome Extensions', 'API', 'Open Source', 'Marketing', 'Growth Hacking', 'SEO', 'Developer Tools', 'Tech', 'SaaS', 'Legal', 'Human Resources', 'Software Engineering', 'Developer Tools', 'Tech', 'Artificial Intelligence', 'Apple', 'Fitness', 'Dating', 'Artificial Intelligence', 'Productivity', 'Artificial Intelligence', 'Search', 'Mac', 'Menu Bar Apps', 'Apple', 'Android', 'Games', 'Marketing', 'Artificial Intelligence', 'Tech', 'SaaS', 'Artificial Intelligence', 'Business Intelligence', 'Windows', 'Privacy', 'GitHub', 'iOS', 'Writing', 'Twitter', 'Social Media', 'Entertainment', 'Design Tools', 'Marketing', 'Graphics & Design', 'Chrome Extensions', 'YouTube', 'Video', 'Android', 'Writing', 'Artificial Intelligence', 'API', 'CRM', 'Database', 'Artificial Intelligence', 'E-Commerce', 'Android', 'iOS', 'Fintech', 'Charity & Giving', 'Social Impact', 'Task Management', 'Maker Tools', 'Change Management', 'Productivity', 'SaaS', 'Developer Tools', 'Browser Extensions', 'Chrome Extensions', 'Productivity', 'SaaS', 'YouTube', 'Medical', 'Productivity', 'User Experience', 'Tech', 'Productivity', 'Video Streaming', 'Meetings', 'E-Commerce', 'Tech', 'Shopping', 'Developer Tools', 'Artificial Intelligence', 'Twitter', 'Productivity', 'Artificial Intelligence', 'Tech', 'Messaging', 'Customer Communication', 'Marketing', 'Marketing', 'Crypto', 'SaaS', 'Photography', 'Artificial Intelligence', 'Music', 'Android', 'iOS', 'Art', 'Health & Fitness', 'Quantified Self', 'Notion', 'Writing', 'Notes', 'Tech', 'Venture Capital', 'SaaS', 'Artificial Intelligence', 'Android', 'Global Nomad', 'Travel', 'Photography', 'Artificial Intelligence', 'Tech', 'Lifestyle', 'Developer Tools', 'Artificial Intelligence', 'Social Networking', 'Web App', 'Productivity', 'Meetings', 'Marketing', 'Artificial Intelligence', 'E-Commerce', 'Developer Tools', 'Artificial Intelligence', 'Education', 'Crypto', 'Web3', 'Developer Tools', 'Productivity', 'Social Media', 'Design', 'Web Design', 'Telegram', 'Design Tools', 'Messaging', 'Productivity', 'Sales', 'Calendar', 'Design Tools', 'Productivity', 'Developer Tools', 'Productivity', 'Task Management', 'SaaS', 'Web App', 'Productivity', 'Task Management', 'Marketing', 'Education', 'Online Learning', 'Android', 'Productivity', 'Tech', 'Analytics', 'Marketing', 'Growth Hacking', 'Photography', 'Artificial Intelligence', 'Tech', 'Design Tools', 'Web Design', 'Web App', 'Productivity', 'SaaS', 'Productivity', 'Funny', 'Legal', 'Artificial Intelligence', 'Developer Tools', 'Artificial Intelligence', 'iOS', 'Tech', 'Snow sports', 'Android', 'iOS', 'Productivity', 'Investing', 'SaaS', 'SaaS', 'Artificial Intelligence', 'Android', 'Social Network', 'Social Media', 'Payments', 'SaaS', 'Accounting', 'Productivity', 'Calendar', 'Remote Work', 'Productivity', 'Customer Success', 'SaaS', 'Lifestyle', 'Social Networking', 'Productivity', 'Artificial Intelligence', 'Tech', 'Artificial Intelligence', 'E-Commerce', 'Bots', 'On-Demand', 'E-Commerce', 'Tech', 'Productivity', 'Artificial Intelligence', 'Community', 'Design Tools', 'Developer Tools', 'Artificial Intelligence', 'Music', 'Artificial Intelligence', 'Entertainment', 'Email', 'Productivity', 'Messaging', 'Chrome Extensions', 'Freelance', 'iOS', 'Health & Fitness', 'Social Media', 'Productivity', 'SaaS', 'Artificial Intelligence', 'Productivity', 'Task Management', 'Tech', 'Social Network', 'Social Media', 'Twitter', 'Growth Hacking', 'Growth Hacks ', 'Writing', 'Education', 'Artificial Intelligence', 'Events', 'Social Network', 'Calendar', 'Android', 'Music', 'Home theater', 'Marketing', 'Artificial Intelligence', 'Notion', 'Design Tools', 'Productivity', 'Notion', 'iOS', 'Photography', 'Photo & Video', 'Writing', 'Artificial Intelligence', 'Tech', 'Productivity', 'Tech', 'Notion', 'Productivity', 'Maker Tools', 'Productivity', 'Social Media', 'Artificial Intelligence', 'Artificial Intelligence', 'LinkedIn', 'Career', 'Free Games', 'Drinking', 'Games', 'Productivity', 'News', 'Android', 'iOS', 'Productivity', 'Privacy', 'VPN', 'Security', 'SaaS', 'Developer Tools', 'Artificial Intelligence', 'Books', 'Productivity', 'Developer Tools', 'Artificial Intelligence', 'Fintech', 'Finance', 'Personal Finance', 'Productivity', 'No-Code', 'Notion', 'Productivity', 'Artificial Intelligence', 'Shopping', 'Messaging', 'Maps', 'Apple', 'Design Tools', 'Photography', 'Artificial Intelligence', 'Slack', 'Productivity', 'Artificial Intelligence', 'Open Source', 'Writing', 'GitHub', 'Fintech', 'Analytics', 'Artificial Intelligence', 'Data & Analytics', 'Productivity', 'Sales', 'Meetings', 'iOS', 'Productivity', 'Artificial Intelligence', 'iOS', 'Movies', 'Community', 'Productivity', 'Task Management', 'Time Tracking', 'No-Code', 'Data Visualization', 'Web Design', 'Web App', 'Productivity', 'Writing', 'iOS', 'Artificial Intelligence', 'Wallpaper', 'iOS', 'Music', 'Social Media', 'User Experience', 'Education', 'Inclusivity', 'Web App', 'YouTube', 'Video Art', 'SaaS', 'Developer Tools', 'Tech', 'Messaging', 'Artificial Intelligence', 'Bots', 'Fintech', 'E-Commerce', 'Cryptocurrency', 'iOS', 'Design Tools', 'Apple', 'Productivity', 'Events', 'Analytics', 'Writing', 'Artificial Intelligence', 'Fintech', 'Payments', 'Cryptocurrency', 'Productivity', 'Task Management', 'SaaS', 'Productivity', 'Marketing', 'Operations', 'Productivity', 'Messaging', 'SaaS', 'Education', 'Design', 'UX Design', 'Chrome Extensions', 'Marketing', 'SaaS', 'Productivity', 'Notes', 'Education', 'Social Media', 'Marketing', 'Artificial Intelligence', 'Twitter', 'Marketing', 'Video', 'Productivity', 'Education', 'Artificial Intelligence', 'Newsletters', 'Investing', 'Artificial Intelligence', 'Audio', 'Fintech', 'Crypto', 'Developer Tools', 'Open Source', 'Developer Tools', 'GitHub', 'Design Tools', 'Developer Tools', 'UX Design', 'Chrome Extensions', 'Productivity', 'Twitter', 'Design Tools', 'Photography', 'Photo editing', 'Design Tools', 'Icons', 'Design resources', 'Task Management', 'Customer Success', 'SaaS', 'Analytics', 'Web3', 'DeFi', 'Artificial Intelligence', 'Home', 'Artificial Intelligence', 'Interior design', 'iOS', 'Productivity', 'Artificial Intelligence', 'Customer Success', 'Artificial Intelligence', 'Tech', 'Design Tools', 'Branding', 'Artificial Intelligence', 'Design Tools', 'Productivity', 'Developer Tools', 'Hiring', 'Developer Tools', 'Career', 'Fintech', 'Web3', 'Cryptocurrency', 'Art', 'Artificial Intelligence', 'Web3', 'Education', 'Artificial Intelligence', 'Tech', 'News', 'Analytics', 'Artificial Intelligence', 'Productivity', 'Social Media', 'Social media marketing', 'Productivity', 'Writing', 'Artificial Intelligence', 'Productivity', 'API', 'Developer Tools', 'Productivity', 'Task Management', 'Time Tracking', 'Android', 'iOS', 'Photography', 'Productivity', 'Education', 'Online Learning', 'Marketing', 'Event marketing', 'Video', 'Kids', 'Education', 'Languages', 'No-Code', 'Web Design', 'Open Source', 'Productivity', 'Analytics', 'GitHub', 'Fintech', 'Investing', 'Money', 'Developer Tools', 'Messaging', 'SaaS', 'E-Commerce', 'Design Tools', 'Artificial Intelligence', 'Photo editing', 'Health & Fitness', 'Productivity', 'Games', 'Android', 'Fintech', 'SaaS', 'Social Media', 'Privacy', 'Security', 'Fashion', 'Social Media', 'E-Commerce', 'Amazon', 'SaaS', 'E-Commerce', 'Health & Fitness', 'Strategy Games', 'API', 'Open Source', 'Developer Tools', 'API', 'Fintech', 'E-Commerce', 'Productivity', 'SaaS', 'Community', 'Marketing', 'Developer Tools', 'Maker Tools', 'Analytics', 'Developer Tools', 'Design Tools', 'Productivity', 'User Experience', 'SaaS', 'Password manager', 'Security', 'Marketing', 'Graphic Design', 'UX Design', 'Productivity', 'Task Management', 'Artificial Intelligence', 'Startup Books', 'Education', 'Community', 'Analytics', 'Email Marketing', 'Marketing', 'Social Network', 'Free Games', 'Games', 'Music', 'Spotify', 'Artificial Intelligence', 'SaaS', 'Artificial Intelligence', 'Messaging', 'Artificial Intelligence', 'Virtual Assistants', 'Developer Tools', 'Artificial Intelligence', 'No-Code', 'Web App', 'Artificial Intelligence', 'GitHub', 'Investing', 'Venture Capital', 'Fundraising', 'Wallpaper', 'Tech', 'Online Learning', 'Community', 'Writing', 'Artificial Intelligence', 'Books', 'Design Tools', 'Artificial Intelligence', 'Messaging', 'User Experience', 'No-Code', 'Music', 'Art', 'Artificial Intelligence', 'Newsletters', 'Marketing', 'Advertising', 'Venture Capital', 'SaaS', 'Fundraising', 'Cookbooks', 'Cooking', 'Maker Tools', 'Open Source', 'SaaS', 'Developer Tools', 'Productivity', 'Task Management', 'Time Tracking', 'Chrome Extensions', 'Web3', 'Design Tools', 'Artificial Intelligence', 'Games', 'News', 'Twitter', 'Social Media', 'Open Source', 'Developer Tools', 'GitHub', 'Design Tools', 'User Experience', 'Notion', 'Open Source', 'Software Engineering', 'Developer Tools', 'User Experience', 'Developer Tools', 'Tech', 'Productivity', 'Family', 'Notion', 'Tech', 'Music', 'Developer Tools', 'Tech', 'Marketing', 'Calendar', 'Tech', 'Health & Fitness', 'Productivity', 'Books', 'Productivity', 'Artificial Intelligence', 'Community', 'Chrome Extensions', 'Productivity', 'Education', 'Development', 'Web Design', 'UX Design', 'Productivity', 'User Experience', 'Notion', 'Productivity', 'Software Engineering', 'Developer Tools', 'Movies', 'Free Games', 'Pop culture', 'Chrome Extensions', 'Productivity', 'SEO', 'Crypto', 'VPN', 'Encryption', 'Chrome Extensions', 'Productivity', 'Artificial Intelligence', 'Android', 'Messaging', 'Marketing', 'Developer Tools', 'Search', 'Fintech', 'Payments', 'Tech', 'Hiring', 'Career', 'Community', 'Sports', 'Golf', 'SaaS', 'Computers', 'VPN', 'Android', 'iOS', 'Home', 'Task Management', 'Marketing', 'SaaS', 'Marketing', 'SEO', 'Artificial Intelligence', 'Developer Tools', 'Artificial Intelligence', 'No-Code', 'Productivity', 'Task Management', 'Developer Tools', 'Mac', 'Writing', 'Tech', 'Developer Tools', 'No-Code', 'Customer Success', 'Messaging', 'Customer Communication', 'Health & Fitness', 'Productivity', 'Tech', 'Analytics', 'Marketing', 'Web3', 'Marketing', 'SaaS', 'Startup Lessons', 'Mac', 'Design Tools', 'Artificial Intelligence', 'Marketing', 'Advertising', 'Artificial Intelligence', 'Productivity', 'Artificial Intelligence', 'Human Resources', 'Tech', 'Remote Work', 'Human Resources', 'Productivity', 'Artificial Intelligence', 'Tech', 'User Experience', 'SaaS', 'Design', 'User Experience', 'Global Nomad', 'Travel', 'Productivity', 'Marketing', 'SEO', 'Design Tools', 'Productivity', 'Maker Tools', 'Design Tools', 'Productivity', 'UX Design', 'Productivity', 'Developer Tools', 'Tech', 'Indie Games', 'Games', 'Community', 'Messaging', 'Marketing', 'Growth Hacking', 'Design Tools', 'UX Design', 'Design resources', 'Investing', 'Venture Capital', 'Writing', 'Marketing', 'Artificial Intelligence', 'Text Editors', 'Developer Tools', 'Artificial Intelligence', 'Free Games', 'Fantasy Games', 'Games', 'API', 'Developer Tools', 'Climate Tech', 'Crypto', 'Developer Tools', 'Web3', 'Productivity', 'Hardware', 'Crowdfunding', 'Artificial Intelligence', 'Data & Analytics', 'Data Science', 'Art', 'Artificial Intelligence', 'Tech', 'Kids', 'Books', 'Kids & Parenting', 'Productivity', 'Artificial Intelligence', 'Search', 'Productivity', 'Tech', 'Security', 'Productivity', 'Task Management', 'Notion', 'Photography', 'Photo & Video', 'Nature', 'Open Source', 'Writing', 'Notes', 'Standing Desks', 'Remote Work', 'Design Tools', 'Art', 'Illustration', 'Travel', 'Climate Tech', 'Vacation', 'Health & Fitness', 'Tech', 'Games', 'Developer Tools', 'Tech', 'Productivity', 'Payments', 'Crypto', 'Analytics', 'Artificial Intelligence', 'Tech', 'Marketing', 'Artificial Intelligence', 'Tech', 'Open Source', 'Developer Tools', 'Artificial Intelligence', 'Productivity', 'Task Management', 'Developer Tools', 'SaaS', 'Artificial Intelligence', 'Data Science', 'Productivity', 'Tech', 'Productivity', 'SaaS', 'Social Impact', 'Productivity', 'Messaging', 'Chrome Extensions', 'Productivity', 'Artificial Intelligence', 'Productivity', 'Artificial Intelligence', 'Tech', 'Productivity', 'Video Streaming', 'Marketing', 'Software Engineering', 'Developer Tools', 'GitHub', 'Social Media', 'Social media marketing', 'Video Streaming', 'SaaS', 'Photo editing', 'Design Tools', 'Web3', 'Design resources', 'Productivity', 'Task Management', 'Online Learning', 'Chrome Extensions', 'Productivity', 'Artificial Intelligence', 'Productivity', 'Task Management', 'Productivity', 'Developer Tools', 'Tech', 'Productivity', 'User Experience', 'Developer Tools', 'Hiring', 'Productivity', 'Freelance', 'Productivity', 'Calendar', 'Productivity', 'Artificial Intelligence', 'Data', 'Education', 'Bots', 'Online Learning', 'Design Tools', 'Artificial Intelligence', 'Photo editing', 'Sales', 'Marketing', 'Artificial Intelligence', 'Writing', 'Social Media', 'Online Learning', 'Tech', 'Prototyping', 'Design resources', 'Design templates', 'Artificial Intelligence', 'Tech', 'Computers', 'Design Tools', 'Emoji', 'Productivity', 'iOS', 'Productivity', 'Tech', 'Marketing', 'Education', 'Tech', 'Charity & Giving', 'Productivity', 'User Experience', 'Developer Tools', 'Dogs', 'Pets', 'Artificial Intelligence', 'Sales', 'Open Source', 'Marketing', 'Wearables', 'Artificial Intelligence', 'Tech', 'Android', 'iOS', 'Personal Finance', 'Fintech', 'Money', 'Personal Finance', 'iOS', 'Design Tools', 'Photography', 'Crypto', 'Web3', 'Blockchain', 'Tech', 'Productivity', 'Task Management', 'Calendar', 'Productivity', 'Human Resources', 'Customer Communication', 'SaaS', 'Marketing', 'SaaS', 'Video Streaming', 'Artificial Intelligence', 'Photo & Video', 'Chrome Extensions', 'Productivity', 'User Experience', 'Parenting', 'Education', 'Kids & Parenting', 'Crypto', 'DAO', 'Productivity', 'Marketing', 'Developer Tools', 'Marketing', 'Product Hunt', 'Maker Tools', 'Chrome Extensions', 'Productivity', 'SaaS', 'Developer Tools', 'GitHub', 'Web App', 'Telegram', 'Artificial Intelligence', 'iOS', 'iPad', 'Indie Games', 'Health & Fitness', 'Productivity', 'Notion', 'Productivity', 'Books', 'Illustration', 'Productivity', 'Marketing', 'Tech', 'Productivity', 'Kids', 'Education', 'Marketing', 'Advertising', 'E-Commerce', 'Open Source', 'Developer Tools', 'Productivity', 'Developer Tools', 'Tech', 'Productivity', 'Events', 'Notion', 'Hiring', 'Productivity', 'User Experience', 'Artificial Intelligence', 'Social Impact', 'Security', 'API', 'Branding', 'Developer Tools', 'Web App', 'Website Builder', 'No-Code', 'Artificial Intelligence', 'Bots', 'No-Code', 'Email', 'Productivity', 'Artificial Intelligence', 'Design Tools', 'Productivity', 'Developer Tools', 'Productivity', 'Marketing', 'Developer Tools', 'Hardware', 'Crowdfunding', 'Tech', 'Browser Extensions', 'Chrome Extensions', 'Productivity', 'Tech', 'Remote Work', 'Career', 'Productivity', 'Artificial Intelligence', 'Tech', 'Web App', 'Social Media', 'Website Builder', 'Productivity', 'Developer Tools', 'Tech', 'PC', 'Productivity', 'Cell Phone', 'Productivity', 'Books', 'Productivity', 'Artificial Intelligence', 'No-Code', 'Productivity', 'Artificial Intelligence', 'Community', 'Design Tools', 'Artificial Intelligence', 'Logo Design', 'Growth Hacking', 'Developer Tools', 'Artificial Intelligence', 'Meetings', 'Calendar', 'Data & Analytics', 'Design Tools', 'Newsletters', 'Design resources', 'Productivity', 'Artificial Intelligence', 'LinkedIn', 'Artificial Intelligence', 'Data & Analytics', 'Data Science', 'Artificial Intelligence', 'Books', 'Audio', 'Music', 'Spotify', 'Productivity', 'Writing', 'Marketing', 'Productivity', 'User Experience', 'Marketing', 'Newsletters', 'Artificial Intelligence', 'Entertainment', 'iOS', 'Music', 'Apple', 'Health & Fitness', 'Productivity', 'Productivity', 'Developer Tools', 'Productivity', 'Developer Tools', 'Tech', 'Open Source', 'Software Engineering', 'Developer Tools', 'Productivity', 'Free Games', 'Games', 'Productivity', 'Writing', 'Notes', 'Productivity', 'Artificial Intelligence', 'Tech', 'SaaS', 'Productivity', 'Analytics', 'Tech', 'Developer Tools', 'Artificial Intelligence', 'Productivity', 'Developer Tools', 'Artificial Intelligence', 'Dating', 'CRM', 'Web App', 'Hiring', 'Design Tools', 'Tech', 'Data & Analytics', 'Data Science', 'Chrome Extensions', 'Investing', 'Crypto', 'Productivity', 'Developer Tools', 'Tech', 'Twitter', 'Developer Tools', 'Artificial Intelligence', 'Productivity', 'Developer Tools', 'Tech', 'Chrome Extensions', 'Blockchain', 'iOS', 'Music', 'Tech', 'Chrome Extensions', 'Productivity', 'Developer Tools', 'Android', 'Health & Fitness', 'Tech', 'Android', 'Education', 'Tech', 'Analytics', 'Marketing', 'Growth Hacking', 'Android', 'Strategy Games', 'Free Games', 'Email', 'Email Marketing', 'Android', 'iOS', 'Productivity', 'Product Hunt', 'Community', 'Slack', 'Productivity', 'Artificial Intelligence', 'API', 'Developer Tools', 'Artificial Intelligence', 'Design Tools', 'Productivity', 'Venture Capital', 'Fintech', 'Tech', 'Business Intelligence', 'Tech', 'Social Networking', 'Community', 'Marketing', 'SaaS', 'Affiliate marketing', 'Tech', 'Business Intelligence', 'Tech news', 'Android', 'iOS', 'Productivity', 'Productivity', 'Writing', 'Artificial Intelligence', 'iOS', 'Social Media', 'Artificial Intelligence', 'Music', 'Spotify', 'Education', 'Languages', 'Community', 'Web App', 'Open Source', 'GitHub', 'Parenting', 'Family', 'Babies', 'Productivity', 'Social Network', 'Web App', 'Productivity', 'Artificial Intelligence', 'iOS', 'Art', 'Artificial Intelligence', 'Marketing', 'Artificial Intelligence', 'E-Commerce', 'Hiring', 'Tech', 'Career', 'News', 'Politics', 'Newsletters', 'Productivity', 'Task Management', 'Health', 'Education', 'Website Builder', 'No-Code', 'Analytics', 'Marketing', 'SaaS', 'Productivity', 'GitHub', 'Career', 'Chrome Extensions', 'User Experience', 'Chrome Extensions', 'Productivity', 'User Experience', 'Artificial Intelligence', 'Tech', 'Parenting', 'Artificial Intelligence', 'Pregnancy', 'iOS', 'Productivity', 'Task Management', 'Productivity', 'Artificial Intelligence', 'Career', 'Productivity', 'Task Management', 'Education', 'Sales', 'Artificial Intelligence', 'Business', 'Social Networking', 'Bitcoin', 'Cryptocurrency', 'Security', 'Productivity', 'Social Media', 'Artificial Intelligence', 'Linux', 'Wine', 'Open Source', 'Crypto', 'Web3', 'NFT', 'Tech', 'API', 'Climate Tech', 'Accounting', 'Productivity', 'Travel', 'Artificial Intelligence', 'Productivity', 'Education', 'Artificial Intelligence', 'Productivity', 'GitHub', 'Android', 'Design Tools', 'Productivity', 'Hiring', 'SaaS', 'Artificial Intelligence', 'Android', 'Games', 'Productivity', 'Business', 'Development', 'Developer Tools', 'GitHub', 'Developer Tools', 'Tech', 'SDK', 'Android', 'iOS', 'Finance', 'Advertising', 'E-Commerce', 'Social media marketing', 'iOS', 'Productivity', 'SaaS', 'Marketing', 'Artificial Intelligence', 'Tech', 'Marketing', 'Photography', 'Artificial Intelligence', 'Writing', 'Marketing', 'Artificial Intelligence', 'Design Tools', 'Productivity', 'Task Management', 'Productivity', 'Marketing', 'Artificial Intelligence', 'Newsletters', 'Developer Tools', 'Maker Tools', 'Productivity', 'Sales', 'Meetings', 'Android', 'iOS', 'Travel', 'Design Tools', 'Artificial Intelligence', 'Photo & Video', 'Productivity', 'Marketing', 'Artificial Intelligence', 'iOS', 'Health & Fitness', 'Productivity', 'Productivity', 'Health', 'Venture Capital', 'Startup Lessons', 'Fundraising', 'Art', 'Artificial Intelligence', 'Entertainment', 'Weather', 'Travel', 'Artificial Intelligence', 'Health & Fitness', 'Wearables', 'Quantified Self', 'Email Marketing', 'Marketing', 'Artificial Intelligence', 'Web App', 'Marketing', 'Printing', 'Android', 'Payments', 'Website Builder', 'Productivity', 'Developer Tools', 'Tech', 'Hiring', 'Public Relations', 'Marketing', 'Android', 'Fintech', 'Investing', 'News', 'API', 'Tech', 'Art', 'Artificial Intelligence', 'Entertainment', 'Sports', 'Entertainment', 'Data Science', 'Charity & Giving', 'Maps', 'Tech', 'Web App', 'Productivity', 'Task Management', 'Website Builder', 'E-Commerce', 'Investing', 'Android', 'iOS', 'Delivery', 'Artificial Intelligence', 'Productivity', 'User Experience', 'Artificial Intelligence', 'Productivity', 'Open Source', 'GitHub', 'Productivity', 'Tech', 'Remote Work', 'Productivity', 'SaaS', 'Artificial Intelligence', 'Chrome Extensions', 'Twitter', 'Social Media', 'Chrome Extensions', 'Productivity', 'Marketing', 'Productivity', 'Marketing', 'Artificial Intelligence', 'Productivity', 'Artificial Intelligence', 'LinkedIn', 'Legal', 'Artificial Intelligence', 'Meetings', 'Artificial Intelligence', 'Remote Work', 'Marketing', 'Artificial Intelligence', 'Video', 'Mac', 'Books', 'Apple', 'Android', 'Lifestyle', 'Spirituality', 'Productivity', 'Web3', 'Blockchain', 'NFT', 'Social Media', 'Artificial Intelligence', 'Photo & Video', 'Productivity', 'Video', 'Design', 'Mac', 'Artificial Intelligence', 'iOS', 'Productivity', 'Task Management', 'Productivity', 'Marketing', 'Internet of Things', 'Funny Games', 'Artificial Intelligence', 'Tech', 'Design Tools', 'Events', 'Developer Tools', 'Productivity', 'Artificial Intelligence', 'Tech', 'Developer Tools', 'Dogs', 'API', 'Tech', 'Productivity', 'Open Source', 'Tech', 'Hiring', 'Remote Work', 'Human Resources', 'Productivity', 'Artificial Intelligence', 'Tech', 'Developer Tools', 'Artificial Intelligence', 'Bots', 'Web App', 'Web3', 'Cryptocurrency', 'Android', 'iOS', 'Web App', 'Productivity', 'Custom Keyboards', 'Artificial Intelligence', 'Social Media', 'Marketing', 'Artificial Intelligence', 'Productivity', 'Calendar', 'Tech', 'Chrome Extensions', 'Design Tools', 'Developer Tools', 'Art', 'Photography', 'Artificial Intelligence', 'Chrome Extensions', 'Email', 'Productivity', 'Sales', 'Email Marketing', 'Marketing', 'Productivity', 'Developer Tools', 'Development', 'Writing', 'Twitter', 'Artificial Intelligence', 'Health & Fitness', 'Games', 'Fundraising', 'API', 'Artificial Intelligence', 'No-Code', 'Venture Capital', 'Finance', 'Fundraising', 'Design Tools', 'Productivity', 'Developer Tools', 'Freelance', 'Community', 'NFT', 'Developer Tools', 'Web App', 'Customer Success', 'User Experience', 'Productivity', 'Social Media', 'Marketing', 'Android', 'iOS', 'Productivity', 'Legal', 'Tech', 'Personal Finance', 'Hiring', 'Productivity', 'SaaS', 'Music', 'Artificial Intelligence', 'Digital Art', 'SaaS', 'Business', 'Finance', 'SaaS', 'E-Commerce', 'Productivity', 'Productivity', 'Tech', 'Entertainment', 'Web App', 'Productivity', 'Tech', 'Productivity', 'Search', 'Design Tools', 'Productivity', 'UX Design', 'Android', 'Health & Fitness', 'Fitness', 'Web App', 'Tech', 'iOS', 'Health & Fitness', 'Productivity', 'Productivity', 'Quantified Self', 'Health', 'Tech', 'Developer Tools', 'Artificial Intelligence', 'Tech', 'Productivity', 'Artificial Intelligence', 'Bots', 'Productivity', 'Artificial Intelligence', 'Productivity', 'Writing', 'Lifestyle', 'Text Editors', 'Tech', 'Crypto', 'Web3', 'Productivity', 'Android', 'Quantified Self', 'Health', 'Productivity', 'Marketing', 'Tech', 'Design Tools', 'Artificial Intelligence', 'Games', 'Investing', 'Android', 'Social Network', 'Social Media', 'Android', 'Health & Fitness', 'Fitness', 'Productivity', 'News', 'Education', 'Languages', 'Online Learning', 'Web App', 'Productivity', 'Social Media', 'Android', 'Productivity', 'Home', 'Android', 'Politics', 'Amazon', 'Art', 'Artificial Intelligence', 'Typography', 'Developer Tools', 'GitHub', 'User Experience', 'Analytics', 'Artificial Intelligence', 'Entertainment', 'Crafting', 'DIY', 'Productivity', 'Education', 'Artificial Intelligence', 'Browser Extensions', 'Product Hunt', 'Software Engineering', 'Developer Tools', 'GitHub', 'Analytics', 'SaaS', 'Developer Tools', 'Education', 'Tech', 'Career', 'Productivity', 'Writing', 'Notes', 'SaaS', 'Tech', 'Operations', 'Productivity', 'Writing', 'Artificial Intelligence', 'Tech', 'Productivity', 'GitHub', 'Tech', 'Productivity', 'Marketing', 'Tech', 'Spreadsheets', 'Drinking', 'Alcohol', 'Crypto', 'Tech', 'Cryptocurrency', 'Marketing', 'SEO', 'SaaS', 'Design Tools', 'Productivity', 'Audio', 'Productivity', 'Spreadsheets', 'No-Code', 'Ridesharing', 'Marketing', 'Artificial Intelligence', 'Card Games', 'Free Games', 'Entertainment', 'Lifestyle', 'Social Networking', 'Education', 'Marketing', 'Web3', 'NFT', 'Amazon', 'E-Commerce', 'Shopping', 'Productivity', 'SaaS', 'Development', 'Open Source', 'GitHub', 'Productivity', 'Spreadsheets', 'Quantified Self', 'Branding', 'Marketing', 'Home', 'Instagram', 'Education', 'SaaS', 'Remote Work', 'Parenting', 'Kids', 'Education', 'Social Media', 'Social Network', 'Design Tools', 'Software Engineering', 'Development', 'Marketing', 'SaaS', 'Social Networking', 'Design Tools', 'Productivity', 'Developer Tools', 'Design Tools', 'Artificial Intelligence', 'Photo editing', 'Fintech', 'SaaS', 'Motorcycles', 'Marketing', 'SEO', 'User Experience', 'Developer Tools', 'Tech', 'Icons', 'Customer Success', 'Education', 'YouTube', 'Productivity', 'Tech', 'Marketing', 'Menu Bar Apps', 'Food & Drink', 'Design Tools', 'Marketing', 'Developer Tools', 'Tech', 'User Experience', 'UX Design', 'Career', 'Marketing', 'Developer Tools', 'GitHub', 'Productivity', 'Social Media', 'Marketing', 'Games', 'Android', 'Social Media', 'Advertising', 'Branding', 'Advertising', 'Printing', 'Developer Tools', 'Artificial Intelligence', 'Tech', 'Productivity', 'Analytics', 'SaaS', 'Chrome Extensions', 'Productivity', 'LinkedIn', 'Productivity', 'Events', 'Education', 'Branding', 'Marketing', 'Influencer marketing', 'Design Tools', 'Marketing', 'TV', 'Design Tools', 'User Experience', 'Open Source', 'Developer Tools', 'SDK', 'Developer Tools', 'Tech', 'Marketing', 'Marketing', 'SEO', 'Marketing', 'Home', 'Travel', 'Vacation', 'Website Builder', 'Artificial Intelligence', 'Marketing', 'LinkedIn', 'Data', 'Productivity', 'User Experience', 'Developer Tools', 'Design Tools', 'Social Media', 'Social Media', 'Marketing', 'E-Commerce', 'Sales', 'Marketing', 'No-Code', 'Design Tools', 'Productivity', 'Freelance', 'Design Tools', 'GIFs', 'YouTube', 'Games', 'Web3', 'Data', 'Developer Tools', 'Database', 'Data Science', 'Productivity', 'Marketing', 'SaaS', 'Education', 'Artificial Intelligence', 'Online Learning', 'Software Engineering', 'Developer Tools', 'GitHub', 'Music', 'Video Streaming', 'Fintech', 'Investing', 'Artificial Intelligence', 'YouTube', 'User Experience', 'UX Design', 'Design templates', 'Productivity', 'Storage', 'Writing', 'Education', 'Design Tools', 'Writing', 'UX Design', 'User Experience', 'Customer Communication', 'Web3', 'Sports', 'Tech', 'Chat rooms', 'Android']\n",
      "                       topic  frequency\n",
      "0               Productivity        382\n",
      "1    Artificial Intelligence        320\n",
      "2                       Tech        158\n",
      "3            Developer Tools        157\n",
      "4                  Marketing        132\n",
      "..                       ...        ...\n",
      "259                     RPGs          1\n",
      "260              Board Games          1\n",
      "261                 Ethereum          1\n",
      "262                Anonymous          1\n",
      "263                     GIFs          1\n",
      "\n",
      "[264 rows x 2 columns]\n"
     ]
    },
    {
     "data": {
      "text/html": [
       "<div>\n",
       "<style scoped>\n",
       "    .dataframe tbody tr th:only-of-type {\n",
       "        vertical-align: middle;\n",
       "    }\n",
       "\n",
       "    .dataframe tbody tr th {\n",
       "        vertical-align: top;\n",
       "    }\n",
       "\n",
       "    .dataframe thead th {\n",
       "        text-align: right;\n",
       "    }\n",
       "</style>\n",
       "<table border=\"1\" class=\"dataframe\">\n",
       "  <thead>\n",
       "    <tr style=\"text-align: right;\">\n",
       "      <th></th>\n",
       "      <th>topic</th>\n",
       "      <th>frequency</th>\n",
       "    </tr>\n",
       "  </thead>\n",
       "  <tbody>\n",
       "    <tr>\n",
       "      <th>0</th>\n",
       "      <td>Productivity</td>\n",
       "      <td>382</td>\n",
       "    </tr>\n",
       "    <tr>\n",
       "      <th>1</th>\n",
       "      <td>Artificial Intelligence</td>\n",
       "      <td>320</td>\n",
       "    </tr>\n",
       "    <tr>\n",
       "      <th>2</th>\n",
       "      <td>Tech</td>\n",
       "      <td>158</td>\n",
       "    </tr>\n",
       "    <tr>\n",
       "      <th>3</th>\n",
       "      <td>Developer Tools</td>\n",
       "      <td>157</td>\n",
       "    </tr>\n",
       "    <tr>\n",
       "      <th>4</th>\n",
       "      <td>Marketing</td>\n",
       "      <td>132</td>\n",
       "    </tr>\n",
       "  </tbody>\n",
       "</table>\n",
       "</div>"
      ],
      "text/plain": [
       "                     topic  frequency\n",
       "0             Productivity        382\n",
       "1  Artificial Intelligence        320\n",
       "2                     Tech        158\n",
       "3          Developer Tools        157\n",
       "4                Marketing        132"
      ]
     },
     "execution_count": 85,
     "metadata": {},
     "output_type": "execute_result"
    }
   ],
   "source": [
    "# Split the topics column and create a list of all topics\n",
    "all_topics = df['topics'].str.split(',').explode()\n",
    "all_topics.tolist()\n",
    "\n",
    "# Removing leading spaces from each string in the list\n",
    "all_topics = [s.lstrip() for s in all_topics]\n",
    "print(\"\\nList of all topics (all_topics):\")\n",
    "print(all_topics)\n",
    "\n",
    "# Assuming you have a list of items called 'items'\n",
    "item_freq = pd.Series(all_topics).value_counts().reset_index()\n",
    "\n",
    "# Rename the columns\n",
    "item_freq.columns = ['topic', 'frequency']\n",
    "\n",
    "# Display the DataFrame\n",
    "print(item_freq)\n",
    "\n",
    "item_freq.head()\n"
   ]
  },
  {
   "cell_type": "code",
   "execution_count": 86,
   "metadata": {},
   "outputs": [
    {
     "data": {
      "text/html": [
       "<div>\n",
       "<style scoped>\n",
       "    .dataframe tbody tr th:only-of-type {\n",
       "        vertical-align: middle;\n",
       "    }\n",
       "\n",
       "    .dataframe tbody tr th {\n",
       "        vertical-align: top;\n",
       "    }\n",
       "\n",
       "    .dataframe thead th {\n",
       "        text-align: right;\n",
       "    }\n",
       "</style>\n",
       "<table border=\"1\" class=\"dataframe\">\n",
       "  <thead>\n",
       "    <tr style=\"text-align: right;\">\n",
       "      <th></th>\n",
       "      <th>id</th>\n",
       "      <th>name</th>\n",
       "      <th>votesCount</th>\n",
       "      <th>commentsCount</th>\n",
       "      <th>createdAt</th>\n",
       "      <th>Month</th>\n",
       "      <th>totalCount</th>\n",
       "      <th>topics</th>\n",
       "      <th>hours</th>\n",
       "    </tr>\n",
       "  </thead>\n",
       "  <tbody>\n",
       "    <tr>\n",
       "      <th>0</th>\n",
       "      <td>377488</td>\n",
       "      <td>Perplexity.ai</td>\n",
       "      <td>214</td>\n",
       "      <td>19</td>\n",
       "      <td>2023-02-01 01:10:23+00:00</td>\n",
       "      <td>February</td>\n",
       "      <td>20</td>\n",
       "      <td>Search</td>\n",
       "      <td>1</td>\n",
       "    </tr>\n",
       "    <tr>\n",
       "      <th>1</th>\n",
       "      <td>377270</td>\n",
       "      <td>Image Editor AI</td>\n",
       "      <td>46</td>\n",
       "      <td>11</td>\n",
       "      <td>2023-02-01 08:00:00+00:00</td>\n",
       "      <td>February</td>\n",
       "      <td>15</td>\n",
       "      <td>Design Tools, Marketing, Tech</td>\n",
       "      <td>8</td>\n",
       "    </tr>\n",
       "    <tr>\n",
       "      <th>2</th>\n",
       "      <td>377466</td>\n",
       "      <td>RoboHelper</td>\n",
       "      <td>21</td>\n",
       "      <td>5</td>\n",
       "      <td>2023-01-31 21:41:01+00:00</td>\n",
       "      <td>January</td>\n",
       "      <td>3</td>\n",
       "      <td>Productivity</td>\n",
       "      <td>21</td>\n",
       "    </tr>\n",
       "    <tr>\n",
       "      <th>3</th>\n",
       "      <td>376463</td>\n",
       "      <td>Dover Autopilot</td>\n",
       "      <td>1118</td>\n",
       "      <td>134</td>\n",
       "      <td>2023-01-31 08:03:56+00:00</td>\n",
       "      <td>January</td>\n",
       "      <td>20</td>\n",
       "      <td>Hiring, Artificial Intelligence</td>\n",
       "      <td>8</td>\n",
       "    </tr>\n",
       "    <tr>\n",
       "      <th>4</th>\n",
       "      <td>377244</td>\n",
       "      <td>Unlimited Voice Transcription with API</td>\n",
       "      <td>873</td>\n",
       "      <td>229</td>\n",
       "      <td>2023-01-31 08:12:31+00:00</td>\n",
       "      <td>January</td>\n",
       "      <td>20</td>\n",
       "      <td>Productivity, Privacy</td>\n",
       "      <td>8</td>\n",
       "    </tr>\n",
       "  </tbody>\n",
       "</table>\n",
       "</div>"
      ],
      "text/plain": [
       "       id                                    name  votesCount  commentsCount  \\\n",
       "0  377488                           Perplexity.ai         214             19   \n",
       "1  377270                         Image Editor AI          46             11   \n",
       "2  377466                              RoboHelper          21              5   \n",
       "3  376463                         Dover Autopilot        1118            134   \n",
       "4  377244  Unlimited Voice Transcription with API         873            229   \n",
       "\n",
       "                  createdAt     Month  totalCount  \\\n",
       "0 2023-02-01 01:10:23+00:00  February          20   \n",
       "1 2023-02-01 08:00:00+00:00  February          15   \n",
       "2 2023-01-31 21:41:01+00:00   January           3   \n",
       "3 2023-01-31 08:03:56+00:00   January          20   \n",
       "4 2023-01-31 08:12:31+00:00   January          20   \n",
       "\n",
       "                            topics  hours  \n",
       "0                           Search      1  \n",
       "1    Design Tools, Marketing, Tech      8  \n",
       "2                     Productivity     21  \n",
       "3  Hiring, Artificial Intelligence      8  \n",
       "4            Productivity, Privacy      8  "
      ]
     },
     "execution_count": 86,
     "metadata": {},
     "output_type": "execute_result"
    }
   ],
   "source": [
    "df.head()"
   ]
  },
  {
   "cell_type": "markdown",
   "metadata": {},
   "source": [
    "### Bar plot of the Top 6 Topics"
   ]
  },
  {
   "cell_type": "code",
   "execution_count": 87,
   "metadata": {},
   "outputs": [
    {
     "data": {
      "image/png": "[encoded data removed]",
      "text/plain": [
       "<Figure size 720x432 with 1 Axes>"
      ]
     },
     "metadata": {
      "needs_background": "light"
     },
     "output_type": "display_data"
    }
   ],
   "source": [
    "\n",
    "# Step 2: Sort the DataFrame by 'Frequency' in descending order\n",
    "df_sorted = item_freq.sort_values(by='frequency', ascending=False)\n",
    "\n",
    "# Step 3: Calculate the threshold for the highest 50% of the data\n",
    "threshold = df_sorted['frequency'].quantile(0.98)\n",
    "\n",
    "# Step 4: Filter the DataFrame to keep only the rows with frequencies greater than the threshold\n",
    "df_filtered = df_sorted[df_sorted['frequency'] > threshold]\n",
    "\n",
    "# Step 5: Create the bar plot using Seaborn\n",
    "plt.figure(figsize=(10, 6))\n",
    "sns.barplot(x='frequency', y='topic', data=df_filtered, palette='viridis', dodge=False) # Add dodge=False to increase bar spacing\n",
    "plt.xlabel('frequency')\n",
    "plt.ylabel('topic')\n",
    "plt.title('Bar plot of the Top 6 Topics')\n",
    "\n",
    "# Rotate the y-axis labels for better readability\n",
    "# plt.yticks(rotation=45)\n",
    "\n",
    "plt.tight_layout()  # Adjust layout to prevent overlap\n",
    "plt.show()"
   ]
  },
  {
   "cell_type": "code",
   "execution_count": 88,
   "metadata": {},
   "outputs": [
    {
     "data": {
      "text/html": [
       "<div>\n",
       "<style scoped>\n",
       "    .dataframe tbody tr th:only-of-type {\n",
       "        vertical-align: middle;\n",
       "    }\n",
       "\n",
       "    .dataframe tbody tr th {\n",
       "        vertical-align: top;\n",
       "    }\n",
       "\n",
       "    .dataframe thead th {\n",
       "        text-align: right;\n",
       "    }\n",
       "</style>\n",
       "<table border=\"1\" class=\"dataframe\">\n",
       "  <thead>\n",
       "    <tr style=\"text-align: right;\">\n",
       "      <th></th>\n",
       "      <th>id</th>\n",
       "      <th>name</th>\n",
       "      <th>votesCount</th>\n",
       "      <th>commentsCount</th>\n",
       "      <th>createdAt</th>\n",
       "      <th>Month</th>\n",
       "      <th>totalCount</th>\n",
       "      <th>topics</th>\n",
       "      <th>hours</th>\n",
       "    </tr>\n",
       "  </thead>\n",
       "  <tbody>\n",
       "    <tr>\n",
       "      <th>0</th>\n",
       "      <td>377488</td>\n",
       "      <td>Perplexity.ai</td>\n",
       "      <td>214</td>\n",
       "      <td>19</td>\n",
       "      <td>2023-02-01 01:10:23+00:00</td>\n",
       "      <td>February</td>\n",
       "      <td>20</td>\n",
       "      <td>Search</td>\n",
       "      <td>1</td>\n",
       "    </tr>\n",
       "    <tr>\n",
       "      <th>1</th>\n",
       "      <td>377270</td>\n",
       "      <td>Image Editor AI</td>\n",
       "      <td>46</td>\n",
       "      <td>11</td>\n",
       "      <td>2023-02-01 08:00:00+00:00</td>\n",
       "      <td>February</td>\n",
       "      <td>15</td>\n",
       "      <td>Design Tools, Marketing, Tech</td>\n",
       "      <td>8</td>\n",
       "    </tr>\n",
       "    <tr>\n",
       "      <th>2</th>\n",
       "      <td>377466</td>\n",
       "      <td>RoboHelper</td>\n",
       "      <td>21</td>\n",
       "      <td>5</td>\n",
       "      <td>2023-01-31 21:41:01+00:00</td>\n",
       "      <td>January</td>\n",
       "      <td>3</td>\n",
       "      <td>Productivity</td>\n",
       "      <td>21</td>\n",
       "    </tr>\n",
       "    <tr>\n",
       "      <th>3</th>\n",
       "      <td>376463</td>\n",
       "      <td>Dover Autopilot</td>\n",
       "      <td>1118</td>\n",
       "      <td>134</td>\n",
       "      <td>2023-01-31 08:03:56+00:00</td>\n",
       "      <td>January</td>\n",
       "      <td>20</td>\n",
       "      <td>Hiring, Artificial Intelligence</td>\n",
       "      <td>8</td>\n",
       "    </tr>\n",
       "    <tr>\n",
       "      <th>4</th>\n",
       "      <td>377244</td>\n",
       "      <td>Unlimited Voice Transcription with API</td>\n",
       "      <td>873</td>\n",
       "      <td>229</td>\n",
       "      <td>2023-01-31 08:12:31+00:00</td>\n",
       "      <td>January</td>\n",
       "      <td>20</td>\n",
       "      <td>Productivity, Privacy</td>\n",
       "      <td>8</td>\n",
       "    </tr>\n",
       "  </tbody>\n",
       "</table>\n",
       "</div>"
      ],
      "text/plain": [
       "       id                                    name  votesCount  commentsCount  \\\n",
       "0  377488                           Perplexity.ai         214             19   \n",
       "1  377270                         Image Editor AI          46             11   \n",
       "2  377466                              RoboHelper          21              5   \n",
       "3  376463                         Dover Autopilot        1118            134   \n",
       "4  377244  Unlimited Voice Transcription with API         873            229   \n",
       "\n",
       "                  createdAt     Month  totalCount  \\\n",
       "0 2023-02-01 01:10:23+00:00  February          20   \n",
       "1 2023-02-01 08:00:00+00:00  February          15   \n",
       "2 2023-01-31 21:41:01+00:00   January           3   \n",
       "3 2023-01-31 08:03:56+00:00   January          20   \n",
       "4 2023-01-31 08:12:31+00:00   January          20   \n",
       "\n",
       "                            topics  hours  \n",
       "0                           Search      1  \n",
       "1    Design Tools, Marketing, Tech      8  \n",
       "2                     Productivity     21  \n",
       "3  Hiring, Artificial Intelligence      8  \n",
       "4            Productivity, Privacy      8  "
      ]
     },
     "execution_count": 88,
     "metadata": {},
     "output_type": "execute_result"
    }
   ],
   "source": [
    "df.head()"
   ]
  },
  {
   "cell_type": "markdown",
   "metadata": {},
   "source": [
    "## Daily Product Launches for the month of January"
   ]
  },
  {
   "cell_type": "code",
   "execution_count": 89,
   "metadata": {},
   "outputs": [],
   "source": [
    "# Convert the 'createdAt' column to a proper datetime data type:\n",
    "Daily_df = df.copy()\n",
    "Daily_df['createdAt'] = pd.to_datetime(Daily_df['createdAt']).dt.date"
   ]
  },
  {
   "cell_type": "code",
   "execution_count": 90,
   "metadata": {},
   "outputs": [
    {
     "data": {
      "text/html": [
       "<div>\n",
       "<style scoped>\n",
       "    .dataframe tbody tr th:only-of-type {\n",
       "        vertical-align: middle;\n",
       "    }\n",
       "\n",
       "    .dataframe tbody tr th {\n",
       "        vertical-align: top;\n",
       "    }\n",
       "\n",
       "    .dataframe thead th {\n",
       "        text-align: right;\n",
       "    }\n",
       "</style>\n",
       "<table border=\"1\" class=\"dataframe\">\n",
       "  <thead>\n",
       "    <tr style=\"text-align: right;\">\n",
       "      <th></th>\n",
       "      <th>id</th>\n",
       "      <th>name</th>\n",
       "      <th>votesCount</th>\n",
       "      <th>commentsCount</th>\n",
       "      <th>createdAt</th>\n",
       "      <th>Month</th>\n",
       "      <th>totalCount</th>\n",
       "      <th>topics</th>\n",
       "      <th>hours</th>\n",
       "    </tr>\n",
       "  </thead>\n",
       "  <tbody>\n",
       "    <tr>\n",
       "      <th>0</th>\n",
       "      <td>377488</td>\n",
       "      <td>Perplexity.ai</td>\n",
       "      <td>214</td>\n",
       "      <td>19</td>\n",
       "      <td>2023-02-01</td>\n",
       "      <td>February</td>\n",
       "      <td>20</td>\n",
       "      <td>Search</td>\n",
       "      <td>1</td>\n",
       "    </tr>\n",
       "    <tr>\n",
       "      <th>1</th>\n",
       "      <td>377270</td>\n",
       "      <td>Image Editor AI</td>\n",
       "      <td>46</td>\n",
       "      <td>11</td>\n",
       "      <td>2023-02-01</td>\n",
       "      <td>February</td>\n",
       "      <td>15</td>\n",
       "      <td>Design Tools, Marketing, Tech</td>\n",
       "      <td>8</td>\n",
       "    </tr>\n",
       "    <tr>\n",
       "      <th>2</th>\n",
       "      <td>377466</td>\n",
       "      <td>RoboHelper</td>\n",
       "      <td>21</td>\n",
       "      <td>5</td>\n",
       "      <td>2023-01-31</td>\n",
       "      <td>January</td>\n",
       "      <td>3</td>\n",
       "      <td>Productivity</td>\n",
       "      <td>21</td>\n",
       "    </tr>\n",
       "    <tr>\n",
       "      <th>3</th>\n",
       "      <td>376463</td>\n",
       "      <td>Dover Autopilot</td>\n",
       "      <td>1118</td>\n",
       "      <td>134</td>\n",
       "      <td>2023-01-31</td>\n",
       "      <td>January</td>\n",
       "      <td>20</td>\n",
       "      <td>Hiring, Artificial Intelligence</td>\n",
       "      <td>8</td>\n",
       "    </tr>\n",
       "    <tr>\n",
       "      <th>4</th>\n",
       "      <td>377244</td>\n",
       "      <td>Unlimited Voice Transcription with API</td>\n",
       "      <td>873</td>\n",
       "      <td>229</td>\n",
       "      <td>2023-01-31</td>\n",
       "      <td>January</td>\n",
       "      <td>20</td>\n",
       "      <td>Productivity, Privacy</td>\n",
       "      <td>8</td>\n",
       "    </tr>\n",
       "  </tbody>\n",
       "</table>\n",
       "</div>"
      ],
      "text/plain": [
       "       id                                    name  votesCount  commentsCount  \\\n",
       "0  377488                           Perplexity.ai         214             19   \n",
       "1  377270                         Image Editor AI          46             11   \n",
       "2  377466                              RoboHelper          21              5   \n",
       "3  376463                         Dover Autopilot        1118            134   \n",
       "4  377244  Unlimited Voice Transcription with API         873            229   \n",
       "\n",
       "    createdAt     Month  totalCount                           topics  hours  \n",
       "0  2023-02-01  February          20                           Search      1  \n",
       "1  2023-02-01  February          15    Design Tools, Marketing, Tech      8  \n",
       "2  2023-01-31   January           3                     Productivity     21  \n",
       "3  2023-01-31   January          20  Hiring, Artificial Intelligence      8  \n",
       "4  2023-01-31   January          20            Productivity, Privacy      8  "
      ]
     },
     "execution_count": 90,
     "metadata": {},
     "output_type": "execute_result"
    }
   ],
   "source": [
    "Daily_df.head()"
   ]
  },
  {
   "cell_type": "code",
   "execution_count": 91,
   "metadata": {},
   "outputs": [
    {
     "name": "stdout",
     "output_type": "stream",
     "text": [
      "    createdAt  product_count\n",
      "0  2022-12-31             35\n",
      "1  2023-01-01             24\n",
      "2  2023-01-02             32\n",
      "3  2023-01-03             30\n",
      "4  2023-01-04             34\n"
     ]
    }
   ],
   "source": [
    "\n",
    "# Group the data by the 'createdAt' date and count the number of products launched each day:\n",
    "product_count_per_day = Daily_df.groupby('createdAt').size().reset_index(name='product_count')\n",
    "print(product_count_per_day.head())"
   ]
  },
  {
   "cell_type": "markdown",
   "metadata": {},
   "source": [
    "### Line Plot"
   ]
  },
  {
   "cell_type": "code",
   "execution_count": 92,
   "metadata": {},
   "outputs": [
    {
     "name": "stdout",
     "output_type": "stream",
     "text": [
      "The most popular day of January is Day 2023-01-24 with 64 products launched.\n"
     ]
    },
    {
     "data": {
      "application/vnd.plotly.v1+json": {
       "config": {
        "plotlyServerURL": "https://plot.ly"
       },
       "data": [
        {
         "hovertemplate": "x=%{x}<br>y=%{y}<extra></extra>",
         "legendgroup": "",
         "line": {
          "color": "#636efa",
          "dash": "solid"
         },
         "marker": {
          "symbol": "circle"
         },
         "mode": "lines+markers",
         "name": "",
         "orientation": "v",
         "showlegend": false,
         "type": "scatter",
         "x": [
          1,
          2,
          3,
          4,
          5,
          6,
          7,
          8,
          9,
          10,
          11,
          12,
          13,
          14,
          15,
          16,
          17,
          18,
          19,
          20,
          21,
          22,
          23,
          24,
          25,
          26,
          27,
          28,
          29,
          30,
          31
         ],
         "xaxis": "x",
         "y": [
          24,
          32,
          30,
          34,
          51,
          42,
          13,
          17,
          44,
          53,
          58,
          50,
          37,
          12,
          16,
          50,
          61,
          56,
          51,
          36,
          25,
          33,
          59,
          64,
          63,
          54,
          30,
          17,
          18,
          36,
          57
         ],
         "yaxis": "y"
        }
       ],
       "layout": {
        "legend": {
         "tracegroupgap": 0
        },
        "margin": {
         "t": 60
        },
        "template": {
         "data": {
          "bar": [
           {
            "error_x": {
             "color": "#2a3f5f"
            },
            "error_y": {
             "color": "#2a3f5f"
            },
            "marker": {
             "line": {
              "color": "#E5ECF6",
              "width": 0.5
             },
             "pattern": {
              "fillmode": "overlay",
              "size": 10,
              "solidity": 0.2
             }
            },
            "type": "bar"
           }
          ],
          "barpolar": [
           {
            "marker": {
             "line": {
              "color": "#E5ECF6",
              "width": 0.5
             },
             "pattern": {
              "fillmode": "overlay",
              "size": 10,
              "solidity": 0.2
             }
            },
            "type": "barpolar"
           }
          ],
          "carpet": [
           {
            "aaxis": {
             "endlinecolor": "#2a3f5f",
             "gridcolor": "white",
             "linecolor": "white",
             "minorgridcolor": "white",
             "startlinecolor": "#2a3f5f"
            },
            "baxis": {
             "endlinecolor": "#2a3f5f",
             "gridcolor": "white",
             "linecolor": "white",
             "minorgridcolor": "white",
             "startlinecolor": "#2a3f5f"
            },
            "type": "carpet"
           }
          ],
          "choropleth": [
           {
            "colorbar": {
             "outlinewidth": 0,
             "ticks": ""
            },
            "type": "choropleth"
           }
          ],
          "contour": [
           {
            "colorbar": {
             "outlinewidth": 0,
             "ticks": ""
            },
            "colorscale": [
             [
              0,
              "#0d0887"
             ],
             [
              0.1111111111111111,
              "#46039f"
             ],
             [
              0.2222222222222222,
              "#7201a8"
             ],
             [
              0.3333333333333333,
              "#9c179e"
             ],
             [
              0.4444444444444444,
              "#bd3786"
             ],
             [
              0.5555555555555556,
              "#d8576b"
             ],
             [
              0.6666666666666666,
              "#ed7953"
             ],
             [
              0.7777777777777778,
              "#fb9f3a"
             ],
             [
              0.8888888888888888,
              "#fdca26"
             ],
             [
              1,
              "#f0f921"
             ]
            ],
            "type": "contour"
           }
          ],
          "contourcarpet": [
           {
            "colorbar": {
             "outlinewidth": 0,
             "ticks": ""
            },
            "type": "contourcarpet"
           }
          ],
          "heatmap": [
           {
            "colorbar": {
             "outlinewidth": 0,
             "ticks": ""
            },
            "colorscale": [
             [
              0,
              "#0d0887"
             ],
             [
              0.1111111111111111,
              "#46039f"
             ],
             [
              0.2222222222222222,
              "#7201a8"
             ],
             [
              0.3333333333333333,
              "#9c179e"
             ],
             [
              0.4444444444444444,
              "#bd3786"
             ],
             [
              0.5555555555555556,
              "#d8576b"
             ],
             [
              0.6666666666666666,
              "#ed7953"
             ],
             [
              0.7777777777777778,
              "#fb9f3a"
             ],
             [
              0.8888888888888888,
              "#fdca26"
             ],
             [
              1,
              "#f0f921"
             ]
            ],
            "type": "heatmap"
           }
          ],
          "heatmapgl": [
           {
            "colorbar": {
             "outlinewidth": 0,
             "ticks": ""
            },
            "colorscale": [
             [
              0,
              "#0d0887"
             ],
             [
              0.1111111111111111,
              "#46039f"
             ],
             [
              0.2222222222222222,
              "#7201a8"
             ],
             [
              0.3333333333333333,
              "#9c179e"
             ],
             [
              0.4444444444444444,
              "#bd3786"
             ],
             [
              0.5555555555555556,
              "#d8576b"
             ],
             [
              0.6666666666666666,
              "#ed7953"
             ],
             [
              0.7777777777777778,
              "#fb9f3a"
             ],
             [
              0.8888888888888888,
              "#fdca26"
             ],
             [
              1,
              "#f0f921"
             ]
            ],
            "type": "heatmapgl"
           }
          ],
          "histogram": [
           {
            "marker": {
             "pattern": {
              "fillmode": "overlay",
              "size": 10,
              "solidity": 0.2
             }
            },
            "type": "histogram"
           }
          ],
          "histogram2d": [
           {
            "colorbar": {
             "outlinewidth": 0,
             "ticks": ""
            },
            "colorscale": [
             [
              0,
              "#0d0887"
             ],
             [
              0.1111111111111111,
              "#46039f"
             ],
             [
              0.2222222222222222,
              "#7201a8"
             ],
             [
              0.3333333333333333,
              "#9c179e"
             ],
             [
              0.4444444444444444,
              "#bd3786"
             ],
             [
              0.5555555555555556,
              "#d8576b"
             ],
             [
              0.6666666666666666,
              "#ed7953"
             ],
             [
              0.7777777777777778,
              "#fb9f3a"
             ],
             [
              0.8888888888888888,
              "#fdca26"
             ],
             [
              1,
              "#f0f921"
             ]
            ],
            "type": "histogram2d"
           }
          ],
          "histogram2dcontour": [
           {
            "colorbar": {
             "outlinewidth": 0,
             "ticks": ""
            },
            "colorscale": [
             [
              0,
              "#0d0887"
             ],
             [
              0.1111111111111111,
              "#46039f"
             ],
             [
              0.2222222222222222,
              "#7201a8"
             ],
             [
              0.3333333333333333,
              "#9c179e"
             ],
             [
              0.4444444444444444,
              "#bd3786"
             ],
             [
              0.5555555555555556,
              "#d8576b"
             ],
             [
              0.6666666666666666,
              "#ed7953"
             ],
             [
              0.7777777777777778,
              "#fb9f3a"
             ],
             [
              0.8888888888888888,
              "#fdca26"
             ],
             [
              1,
              "#f0f921"
             ]
            ],
            "type": "histogram2dcontour"
           }
          ],
          "mesh3d": [
           {
            "colorbar": {
             "outlinewidth": 0,
             "ticks": ""
            },
            "type": "mesh3d"
           }
          ],
          "parcoords": [
           {
            "line": {
             "colorbar": {
              "outlinewidth": 0,
              "ticks": ""
             }
            },
            "type": "parcoords"
           }
          ],
          "pie": [
           {
            "automargin": true,
            "type": "pie"
           }
          ],
          "scatter": [
           {
            "fillpattern": {
             "fillmode": "overlay",
             "size": 10,
             "solidity": 0.2
            },
            "type": "scatter"
           }
          ],
          "scatter3d": [
           {
            "line": {
             "colorbar": {
              "outlinewidth": 0,
              "ticks": ""
             }
            },
            "marker": {
             "colorbar": {
              "outlinewidth": 0,
              "ticks": ""
             }
            },
            "type": "scatter3d"
           }
          ],
          "scattercarpet": [
           {
            "marker": {
             "colorbar": {
              "outlinewidth": 0,
              "ticks": ""
             }
            },
            "type": "scattercarpet"
           }
          ],
          "scattergeo": [
           {
            "marker": {
             "colorbar": {
              "outlinewidth": 0,
              "ticks": ""
             }
            },
            "type": "scattergeo"
           }
          ],
          "scattergl": [
           {
            "marker": {
             "colorbar": {
              "outlinewidth": 0,
              "ticks": ""
             }
            },
            "type": "scattergl"
           }
          ],
          "scattermapbox": [
           {
            "marker": {
             "colorbar": {
              "outlinewidth": 0,
              "ticks": ""
             }
            },
            "type": "scattermapbox"
           }
          ],
          "scatterpolar": [
           {
            "marker": {
             "colorbar": {
              "outlinewidth": 0,
              "ticks": ""
             }
            },
            "type": "scatterpolar"
           }
          ],
          "scatterpolargl": [
           {
            "marker": {
             "colorbar": {
              "outlinewidth": 0,
              "ticks": ""
             }
            },
            "type": "scatterpolargl"
           }
          ],
          "scatterternary": [
           {
            "marker": {
             "colorbar": {
              "outlinewidth": 0,
              "ticks": ""
             }
            },
            "type": "scatterternary"
           }
          ],
          "surface": [
           {
            "colorbar": {
             "outlinewidth": 0,
             "ticks": ""
            },
            "colorscale": [
             [
              0,
              "#0d0887"
             ],
             [
              0.1111111111111111,
              "#46039f"
             ],
             [
              0.2222222222222222,
              "#7201a8"
             ],
             [
              0.3333333333333333,
              "#9c179e"
             ],
             [
              0.4444444444444444,
              "#bd3786"
             ],
             [
              0.5555555555555556,
              "#d8576b"
             ],
             [
              0.6666666666666666,
              "#ed7953"
             ],
             [
              0.7777777777777778,
              "#fb9f3a"
             ],
             [
              0.8888888888888888,
              "#fdca26"
             ],
             [
              1,
              "#f0f921"
             ]
            ],
            "type": "surface"
           }
          ],
          "table": [
           {
            "cells": {
             "fill": {
              "color": "#EBF0F8"
             },
             "line": {
              "color": "white"
             }
            },
            "header": {
             "fill": {
              "color": "#C8D4E3"
             },
             "line": {
              "color": "white"
             }
            },
            "type": "table"
           }
          ]
         },
         "layout": {
          "annotationdefaults": {
           "arrowcolor": "#2a3f5f",
           "arrowhead": 0,
           "arrowwidth": 1
          },
          "autotypenumbers": "strict",
          "coloraxis": {
           "colorbar": {
            "outlinewidth": 0,
            "ticks": ""
           }
          },
          "colorscale": {
           "diverging": [
            [
             0,
             "#8e0152"
            ],
            [
             0.1,
             "#c51b7d"
            ],
            [
             0.2,
             "#de77ae"
            ],
            [
             0.3,
             "#f1b6da"
            ],
            [
             0.4,
             "#fde0ef"
            ],
            [
             0.5,
             "#f7f7f7"
            ],
            [
             0.6,
             "#e6f5d0"
            ],
            [
             0.7,
             "#b8e186"
            ],
            [
             0.8,
             "#7fbc41"
            ],
            [
             0.9,
             "#4d9221"
            ],
            [
             1,
             "#276419"
            ]
           ],
           "sequential": [
            [
             0,
             "#0d0887"
            ],
            [
             0.1111111111111111,
             "#46039f"
            ],
            [
             0.2222222222222222,
             "#7201a8"
            ],
            [
             0.3333333333333333,
             "#9c179e"
            ],
            [
             0.4444444444444444,
             "#bd3786"
            ],
            [
             0.5555555555555556,
             "#d8576b"
            ],
            [
             0.6666666666666666,
             "#ed7953"
            ],
            [
             0.7777777777777778,
             "#fb9f3a"
            ],
            [
             0.8888888888888888,
             "#fdca26"
            ],
            [
             1,
             "#f0f921"
            ]
           ],
           "sequentialminus": [
            [
             0,
             "#0d0887"
            ],
            [
             0.1111111111111111,
             "#46039f"
            ],
            [
             0.2222222222222222,
             "#7201a8"
            ],
            [
             0.3333333333333333,
             "#9c179e"
            ],
            [
             0.4444444444444444,
             "#bd3786"
            ],
            [
             0.5555555555555556,
             "#d8576b"
            ],
            [
             0.6666666666666666,
             "#ed7953"
            ],
            [
             0.7777777777777778,
             "#fb9f3a"
            ],
            [
             0.8888888888888888,
             "#fdca26"
            ],
            [
             1,
             "#f0f921"
            ]
           ]
          },
          "colorway": [
           "#636efa",
           "#EF553B",
           "#00cc96",
           "#ab63fa",
           "#FFA15A",
           "#19d3f3",
           "#FF6692",
           "#B6E880",
           "#FF97FF",
           "#FECB52"
          ],
          "font": {
           "color": "#2a3f5f"
          },
          "geo": {
           "bgcolor": "white",
           "lakecolor": "white",
           "landcolor": "#E5ECF6",
           "showlakes": true,
           "showland": true,
           "subunitcolor": "white"
          },
          "hoverlabel": {
           "align": "left"
          },
          "hovermode": "closest",
          "mapbox": {
           "style": "light"
          },
          "paper_bgcolor": "white",
          "plot_bgcolor": "#E5ECF6",
          "polar": {
           "angularaxis": {
            "gridcolor": "white",
            "linecolor": "white",
            "ticks": ""
           },
           "bgcolor": "#E5ECF6",
           "radialaxis": {
            "gridcolor": "white",
            "linecolor": "white",
            "ticks": ""
           }
          },
          "scene": {
           "xaxis": {
            "backgroundcolor": "#E5ECF6",
            "gridcolor": "white",
            "gridwidth": 2,
            "linecolor": "white",
            "showbackground": true,
            "ticks": "",
            "zerolinecolor": "white"
           },
           "yaxis": {
            "backgroundcolor": "#E5ECF6",
            "gridcolor": "white",
            "gridwidth": 2,
            "linecolor": "white",
            "showbackground": true,
            "ticks": "",
            "zerolinecolor": "white"
           },
           "zaxis": {
            "backgroundcolor": "#E5ECF6",
            "gridcolor": "white",
            "gridwidth": 2,
            "linecolor": "white",
            "showbackground": true,
            "ticks": "",
            "zerolinecolor": "white"
           }
          },
          "shapedefaults": {
           "line": {
            "color": "#2a3f5f"
           }
          },
          "ternary": {
           "aaxis": {
            "gridcolor": "white",
            "linecolor": "white",
            "ticks": ""
           },
           "baxis": {
            "gridcolor": "white",
            "linecolor": "white",
            "ticks": ""
           },
           "bgcolor": "#E5ECF6",
           "caxis": {
            "gridcolor": "white",
            "linecolor": "white",
            "ticks": ""
           }
          },
          "title": {
           "x": 0.05
          },
          "xaxis": {
           "automargin": true,
           "gridcolor": "white",
           "linecolor": "white",
           "ticks": "",
           "title": {
            "standoff": 15
           },
           "zerolinecolor": "white",
           "zerolinewidth": 2
          },
          "yaxis": {
           "automargin": true,
           "gridcolor": "white",
           "linecolor": "white",
           "ticks": "",
           "title": {
            "standoff": 15
           },
           "zerolinecolor": "white",
           "zerolinewidth": 2
          }
         }
        },
        "title": {
         "text": "Product Launching Activity in January"
        },
        "xaxis": {
         "anchor": "y",
         "domain": [
          0,
          1
         ],
         "title": {
          "text": "Day"
         }
        },
        "yaxis": {
         "anchor": "x",
         "domain": [
          0,
          1
         ],
         "title": {
          "text": "Number of Products Launched"
         }
        }
       }
      }
     },
     "metadata": {},
     "output_type": "display_data"
    }
   ],
   "source": [
    "Daily_df['createdAt'] = pd.to_datetime(Daily_df['createdAt'])\n",
    "january_df = Daily_df[Daily_df['Month'] == 'January']\n",
    "january_df.head()\n",
    "\n",
    "january_daily_counts = january_df['createdAt'].dt.day.value_counts().sort_index()\n",
    "\n",
    "most_popular_day = january_daily_counts.idxmax()\n",
    "num_products_launched = january_daily_counts.max()\n",
    "\n",
    "# Format the most popular day in the desired format: \"year-month-day\"\n",
    "most_popular_day_formatted = january_df.loc[january_df['createdAt'].dt.day == most_popular_day, 'createdAt'].iloc[0].strftime('%Y-%m-%d')\n",
    "\n",
    "print(f\"The most popular day of January is Day {most_popular_day_formatted} with {num_products_launched} products launched.\")\n",
    "\n",
    "fig = px.line(x=january_daily_counts.index, y=january_daily_counts.values, markers=True)\n",
    "fig.update_layout(title=\"Product Launching Activity in January\", xaxis_title=\"Day\", yaxis_title=\"Number of Products Launched\")\n",
    "fig.show()\n"
   ]
  },
  {
   "cell_type": "markdown",
   "metadata": {},
   "source": [
    "### Ploting the Hourly product launch rate for the most active day of the month"
   ]
  },
  {
   "cell_type": "code",
   "execution_count": 93,
   "metadata": {},
   "outputs": [
    {
     "data": {
      "application/vnd.plotly.v1+json": {
       "config": {
        "plotlyServerURL": "https://plot.ly"
       },
       "data": [
        {
         "line": {
          "shape": "linear",
          "width": 2
         },
         "marker": {
          "line": {
           "color": "white",
           "width": 2
          },
          "size": 8
         },
         "mode": "lines+markers",
         "type": "scatter",
         "x": [
          1,
          6,
          7,
          8,
          9,
          10,
          11,
          12,
          14,
          15,
          17,
          18
         ],
         "y": [
          2,
          1,
          1,
          37,
          2,
          5,
          1,
          4,
          1,
          6,
          1,
          3
         ]
        }
       ],
       "layout": {
        "height": 500,
        "margin": {
         "t": 50
        },
        "template": {
         "data": {
          "bar": [
           {
            "error_x": {
             "color": "#f2f5fa"
            },
            "error_y": {
             "color": "#f2f5fa"
            },
            "marker": {
             "line": {
              "color": "rgb(17,17,17)",
              "width": 0.5
             },
             "pattern": {
              "fillmode": "overlay",
              "size": 10,
              "solidity": 0.2
             }
            },
            "type": "bar"
           }
          ],
          "barpolar": [
           {
            "marker": {
             "line": {
              "color": "rgb(17,17,17)",
              "width": 0.5
             },
             "pattern": {
              "fillmode": "overlay",
              "size": 10,
              "solidity": 0.2
             }
            },
            "type": "barpolar"
           }
          ],
          "carpet": [
           {
            "aaxis": {
             "endlinecolor": "#A2B1C6",
             "gridcolor": "#506784",
             "linecolor": "#506784",
             "minorgridcolor": "#506784",
             "startlinecolor": "#A2B1C6"
            },
            "baxis": {
             "endlinecolor": "#A2B1C6",
             "gridcolor": "#506784",
             "linecolor": "#506784",
             "minorgridcolor": "#506784",
             "startlinecolor": "#A2B1C6"
            },
            "type": "carpet"
           }
          ],
          "choropleth": [
           {
            "colorbar": {
             "outlinewidth": 0,
             "ticks": ""
            },
            "type": "choropleth"
           }
          ],
          "contour": [
           {
            "colorbar": {
             "outlinewidth": 0,
             "ticks": ""
            },
            "colorscale": [
             [
              0,
              "#0d0887"
             ],
             [
              0.1111111111111111,
              "#46039f"
             ],
             [
              0.2222222222222222,
              "#7201a8"
             ],
             [
              0.3333333333333333,
              "#9c179e"
             ],
             [
              0.4444444444444444,
              "#bd3786"
             ],
             [
              0.5555555555555556,
              "#d8576b"
             ],
             [
              0.6666666666666666,
              "#ed7953"
             ],
             [
              0.7777777777777778,
              "#fb9f3a"
             ],
             [
              0.8888888888888888,
              "#fdca26"
             ],
             [
              1,
              "#f0f921"
             ]
            ],
            "type": "contour"
           }
          ],
          "contourcarpet": [
           {
            "colorbar": {
             "outlinewidth": 0,
             "ticks": ""
            },
            "type": "contourcarpet"
           }
          ],
          "heatmap": [
           {
            "colorbar": {
             "outlinewidth": 0,
             "ticks": ""
            },
            "colorscale": [
             [
              0,
              "#0d0887"
             ],
             [
              0.1111111111111111,
              "#46039f"
             ],
             [
              0.2222222222222222,
              "#7201a8"
             ],
             [
              0.3333333333333333,
              "#9c179e"
             ],
             [
              0.4444444444444444,
              "#bd3786"
             ],
             [
              0.5555555555555556,
              "#d8576b"
             ],
             [
              0.6666666666666666,
              "#ed7953"
             ],
             [
              0.7777777777777778,
              "#fb9f3a"
             ],
             [
              0.8888888888888888,
              "#fdca26"
             ],
             [
              1,
              "#f0f921"
             ]
            ],
            "type": "heatmap"
           }
          ],
          "heatmapgl": [
           {
            "colorbar": {
             "outlinewidth": 0,
             "ticks": ""
            },
            "colorscale": [
             [
              0,
              "#0d0887"
             ],
             [
              0.1111111111111111,
              "#46039f"
             ],
             [
              0.2222222222222222,
              "#7201a8"
             ],
             [
              0.3333333333333333,
              "#9c179e"
             ],
             [
              0.4444444444444444,
              "#bd3786"
             ],
             [
              0.5555555555555556,
              "#d8576b"
             ],
             [
              0.6666666666666666,
              "#ed7953"
             ],
             [
              0.7777777777777778,
              "#fb9f3a"
             ],
             [
              0.8888888888888888,
              "#fdca26"
             ],
             [
              1,
              "#f0f921"
             ]
            ],
            "type": "heatmapgl"
           }
          ],
          "histogram": [
           {
            "marker": {
             "pattern": {
              "fillmode": "overlay",
              "size": 10,
              "solidity": 0.2
             }
            },
            "type": "histogram"
           }
          ],
          "histogram2d": [
           {
            "colorbar": {
             "outlinewidth": 0,
             "ticks": ""
            },
            "colorscale": [
             [
              0,
              "#0d0887"
             ],
             [
              0.1111111111111111,
              "#46039f"
             ],
             [
              0.2222222222222222,
              "#7201a8"
             ],
             [
              0.3333333333333333,
              "#9c179e"
             ],
             [
              0.4444444444444444,
              "#bd3786"
             ],
             [
              0.5555555555555556,
              "#d8576b"
             ],
             [
              0.6666666666666666,
              "#ed7953"
             ],
             [
              0.7777777777777778,
              "#fb9f3a"
             ],
             [
              0.8888888888888888,
              "#fdca26"
             ],
             [
              1,
              "#f0f921"
             ]
            ],
            "type": "histogram2d"
           }
          ],
          "histogram2dcontour": [
           {
            "colorbar": {
             "outlinewidth": 0,
             "ticks": ""
            },
            "colorscale": [
             [
              0,
              "#0d0887"
             ],
             [
              0.1111111111111111,
              "#46039f"
             ],
             [
              0.2222222222222222,
              "#7201a8"
             ],
             [
              0.3333333333333333,
              "#9c179e"
             ],
             [
              0.4444444444444444,
              "#bd3786"
             ],
             [
              0.5555555555555556,
              "#d8576b"
             ],
             [
              0.6666666666666666,
              "#ed7953"
             ],
             [
              0.7777777777777778,
              "#fb9f3a"
             ],
             [
              0.8888888888888888,
              "#fdca26"
             ],
             [
              1,
              "#f0f921"
             ]
            ],
            "type": "histogram2dcontour"
           }
          ],
          "mesh3d": [
           {
            "colorbar": {
             "outlinewidth": 0,
             "ticks": ""
            },
            "type": "mesh3d"
           }
          ],
          "parcoords": [
           {
            "line": {
             "colorbar": {
              "outlinewidth": 0,
              "ticks": ""
             }
            },
            "type": "parcoords"
           }
          ],
          "pie": [
           {
            "automargin": true,
            "type": "pie"
           }
          ],
          "scatter": [
           {
            "marker": {
             "line": {
              "color": "#283442"
             }
            },
            "type": "scatter"
           }
          ],
          "scatter3d": [
           {
            "line": {
             "colorbar": {
              "outlinewidth": 0,
              "ticks": ""
             }
            },
            "marker": {
             "colorbar": {
              "outlinewidth": 0,
              "ticks": ""
             }
            },
            "type": "scatter3d"
           }
          ],
          "scattercarpet": [
           {
            "marker": {
             "colorbar": {
              "outlinewidth": 0,
              "ticks": ""
             }
            },
            "type": "scattercarpet"
           }
          ],
          "scattergeo": [
           {
            "marker": {
             "colorbar": {
              "outlinewidth": 0,
              "ticks": ""
             }
            },
            "type": "scattergeo"
           }
          ],
          "scattergl": [
           {
            "marker": {
             "line": {
              "color": "#283442"
             }
            },
            "type": "scattergl"
           }
          ],
          "scattermapbox": [
           {
            "marker": {
             "colorbar": {
              "outlinewidth": 0,
              "ticks": ""
             }
            },
            "type": "scattermapbox"
           }
          ],
          "scatterpolar": [
           {
            "marker": {
             "colorbar": {
              "outlinewidth": 0,
              "ticks": ""
             }
            },
            "type": "scatterpolar"
           }
          ],
          "scatterpolargl": [
           {
            "marker": {
             "colorbar": {
              "outlinewidth": 0,
              "ticks": ""
             }
            },
            "type": "scatterpolargl"
           }
          ],
          "scatterternary": [
           {
            "marker": {
             "colorbar": {
              "outlinewidth": 0,
              "ticks": ""
             }
            },
            "type": "scatterternary"
           }
          ],
          "surface": [
           {
            "colorbar": {
             "outlinewidth": 0,
             "ticks": ""
            },
            "colorscale": [
             [
              0,
              "#0d0887"
             ],
             [
              0.1111111111111111,
              "#46039f"
             ],
             [
              0.2222222222222222,
              "#7201a8"
             ],
             [
              0.3333333333333333,
              "#9c179e"
             ],
             [
              0.4444444444444444,
              "#bd3786"
             ],
             [
              0.5555555555555556,
              "#d8576b"
             ],
             [
              0.6666666666666666,
              "#ed7953"
             ],
             [
              0.7777777777777778,
              "#fb9f3a"
             ],
             [
              0.8888888888888888,
              "#fdca26"
             ],
             [
              1,
              "#f0f921"
             ]
            ],
            "type": "surface"
           }
          ],
          "table": [
           {
            "cells": {
             "fill": {
              "color": "#506784"
             },
             "line": {
              "color": "rgb(17,17,17)"
             }
            },
            "header": {
             "fill": {
              "color": "#2a3f5f"
             },
             "line": {
              "color": "rgb(17,17,17)"
             }
            },
            "type": "table"
           }
          ]
         },
         "layout": {
          "annotationdefaults": {
           "arrowcolor": "#f2f5fa",
           "arrowhead": 0,
           "arrowwidth": 1
          },
          "autotypenumbers": "strict",
          "coloraxis": {
           "colorbar": {
            "outlinewidth": 0,
            "ticks": ""
           }
          },
          "colorscale": {
           "diverging": [
            [
             0,
             "#8e0152"
            ],
            [
             0.1,
             "#c51b7d"
            ],
            [
             0.2,
             "#de77ae"
            ],
            [
             0.3,
             "#f1b6da"
            ],
            [
             0.4,
             "#fde0ef"
            ],
            [
             0.5,
             "#f7f7f7"
            ],
            [
             0.6,
             "#e6f5d0"
            ],
            [
             0.7,
             "#b8e186"
            ],
            [
             0.8,
             "#7fbc41"
            ],
            [
             0.9,
             "#4d9221"
            ],
            [
             1,
             "#276419"
            ]
           ],
           "sequential": [
            [
             0,
             "#0d0887"
            ],
            [
             0.1111111111111111,
             "#46039f"
            ],
            [
             0.2222222222222222,
             "#7201a8"
            ],
            [
             0.3333333333333333,
             "#9c179e"
            ],
            [
             0.4444444444444444,
             "#bd3786"
            ],
            [
             0.5555555555555556,
             "#d8576b"
            ],
            [
             0.6666666666666666,
             "#ed7953"
            ],
            [
             0.7777777777777778,
             "#fb9f3a"
            ],
            [
             0.8888888888888888,
             "#fdca26"
            ],
            [
             1,
             "#f0f921"
            ]
           ],
           "sequentialminus": [
            [
             0,
             "#0d0887"
            ],
            [
             0.1111111111111111,
             "#46039f"
            ],
            [
             0.2222222222222222,
             "#7201a8"
            ],
            [
             0.3333333333333333,
             "#9c179e"
            ],
            [
             0.4444444444444444,
             "#bd3786"
            ],
            [
             0.5555555555555556,
             "#d8576b"
            ],
            [
             0.6666666666666666,
             "#ed7953"
            ],
            [
             0.7777777777777778,
             "#fb9f3a"
            ],
            [
             0.8888888888888888,
             "#fdca26"
            ],
            [
             1,
             "#f0f921"
            ]
           ]
          },
          "colorway": [
           "#636efa",
           "#EF553B",
           "#00cc96",
           "#ab63fa",
           "#FFA15A",
           "#19d3f3",
           "#FF6692",
           "#B6E880",
           "#FF97FF",
           "#FECB52"
          ],
          "font": {
           "color": "#f2f5fa"
          },
          "geo": {
           "bgcolor": "rgb(17,17,17)",
           "lakecolor": "rgb(17,17,17)",
           "landcolor": "rgb(17,17,17)",
           "showlakes": true,
           "showland": true,
           "subunitcolor": "#506784"
          },
          "hoverlabel": {
           "align": "left"
          },
          "hovermode": "closest",
          "mapbox": {
           "style": "dark"
          },
          "paper_bgcolor": "rgb(17,17,17)",
          "plot_bgcolor": "rgb(17,17,17)",
          "polar": {
           "angularaxis": {
            "gridcolor": "#506784",
            "linecolor": "#506784",
            "ticks": ""
           },
           "bgcolor": "rgb(17,17,17)",
           "radialaxis": {
            "gridcolor": "#506784",
            "linecolor": "#506784",
            "ticks": ""
           }
          },
          "scene": {
           "xaxis": {
            "backgroundcolor": "rgb(17,17,17)",
            "gridcolor": "#506784",
            "gridwidth": 2,
            "linecolor": "#506784",
            "showbackground": true,
            "ticks": "",
            "zerolinecolor": "#C8D4E3"
           },
           "yaxis": {
            "backgroundcolor": "rgb(17,17,17)",
            "gridcolor": "#506784",
            "gridwidth": 2,
            "linecolor": "#506784",
            "showbackground": true,
            "ticks": "",
            "zerolinecolor": "#C8D4E3"
           },
           "zaxis": {
            "backgroundcolor": "rgb(17,17,17)",
            "gridcolor": "#506784",
            "gridwidth": 2,
            "linecolor": "#506784",
            "showbackground": true,
            "ticks": "",
            "zerolinecolor": "#C8D4E3"
           }
          },
          "shapedefaults": {
           "line": {
            "color": "#f2f5fa"
           }
          },
          "sliderdefaults": {
           "bgcolor": "#C8D4E3",
           "bordercolor": "rgb(17,17,17)",
           "borderwidth": 1,
           "tickwidth": 0
          },
          "ternary": {
           "aaxis": {
            "gridcolor": "#506784",
            "linecolor": "#506784",
            "ticks": ""
           },
           "baxis": {
            "gridcolor": "#506784",
            "linecolor": "#506784",
            "ticks": ""
           },
           "bgcolor": "rgb(17,17,17)",
           "caxis": {
            "gridcolor": "#506784",
            "linecolor": "#506784",
            "ticks": ""
           }
          },
          "title": {
           "x": 0.05
          },
          "updatemenudefaults": {
           "bgcolor": "#506784",
           "borderwidth": 0
          },
          "xaxis": {
           "automargin": true,
           "gridcolor": "#283442",
           "linecolor": "#506784",
           "ticks": "",
           "title": {
            "standoff": 15
           },
           "zerolinecolor": "#283442",
           "zerolinewidth": 2
          },
          "yaxis": {
           "automargin": true,
           "gridcolor": "#283442",
           "linecolor": "#506784",
           "ticks": "",
           "title": {
            "standoff": 15
           },
           "zerolinecolor": "#283442",
           "zerolinewidth": 2
          }
         }
        },
        "title": {
         "text": "Number of Products Launched Each Hour"
        },
        "xaxis": {
         "tickvals": [
          0,
          1,
          2,
          3,
          4,
          5,
          6,
          7,
          8,
          9,
          10,
          11,
          12,
          13,
          14,
          15,
          16,
          17,
          18,
          19,
          20,
          21,
          22,
          23
         ],
         "title": {
          "text": "Hour of the Day"
         }
        },
        "yaxis": {
         "tickmode": "array",
         "ticktext": [
          0,
          5,
          10,
          15,
          20,
          25,
          30,
          35
         ],
         "tickvals": [
          0,
          5,
          10,
          15,
          20,
          25,
          30,
          35
         ],
         "title": {
          "text": "Number of Products"
         }
        }
       }
      }
     },
     "metadata": {},
     "output_type": "display_data"
    }
   ],
   "source": [
    "\n",
    "# Filter the DataFrame with a specific date (e.g., January 24, 2023)\n",
    "most_active_Day_df = df[df['createdAt'].dt.date == pd.to_datetime(most_popular_day_formatted).date()]\n",
    "\n",
    "# filtered_df.head()\n",
    "\n",
    "# Count the number of products launched each hour of the day\n",
    "hour_counts = most_active_Day_df['hours'].value_counts().sort_index()\n",
    "\n",
    "# Create a line plot using Plotly\n",
    "fig = go.Figure()\n",
    "\n",
    "fig.add_trace(go.Scatter(x=hour_counts.index, y=hour_counts.values, mode='lines+markers', line_shape='linear'))\n",
    "\n",
    "# Update the layout with a modern look\n",
    "fig.update_layout(\n",
    "    title='Number of Products Launched Each Hour',\n",
    "    xaxis_title='Hour of the Day',\n",
    "    yaxis_title='Number of Products',\n",
    "    xaxis=dict(tickvals=list(range(24))),\n",
    "    yaxis=dict(tickmode='array',  # Set the tick mode to 'array' for custom tick values\n",
    "               tickvals=list(range(0, hour_counts.max() + 1, 5)),  # Show labels every 5 values\n",
    "               ticktext=list(range(0, hour_counts.max() + 1, 5)),  # Use the same values for tick labels\n",
    "               ),\n",
    "    # width=800,            # Adjust the plot width to provide more space for labels\n",
    "    height=500,           # Adjust the plot height to provide more space for labels\n",
    "    margin=dict(t=50),    # Add margin at the top for the title\n",
    "    template='plotly_dark'  # Use a dark theme for a modern look\n",
    ")\n",
    "\n",
    "# Update marker and line styles\n",
    "fig.update_traces(marker=dict(size=8, line=dict(width=2, color='white')), line=dict(width=2))\n",
    "\n",
    "# Show the plot\n",
    "fig.show()"
   ]
  },
  {
   "cell_type": "markdown",
   "metadata": {},
   "source": [
    "## Weekly Product Launches "
   ]
  },
  {
   "cell_type": "code",
   "execution_count": 94,
   "metadata": {},
   "outputs": [
    {
     "name": "stderr",
     "output_type": "stream",
     "text": [
      "C:\\Users\\alime\\AppData\\Local\\Temp\\ipykernel_24172\\2299706930.py:16: FutureWarning:\n",
      "\n",
      "weekofyear and week have been deprecated, please use DatetimeIndex.isocalendar().week instead, which returns a Series. To exactly reproduce the behavior of week and weekofyear and return an Index, you may call pd.Int64Index(idx.isocalendar().week)\n",
      "\n"
     ]
    },
    {
     "data": {
      "image/png": "[encoded data removed]",
      "text/plain": [
       "<Figure size 864x504 with 1 Axes>"
      ]
     },
     "metadata": {
      "needs_background": "light"
     },
     "output_type": "display_data"
    }
   ],
   "source": [
    "# Step 1: Convert 'createdAt' to datetime and set as index\n",
    "product_count_per_day['createdAt'] = pd.to_datetime(product_count_per_day['createdAt'])\n",
    "product_count_per_day.set_index('createdAt', inplace=True)\n",
    "\n",
    "# Step 2: Resample by week and sum product_count\n",
    "weekly_data = product_count_per_day.resample('W').sum()\n",
    "\n",
    "\n",
    "# Step 3: Create the bar plot using Seaborn\n",
    "plt.figure(figsize=(12, 7))  # Increase the figure size\n",
    "\n",
    "# Use a modern color palette, 'viridis' is a good choice, but you can also try 'magma', 'plasma', or 'inferno'.\n",
    "sns.set_palette('viridis')\n",
    "\n",
    "# Create the bar plot\n",
    "ax = sns.barplot(x=weekly_data.index.week, y='product_count', data=weekly_data)\n",
    "\n",
    "# Add grid lines\n",
    "ax.grid(axis='y', linestyle='--', alpha=0.7)\n",
    "\n",
    "# Use a different font style for the title and axis labels\n",
    "plt.xlabel('Week of January', fontweight='bold', fontsize=12)\n",
    "plt.ylabel('Frequency', fontweight='bold', fontsize=12)\n",
    "plt.title('Product Count per Week in January', fontweight='bold', fontsize=16)\n",
    "\n",
    "# Rotate x-axis labels for better readability\n",
    "plt.xticks(rotation=45, ha='right')\n",
    "\n",
    "# Add a background color to the plot for a cleaner appearance\n",
    "ax.set_facecolor('#f5f5f5')\n",
    "\n",
    "# Remove the top and right spines\n",
    "ax.spines['top'].set_visible(False)\n",
    "ax.spines['right'].set_visible(False)\n",
    "\n",
    "# Show the plot\n",
    "plt.tight_layout()\n",
    "plt.show()\n",
    "\n",
    "# # Step 3: Create the bar plot using Seaborn\n",
    "# plt.figure(figsize=(10, 6))\n",
    "# sns.barplot(x=weekly_data.index.week, y='product_count', data=weekly_data, palette='viridis')\n",
    "# plt.xlabel('Week of January')\n",
    "# plt.ylabel('Frequency')\n",
    "# plt.title('Product Count per Week in January')\n",
    "# plt.xticks(rotation=45)\n",
    "# plt.tight_layout()\n",
    "# plt.show()\n"
   ]
  },
  {
   "cell_type": "markdown",
   "metadata": {},
   "source": [
    "# Product and Topic Network"
   ]
  },
  {
   "cell_type": "code",
   "execution_count": 95,
   "metadata": {},
   "outputs": [],
   "source": [
    "# # Select only 'name' and 'topics' columns to create a new DataFrame\n",
    "# tmp_df = df[['name', 'topics']]\n",
    "# Graph_df = tmp_df.head(5)\n",
    "\n",
    "\n",
    "# # Create a directed graph\n",
    "# G = nx.DiGraph()\n",
    "\n",
    "# # Add nodes for names and topics\n",
    "# names = Graph_df['name'].tolist()\n",
    "# topics = Graph_df['topics'].str.split(', ').explode().tolist()\n",
    "# G.add_nodes_from(names, node_type='name')\n",
    "# G.add_nodes_from(topics, node_type='topic')\n",
    "\n",
    "# # Create edges between names and their corresponding topics\n",
    "# for index, row in Graph_df.iterrows():\n",
    "#     name = row['name']\n",
    "#     topic_list = row['topics'].split(', ')\n",
    "#     for topic in topic_list:\n",
    "#         G.add_edge(name, topic)\n",
    "\n",
    "# # # Position nodes for visualization\n",
    "# # pos = nx.spring_layout(G, seed=42)\n",
    "\n",
    "\n",
    "# # Set the graph layout using Kamada-Kawai layout algorithm\n",
    "# pos = nx.kamada_kawai_layout(G)\n",
    "\n",
    "\n",
    "# # Draw the graph\n",
    "# plt.figure(figsize=(18, 12))\n",
    "# name_nodes = [node for node, node_type in G.nodes(data='node_type') if node_type == 'name']\n",
    "# topic_nodes = [node for node, node_type in G.nodes(data='node_type') if node_type == 'topic']\n",
    "\n",
    "# # Draw nodes with different colors\n",
    "# nx.draw_networkx_nodes(G, pos, nodelist=name_nodes, node_color='lightblue', node_size=1000, label='Name Nodes')\n",
    "# nx.draw_networkx_nodes(G, pos, nodelist=topic_nodes, node_color='lightgreen', node_size=1000, label='Topic Nodes')\n",
    "\n",
    "# # Draw node labels using the 'adjust_text' library to prevent overlapping\n",
    "# name_labels = {node: node for node in name_nodes}\n",
    "# topic_labels = {node: node for node in topic_nodes}\n",
    "# all_labels = {**name_labels, **topic_labels}\n",
    "# text_objects = nx.draw_networkx_labels(G, pos, labels=all_labels, font_size=9, font_weight='bold')\n",
    "\n",
    "# # Convert the dict_values object to a list for subscripting\n",
    "# text_objects_list = list(text_objects.values())\n",
    "\n",
    "# # Adjust node labels to prevent overlapping\n",
    "# adjust_text(text_objects_list, arrowprops=dict(arrowstyle='-', color='grey', lw=0.5))\n",
    "\n",
    "# # Draw edges and legend\n",
    "# nx.draw_networkx_edges(G, pos, width=0.5, alpha=0.7)\n",
    "# plt.title('Graph of Names and Topics')\n",
    "# plt.legend()\n",
    "# plt.axis('off')  # Turn off axis for better visualization\n",
    "# plt.tight_layout()\n",
    "# plt.show()"
   ]
  },
  {
   "cell_type": "markdown",
   "metadata": {},
   "source": [
    "# Most Popular Day of the month"
   ]
  },
  {
   "cell_type": "code",
   "execution_count": 96,
   "metadata": {},
   "outputs": [],
   "source": [
    "# df['createdAt'] = pd.to_datetime(df['createdAt'])\n",
    "\n",
    "# Filter data for the month of January\n",
    "# january_df = df[df['Month'] == 'January']\n",
    "# january_df.head()\n",
    "\n",
    "# # Find the most popular day and the number of names for that day\n",
    "# popular_day = january_df['createdAt'].dt.day.value_counts().idxmax()\n",
    "# january_df.head()\n",
    "# number_of_names = january_df['createdAt'].dt.day.value_counts().max()\n",
    "\n",
    "# print(\"Most popular day in January:\", popular_day)\n",
    "# print(\"Number of names for the most popular day:\", number_of_names)\n",
    "\n",
    "# # Create a new DataFrame for the most popular day and keep only the 'name' and 'createdAt' columns\n",
    "# popular_day_df = january_df[january_df['createdAt'].dt.day == popular_day][['name', 'createdAt']]\n",
    "# popular_day_df.head()\n",
    "# # # Create a histogram using plotly\n",
    "# # fig = px.histogram(popular_day_df, x='createdAt', title='Names on the Most Popular Day in January',\n",
    "# #                    labels={'creatpopular_day_df.head()edAt': 'Date', 'count': 'Number of Names'})\n",
    "# # fig.show()"
   ]
  },
  {
   "cell_type": "code",
   "execution_count": 97,
   "metadata": {},
   "outputs": [
    {
     "name": "stdout",
     "output_type": "stream",
     "text": [
      "The most popular day of January is Day 24 with 64 products launched.\n"
     ]
    },
    {
     "data": {
      "application/vnd.plotly.v1+json": {
       "config": {
        "plotlyServerURL": "https://plot.ly"
       },
       "data": [
        {
         "hovertemplate": "x=%{x}<br>y=%{y}<extra></extra>",
         "legendgroup": "",
         "line": {
          "color": "#636efa",
          "dash": "solid"
         },
         "marker": {
          "symbol": "circle"
         },
         "mode": "lines+markers",
         "name": "",
         "orientation": "v",
         "showlegend": false,
         "type": "scatter",
         "x": [
          1,
          2,
          3,
          4,
          5,
          6,
          7,
          8,
          9,
          10,
          11,
          12,
          13,
          14,
          15,
          16,
          17,
          18,
          19,
          20,
          21,
          22,
          23,
          24,
          25,
          26,
          27,
          28,
          29,
          30,
          31
         ],
         "xaxis": "x",
         "y": [
          24,
          32,
          30,
          34,
          51,
          42,
          13,
          17,
          44,
          53,
          58,
          50,
          37,
          12,
          16,
          50,
          61,
          56,
          51,
          36,
          25,
          33,
          59,
          64,
          63,
          54,
          30,
          17,
          18,
          36,
          57
         ],
         "yaxis": "y"
        }
       ],
       "layout": {
        "legend": {
         "tracegroupgap": 0
        },
        "margin": {
         "t": 60
        },
        "template": {
         "data": {
          "bar": [
           {
            "error_x": {
             "color": "#2a3f5f"
            },
            "error_y": {
             "color": "#2a3f5f"
            },
            "marker": {
             "line": {
              "color": "#E5ECF6",
              "width": 0.5
             },
             "pattern": {
              "fillmode": "overlay",
              "size": 10,
              "solidity": 0.2
             }
            },
            "type": "bar"
           }
          ],
          "barpolar": [
           {
            "marker": {
             "line": {
              "color": "#E5ECF6",
              "width": 0.5
             },
             "pattern": {
              "fillmode": "overlay",
              "size": 10,
              "solidity": 0.2
             }
            },
            "type": "barpolar"
           }
          ],
          "carpet": [
           {
            "aaxis": {
             "endlinecolor": "#2a3f5f",
             "gridcolor": "white",
             "linecolor": "white",
             "minorgridcolor": "white",
             "startlinecolor": "#2a3f5f"
            },
            "baxis": {
             "endlinecolor": "#2a3f5f",
             "gridcolor": "white",
             "linecolor": "white",
             "minorgridcolor": "white",
             "startlinecolor": "#2a3f5f"
            },
            "type": "carpet"
           }
          ],
          "choropleth": [
           {
            "colorbar": {
             "outlinewidth": 0,
             "ticks": ""
            },
            "type": "choropleth"
           }
          ],
          "contour": [
           {
            "colorbar": {
             "outlinewidth": 0,
             "ticks": ""
            },
            "colorscale": [
             [
              0,
              "#0d0887"
             ],
             [
              0.1111111111111111,
              "#46039f"
             ],
             [
              0.2222222222222222,
              "#7201a8"
             ],
             [
              0.3333333333333333,
              "#9c179e"
             ],
             [
              0.4444444444444444,
              "#bd3786"
             ],
             [
              0.5555555555555556,
              "#d8576b"
             ],
             [
              0.6666666666666666,
              "#ed7953"
             ],
             [
              0.7777777777777778,
              "#fb9f3a"
             ],
             [
              0.8888888888888888,
              "#fdca26"
             ],
             [
              1,
              "#f0f921"
             ]
            ],
            "type": "contour"
           }
          ],
          "contourcarpet": [
           {
            "colorbar": {
             "outlinewidth": 0,
             "ticks": ""
            },
            "type": "contourcarpet"
           }
          ],
          "heatmap": [
           {
            "colorbar": {
             "outlinewidth": 0,
             "ticks": ""
            },
            "colorscale": [
             [
              0,
              "#0d0887"
             ],
             [
              0.1111111111111111,
              "#46039f"
             ],
             [
              0.2222222222222222,
              "#7201a8"
             ],
             [
              0.3333333333333333,
              "#9c179e"
             ],
             [
              0.4444444444444444,
              "#bd3786"
             ],
             [
              0.5555555555555556,
              "#d8576b"
             ],
             [
              0.6666666666666666,
              "#ed7953"
             ],
             [
              0.7777777777777778,
              "#fb9f3a"
             ],
             [
              0.8888888888888888,
              "#fdca26"
             ],
             [
              1,
              "#f0f921"
             ]
            ],
            "type": "heatmap"
           }
          ],
          "heatmapgl": [
           {
            "colorbar": {
             "outlinewidth": 0,
             "ticks": ""
            },
            "colorscale": [
             [
              0,
              "#0d0887"
             ],
             [
              0.1111111111111111,
              "#46039f"
             ],
             [
              0.2222222222222222,
              "#7201a8"
             ],
             [
              0.3333333333333333,
              "#9c179e"
             ],
             [
              0.4444444444444444,
              "#bd3786"
             ],
             [
              0.5555555555555556,
              "#d8576b"
             ],
             [
              0.6666666666666666,
              "#ed7953"
             ],
             [
              0.7777777777777778,
              "#fb9f3a"
             ],
             [
              0.8888888888888888,
              "#fdca26"
             ],
             [
              1,
              "#f0f921"
             ]
            ],
            "type": "heatmapgl"
           }
          ],
          "histogram": [
           {
            "marker": {
             "pattern": {
              "fillmode": "overlay",
              "size": 10,
              "solidity": 0.2
             }
            },
            "type": "histogram"
           }
          ],
          "histogram2d": [
           {
            "colorbar": {
             "outlinewidth": 0,
             "ticks": ""
            },
            "colorscale": [
             [
              0,
              "#0d0887"
             ],
             [
              0.1111111111111111,
              "#46039f"
             ],
             [
              0.2222222222222222,
              "#7201a8"
             ],
             [
              0.3333333333333333,
              "#9c179e"
             ],
             [
              0.4444444444444444,
              "#bd3786"
             ],
             [
              0.5555555555555556,
              "#d8576b"
             ],
             [
              0.6666666666666666,
              "#ed7953"
             ],
             [
              0.7777777777777778,
              "#fb9f3a"
             ],
             [
              0.8888888888888888,
              "#fdca26"
             ],
             [
              1,
              "#f0f921"
             ]
            ],
            "type": "histogram2d"
           }
          ],
          "histogram2dcontour": [
           {
            "colorbar": {
             "outlinewidth": 0,
             "ticks": ""
            },
            "colorscale": [
             [
              0,
              "#0d0887"
             ],
             [
              0.1111111111111111,
              "#46039f"
             ],
             [
              0.2222222222222222,
              "#7201a8"
             ],
             [
              0.3333333333333333,
              "#9c179e"
             ],
             [
              0.4444444444444444,
              "#bd3786"
             ],
             [
              0.5555555555555556,
              "#d8576b"
             ],
             [
              0.6666666666666666,
              "#ed7953"
             ],
             [
              0.7777777777777778,
              "#fb9f3a"
             ],
             [
              0.8888888888888888,
              "#fdca26"
             ],
             [
              1,
              "#f0f921"
             ]
            ],
            "type": "histogram2dcontour"
           }
          ],
          "mesh3d": [
           {
            "colorbar": {
             "outlinewidth": 0,
             "ticks": ""
            },
            "type": "mesh3d"
           }
          ],
          "parcoords": [
           {
            "line": {
             "colorbar": {
              "outlinewidth": 0,
              "ticks": ""
             }
            },
            "type": "parcoords"
           }
          ],
          "pie": [
           {
            "automargin": true,
            "type": "pie"
           }
          ],
          "scatter": [
           {
            "fillpattern": {
             "fillmode": "overlay",
             "size": 10,
             "solidity": 0.2
            },
            "type": "scatter"
           }
          ],
          "scatter3d": [
           {
            "line": {
             "colorbar": {
              "outlinewidth": 0,
              "ticks": ""
             }
            },
            "marker": {
             "colorbar": {
              "outlinewidth": 0,
              "ticks": ""
             }
            },
            "type": "scatter3d"
           }
          ],
          "scattercarpet": [
           {
            "marker": {
             "colorbar": {
              "outlinewidth": 0,
              "ticks": ""
             }
            },
            "type": "scattercarpet"
           }
          ],
          "scattergeo": [
           {
            "marker": {
             "colorbar": {
              "outlinewidth": 0,
              "ticks": ""
             }
            },
            "type": "scattergeo"
           }
          ],
          "scattergl": [
           {
            "marker": {
             "colorbar": {
              "outlinewidth": 0,
              "ticks": ""
             }
            },
            "type": "scattergl"
           }
          ],
          "scattermapbox": [
           {
            "marker": {
             "colorbar": {
              "outlinewidth": 0,
              "ticks": ""
             }
            },
            "type": "scattermapbox"
           }
          ],
          "scatterpolar": [
           {
            "marker": {
             "colorbar": {
              "outlinewidth": 0,
              "ticks": ""
             }
            },
            "type": "scatterpolar"
           }
          ],
          "scatterpolargl": [
           {
            "marker": {
             "colorbar": {
              "outlinewidth": 0,
              "ticks": ""
             }
            },
            "type": "scatterpolargl"
           }
          ],
          "scatterternary": [
           {
            "marker": {
             "colorbar": {
              "outlinewidth": 0,
              "ticks": ""
             }
            },
            "type": "scatterternary"
           }
          ],
          "surface": [
           {
            "colorbar": {
             "outlinewidth": 0,
             "ticks": ""
            },
            "colorscale": [
             [
              0,
              "#0d0887"
             ],
             [
              0.1111111111111111,
              "#46039f"
             ],
             [
              0.2222222222222222,
              "#7201a8"
             ],
             [
              0.3333333333333333,
              "#9c179e"
             ],
             [
              0.4444444444444444,
              "#bd3786"
             ],
             [
              0.5555555555555556,
              "#d8576b"
             ],
             [
              0.6666666666666666,
              "#ed7953"
             ],
             [
              0.7777777777777778,
              "#fb9f3a"
             ],
             [
              0.8888888888888888,
              "#fdca26"
             ],
             [
              1,
              "#f0f921"
             ]
            ],
            "type": "surface"
           }
          ],
          "table": [
           {
            "cells": {
             "fill": {
              "color": "#EBF0F8"
             },
             "line": {
              "color": "white"
             }
            },
            "header": {
             "fill": {
              "color": "#C8D4E3"
             },
             "line": {
              "color": "white"
             }
            },
            "type": "table"
           }
          ]
         },
         "layout": {
          "annotationdefaults": {
           "arrowcolor": "#2a3f5f",
           "arrowhead": 0,
           "arrowwidth": 1
          },
          "autotypenumbers": "strict",
          "coloraxis": {
           "colorbar": {
            "outlinewidth": 0,
            "ticks": ""
           }
          },
          "colorscale": {
           "diverging": [
            [
             0,
             "#8e0152"
            ],
            [
             0.1,
             "#c51b7d"
            ],
            [
             0.2,
             "#de77ae"
            ],
            [
             0.3,
             "#f1b6da"
            ],
            [
             0.4,
             "#fde0ef"
            ],
            [
             0.5,
             "#f7f7f7"
            ],
            [
             0.6,
             "#e6f5d0"
            ],
            [
             0.7,
             "#b8e186"
            ],
            [
             0.8,
             "#7fbc41"
            ],
            [
             0.9,
             "#4d9221"
            ],
            [
             1,
             "#276419"
            ]
           ],
           "sequential": [
            [
             0,
             "#0d0887"
            ],
            [
             0.1111111111111111,
             "#46039f"
            ],
            [
             0.2222222222222222,
             "#7201a8"
            ],
            [
             0.3333333333333333,
             "#9c179e"
            ],
            [
             0.4444444444444444,
             "#bd3786"
            ],
            [
             0.5555555555555556,
             "#d8576b"
            ],
            [
             0.6666666666666666,
             "#ed7953"
            ],
            [
             0.7777777777777778,
             "#fb9f3a"
            ],
            [
             0.8888888888888888,
             "#fdca26"
            ],
            [
             1,
             "#f0f921"
            ]
           ],
           "sequentialminus": [
            [
             0,
             "#0d0887"
            ],
            [
             0.1111111111111111,
             "#46039f"
            ],
            [
             0.2222222222222222,
             "#7201a8"
            ],
            [
             0.3333333333333333,
             "#9c179e"
            ],
            [
             0.4444444444444444,
             "#bd3786"
            ],
            [
             0.5555555555555556,
             "#d8576b"
            ],
            [
             0.6666666666666666,
             "#ed7953"
            ],
            [
             0.7777777777777778,
             "#fb9f3a"
            ],
            [
             0.8888888888888888,
             "#fdca26"
            ],
            [
             1,
             "#f0f921"
            ]
           ]
          },
          "colorway": [
           "#636efa",
           "#EF553B",
           "#00cc96",
           "#ab63fa",
           "#FFA15A",
           "#19d3f3",
           "#FF6692",
           "#B6E880",
           "#FF97FF",
           "#FECB52"
          ],
          "font": {
           "color": "#2a3f5f"
          },
          "geo": {
           "bgcolor": "white",
           "lakecolor": "white",
           "landcolor": "#E5ECF6",
           "showlakes": true,
           "showland": true,
           "subunitcolor": "white"
          },
          "hoverlabel": {
           "align": "left"
          },
          "hovermode": "closest",
          "mapbox": {
           "style": "light"
          },
          "paper_bgcolor": "white",
          "plot_bgcolor": "#E5ECF6",
          "polar": {
           "angularaxis": {
            "gridcolor": "white",
            "linecolor": "white",
            "ticks": ""
           },
           "bgcolor": "#E5ECF6",
           "radialaxis": {
            "gridcolor": "white",
            "linecolor": "white",
            "ticks": ""
           }
          },
          "scene": {
           "xaxis": {
            "backgroundcolor": "#E5ECF6",
            "gridcolor": "white",
            "gridwidth": 2,
            "linecolor": "white",
            "showbackground": true,
            "ticks": "",
            "zerolinecolor": "white"
           },
           "yaxis": {
            "backgroundcolor": "#E5ECF6",
            "gridcolor": "white",
            "gridwidth": 2,
            "linecolor": "white",
            "showbackground": true,
            "ticks": "",
            "zerolinecolor": "white"
           },
           "zaxis": {
            "backgroundcolor": "#E5ECF6",
            "gridcolor": "white",
            "gridwidth": 2,
            "linecolor": "white",
            "showbackground": true,
            "ticks": "",
            "zerolinecolor": "white"
           }
          },
          "shapedefaults": {
           "line": {
            "color": "#2a3f5f"
           }
          },
          "ternary": {
           "aaxis": {
            "gridcolor": "white",
            "linecolor": "white",
            "ticks": ""
           },
           "baxis": {
            "gridcolor": "white",
            "linecolor": "white",
            "ticks": ""
           },
           "bgcolor": "#E5ECF6",
           "caxis": {
            "gridcolor": "white",
            "linecolor": "white",
            "ticks": ""
           }
          },
          "title": {
           "x": 0.05
          },
          "xaxis": {
           "automargin": true,
           "gridcolor": "white",
           "linecolor": "white",
           "ticks": "",
           "title": {
            "standoff": 15
           },
           "zerolinecolor": "white",
           "zerolinewidth": 2
          },
          "yaxis": {
           "automargin": true,
           "gridcolor": "white",
           "linecolor": "white",
           "ticks": "",
           "title": {
            "standoff": 15
           },
           "zerolinecolor": "white",
           "zerolinewidth": 2
          }
         }
        },
        "title": {
         "text": "Product Launching Activity in January"
        },
        "xaxis": {
         "anchor": "y",
         "domain": [
          0,
          1
         ],
         "title": {
          "text": "Day"
         }
        },
        "yaxis": {
         "anchor": "x",
         "domain": [
          0,
          1
         ],
         "title": {
          "text": "Number of Products Launched"
         }
        }
       }
      }
     },
     "metadata": {},
     "output_type": "display_data"
    }
   ],
   "source": [
    "df['createdAt'] = pd.to_datetime(df['createdAt'])\n",
    "january_df = df[df['Month'] == 'January']\n",
    "january_df.head()\n",
    "\n",
    "january_daily_counts = january_df['createdAt'].dt.day.value_counts().sort_index()\n",
    "\n",
    "most_popular_day = january_daily_counts.idxmax()\n",
    "num_products_launched = january_daily_counts.max()\n",
    "\n",
    "print(f\"The most popular day of January is Day {most_popular_day} with {num_products_launched} products launched.\")\n",
    "\n",
    "fig = px.line(x=january_daily_counts.index, y=january_daily_counts.values, markers=True)\n",
    "fig.update_layout(title=\"Product Launching Activity in January\", xaxis_title=\"Day\", yaxis_title=\"Number of Products Launched\")\n",
    "fig.show()\n"
   ]
  },
  {
   "cell_type": "markdown",
   "metadata": {},
   "source": [
    "- filter the table with the specific date\n",
    "- Create a line plot with all the hours. Maybe create a new column that only has the hours just like the months"
   ]
  },
  {
   "cell_type": "code",
   "execution_count": 98,
   "metadata": {},
   "outputs": [],
   "source": [
    "# # Convert the 'createdAt' column to pandas datetime\n",
    "# # df['createdAt'] = pd.to_datetime(df['createdAt'])\n",
    "\n",
    "# # Filter the DataFrame with a specific date (e.g., January 31, 2023)\n",
    "# specific_date = '2023-01-31'\n",
    "# filtered_df = df[df['createdAt'].dt.date == pd.to_datetime(specific_date).date()]\n",
    "\n",
    "# filtered_df.head()"
   ]
  },
  {
   "cell_type": "code",
   "execution_count": null,
   "metadata": {},
   "outputs": [],
   "source": []
  }
 ],
 "metadata": {
  "kernelspec": {
   "display_name": "Python 3",
   "language": "python",
   "name": "python3"
  },
  "language_info": {
   "codemirror_mode": {
    "name": "ipython",
    "version": 3
   },
   "file_extension": ".py",
   "mimetype": "text/x-python",
   "name": "python",
   "nbconvert_exporter": "python",
   "pygments_lexer": "ipython3",
   "version": "3.10.3"
  },
  "orig_nbformat": 4
 },
 "nbformat": 4,
 "nbformat_minor": 2
}
