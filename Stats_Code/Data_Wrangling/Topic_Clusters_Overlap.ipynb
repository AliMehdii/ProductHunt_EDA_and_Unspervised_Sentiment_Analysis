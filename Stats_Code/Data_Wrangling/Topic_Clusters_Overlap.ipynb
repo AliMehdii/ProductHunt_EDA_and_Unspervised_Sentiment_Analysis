{
 "cells": [
  {
   "cell_type": "code",
   "execution_count": 1,
   "metadata": {},
   "outputs": [
    {
     "data": {
      "application/vnd.plotly.v1+json": {
       "config": {
        "plotlyServerURL": "https://plot.ly"
       },
       "data": [
        {
         "marker": {
          "size": 250,
          "sizemode": "diameter"
         },
         "mode": "markers",
         "name": "Technology & Gadgets",
         "text": "Technology & Gadgets",
         "type": "scatter",
         "x": [
          "Technology & Gadgets"
         ],
         "y": [
          25
         ]
        },
        {
         "marker": {
          "size": 230,
          "sizemode": "diameter"
         },
         "mode": "markers",
         "name": "Miscellaneous",
         "text": "Miscellaneous",
         "type": "scatter",
         "x": [
          "Miscellaneous"
         ],
         "y": [
          23
         ]
        },
        {
         "marker": {
          "size": 220,
          "sizemode": "diameter"
         },
         "mode": "markers",
         "name": "Business & Entrepreneurship",
         "text": "Business & Entrepreneurship",
         "type": "scatter",
         "x": [
          "Business & Entrepreneurship"
         ],
         "y": [
          22
         ]
        },
        {
         "marker": {
          "size": 200,
          "sizemode": "diameter"
         },
         "mode": "markers",
         "name": "Coding & Development",
         "text": "Coding & Development",
         "type": "scatter",
         "x": [
          "Coding & Development"
         ],
         "y": [
          20
         ]
        },
        {
         "marker": {
          "size": 130,
          "sizemode": "diameter"
         },
         "mode": "markers",
         "name": "Gaming & Entertainment",
         "text": "Gaming & Entertainment",
         "type": "scatter",
         "x": [
          "Gaming & Entertainment"
         ],
         "y": [
          13
         ]
        },
        {
         "marker": {
          "size": 130,
          "sizemode": "diameter"
         },
         "mode": "markers",
         "name": "Lifestyle & Personal Care",
         "text": "Lifestyle & Personal Care",
         "type": "scatter",
         "x": [
          "Lifestyle & Personal Care"
         ],
         "y": [
          13
         ]
        },
        {
         "marker": {
          "size": 120,
          "sizemode": "diameter"
         },
         "mode": "markers",
         "name": "Entertainment & Media",
         "text": "Entertainment & Media",
         "type": "scatter",
         "x": [
          "Entertainment & Media"
         ],
         "y": [
          12
         ]
        },
        {
         "marker": {
          "size": 120,
          "sizemode": "diameter"
         },
         "mode": "markers",
         "name": "Art & Design",
         "text": "Art & Design",
         "type": "scatter",
         "x": [
          "Art & Design"
         ],
         "y": [
          12
         ]
        },
        {
         "marker": {
          "size": 120,
          "sizemode": "diameter"
         },
         "mode": "markers",
         "name": "Food & Drink",
         "text": "Food & Drink",
         "type": "scatter",
         "x": [
          "Food & Drink"
         ],
         "y": [
          12
         ]
        },
        {
         "marker": {
          "size": 100,
          "sizemode": "diameter"
         },
         "mode": "markers",
         "name": "Health & Fitness",
         "text": "Health & Fitness",
         "type": "scatter",
         "x": [
          "Health & Fitness"
         ],
         "y": [
          10
         ]
        },
        {
         "marker": {
          "size": 100,
          "sizemode": "diameter"
         },
         "mode": "markers",
         "name": "Travel & Exploration",
         "text": "Travel & Exploration",
         "type": "scatter",
         "x": [
          "Travel & Exploration"
         ],
         "y": [
          10
         ]
        },
        {
         "marker": {
          "size": 90,
          "sizemode": "diameter"
         },
         "mode": "markers",
         "name": "Finance & Investments",
         "text": "Finance & Investments",
         "type": "scatter",
         "x": [
          "Finance & Investments"
         ],
         "y": [
          9
         ]
        },
        {
         "marker": {
          "size": 80,
          "sizemode": "diameter"
         },
         "mode": "markers",
         "name": "Sports & Activities",
         "text": "Sports & Activities",
         "type": "scatter",
         "x": [
          "Sports & Activities"
         ],
         "y": [
          8
         ]
        },
        {
         "marker": {
          "size": 80,
          "sizemode": "diameter"
         },
         "mode": "markers",
         "name": "Social Media & Communication",
         "text": "Social Media & Communication",
         "type": "scatter",
         "x": [
          "Social Media & Communication"
         ],
         "y": [
          8
         ]
        },
        {
         "marker": {
          "size": 70,
          "sizemode": "diameter"
         },
         "mode": "markers",
         "name": "Education & Learning",
         "text": "Education & Learning",
         "type": "scatter",
         "x": [
          "Education & Learning"
         ],
         "y": [
          7
         ]
        },
        {
         "marker": {
          "size": 40,
          "sizemode": "diameter"
         },
         "mode": "markers",
         "name": "Pets & Animals",
         "text": "Pets & Animals",
         "type": "scatter",
         "x": [
          "Pets & Animals"
         ],
         "y": [
          4
         ]
        },
        {
         "marker": {
          "size": 30,
          "sizemode": "diameter"
         },
         "mode": "markers",
         "name": "Environment & Sustainability",
         "text": "Environment & Sustainability",
         "type": "scatter",
         "x": [
          "Environment & Sustainability"
         ],
         "y": [
          3
         ]
        },
        {
         "marker": {
          "size": 30,
          "sizemode": "diameter"
         },
         "mode": "markers",
         "name": "Politics & Current Affairs",
         "text": "Politics & Current Affairs",
         "type": "scatter",
         "x": [
          "Politics & Current Affairs"
         ],
         "y": [
          3
         ]
        }
       ],
       "layout": {
        "showlegend": true,
        "template": {
         "data": {
          "bar": [
           {
            "error_x": {
             "color": "#2a3f5f"
            },
            "error_y": {
             "color": "#2a3f5f"
            },
            "marker": {
             "line": {
              "color": "#E5ECF6",
              "width": 0.5
             },
             "pattern": {
              "fillmode": "overlay",
              "size": 10,
              "solidity": 0.2
             }
            },
            "type": "bar"
           }
          ],
          "barpolar": [
           {
            "marker": {
             "line": {
              "color": "#E5ECF6",
              "width": 0.5
             },
             "pattern": {
              "fillmode": "overlay",
              "size": 10,
              "solidity": 0.2
             }
            },
            "type": "barpolar"
           }
          ],
          "carpet": [
           {
            "aaxis": {
             "endlinecolor": "#2a3f5f",
             "gridcolor": "white",
             "linecolor": "white",
             "minorgridcolor": "white",
             "startlinecolor": "#2a3f5f"
            },
            "baxis": {
             "endlinecolor": "#2a3f5f",
             "gridcolor": "white",
             "linecolor": "white",
             "minorgridcolor": "white",
             "startlinecolor": "#2a3f5f"
            },
            "type": "carpet"
           }
          ],
          "choropleth": [
           {
            "colorbar": {
             "outlinewidth": 0,
             "ticks": ""
            },
            "type": "choropleth"
           }
          ],
          "contour": [
           {
            "colorbar": {
             "outlinewidth": 0,
             "ticks": ""
            },
            "colorscale": [
             [
              0,
              "#0d0887"
             ],
             [
              0.1111111111111111,
              "#46039f"
             ],
             [
              0.2222222222222222,
              "#7201a8"
             ],
             [
              0.3333333333333333,
              "#9c179e"
             ],
             [
              0.4444444444444444,
              "#bd3786"
             ],
             [
              0.5555555555555556,
              "#d8576b"
             ],
             [
              0.6666666666666666,
              "#ed7953"
             ],
             [
              0.7777777777777778,
              "#fb9f3a"
             ],
             [
              0.8888888888888888,
              "#fdca26"
             ],
             [
              1,
              "#f0f921"
             ]
            ],
            "type": "contour"
           }
          ],
          "contourcarpet": [
           {
            "colorbar": {
             "outlinewidth": 0,
             "ticks": ""
            },
            "type": "contourcarpet"
           }
          ],
          "heatmap": [
           {
            "colorbar": {
             "outlinewidth": 0,
             "ticks": ""
            },
            "colorscale": [
             [
              0,
              "#0d0887"
             ],
             [
              0.1111111111111111,
              "#46039f"
             ],
             [
              0.2222222222222222,
              "#7201a8"
             ],
             [
              0.3333333333333333,
              "#9c179e"
             ],
             [
              0.4444444444444444,
              "#bd3786"
             ],
             [
              0.5555555555555556,
              "#d8576b"
             ],
             [
              0.6666666666666666,
              "#ed7953"
             ],
             [
              0.7777777777777778,
              "#fb9f3a"
             ],
             [
              0.8888888888888888,
              "#fdca26"
             ],
             [
              1,
              "#f0f921"
             ]
            ],
            "type": "heatmap"
           }
          ],
          "heatmapgl": [
           {
            "colorbar": {
             "outlinewidth": 0,
             "ticks": ""
            },
            "colorscale": [
             [
              0,
              "#0d0887"
             ],
             [
              0.1111111111111111,
              "#46039f"
             ],
             [
              0.2222222222222222,
              "#7201a8"
             ],
             [
              0.3333333333333333,
              "#9c179e"
             ],
             [
              0.4444444444444444,
              "#bd3786"
             ],
             [
              0.5555555555555556,
              "#d8576b"
             ],
             [
              0.6666666666666666,
              "#ed7953"
             ],
             [
              0.7777777777777778,
              "#fb9f3a"
             ],
             [
              0.8888888888888888,
              "#fdca26"
             ],
             [
              1,
              "#f0f921"
             ]
            ],
            "type": "heatmapgl"
           }
          ],
          "histogram": [
           {
            "marker": {
             "pattern": {
              "fillmode": "overlay",
              "size": 10,
              "solidity": 0.2
             }
            },
            "type": "histogram"
           }
          ],
          "histogram2d": [
           {
            "colorbar": {
             "outlinewidth": 0,
             "ticks": ""
            },
            "colorscale": [
             [
              0,
              "#0d0887"
             ],
             [
              0.1111111111111111,
              "#46039f"
             ],
             [
              0.2222222222222222,
              "#7201a8"
             ],
             [
              0.3333333333333333,
              "#9c179e"
             ],
             [
              0.4444444444444444,
              "#bd3786"
             ],
             [
              0.5555555555555556,
              "#d8576b"
             ],
             [
              0.6666666666666666,
              "#ed7953"
             ],
             [
              0.7777777777777778,
              "#fb9f3a"
             ],
             [
              0.8888888888888888,
              "#fdca26"
             ],
             [
              1,
              "#f0f921"
             ]
            ],
            "type": "histogram2d"
           }
          ],
          "histogram2dcontour": [
           {
            "colorbar": {
             "outlinewidth": 0,
             "ticks": ""
            },
            "colorscale": [
             [
              0,
              "#0d0887"
             ],
             [
              0.1111111111111111,
              "#46039f"
             ],
             [
              0.2222222222222222,
              "#7201a8"
             ],
             [
              0.3333333333333333,
              "#9c179e"
             ],
             [
              0.4444444444444444,
              "#bd3786"
             ],
             [
              0.5555555555555556,
              "#d8576b"
             ],
             [
              0.6666666666666666,
              "#ed7953"
             ],
             [
              0.7777777777777778,
              "#fb9f3a"
             ],
             [
              0.8888888888888888,
              "#fdca26"
             ],
             [
              1,
              "#f0f921"
             ]
            ],
            "type": "histogram2dcontour"
           }
          ],
          "mesh3d": [
           {
            "colorbar": {
             "outlinewidth": 0,
             "ticks": ""
            },
            "type": "mesh3d"
           }
          ],
          "parcoords": [
           {
            "line": {
             "colorbar": {
              "outlinewidth": 0,
              "ticks": ""
             }
            },
            "type": "parcoords"
           }
          ],
          "pie": [
           {
            "automargin": true,
            "type": "pie"
           }
          ],
          "scatter": [
           {
            "fillpattern": {
             "fillmode": "overlay",
             "size": 10,
             "solidity": 0.2
            },
            "type": "scatter"
           }
          ],
          "scatter3d": [
           {
            "line": {
             "colorbar": {
              "outlinewidth": 0,
              "ticks": ""
             }
            },
            "marker": {
             "colorbar": {
              "outlinewidth": 0,
              "ticks": ""
             }
            },
            "type": "scatter3d"
           }
          ],
          "scattercarpet": [
           {
            "marker": {
             "colorbar": {
              "outlinewidth": 0,
              "ticks": ""
             }
            },
            "type": "scattercarpet"
           }
          ],
          "scattergeo": [
           {
            "marker": {
             "colorbar": {
              "outlinewidth": 0,
              "ticks": ""
             }
            },
            "type": "scattergeo"
           }
          ],
          "scattergl": [
           {
            "marker": {
             "colorbar": {
              "outlinewidth": 0,
              "ticks": ""
             }
            },
            "type": "scattergl"
           }
          ],
          "scattermapbox": [
           {
            "marker": {
             "colorbar": {
              "outlinewidth": 0,
              "ticks": ""
             }
            },
            "type": "scattermapbox"
           }
          ],
          "scatterpolar": [
           {
            "marker": {
             "colorbar": {
              "outlinewidth": 0,
              "ticks": ""
             }
            },
            "type": "scatterpolar"
           }
          ],
          "scatterpolargl": [
           {
            "marker": {
             "colorbar": {
              "outlinewidth": 0,
              "ticks": ""
             }
            },
            "type": "scatterpolargl"
           }
          ],
          "scatterternary": [
           {
            "marker": {
             "colorbar": {
              "outlinewidth": 0,
              "ticks": ""
             }
            },
            "type": "scatterternary"
           }
          ],
          "surface": [
           {
            "colorbar": {
             "outlinewidth": 0,
             "ticks": ""
            },
            "colorscale": [
             [
              0,
              "#0d0887"
             ],
             [
              0.1111111111111111,
              "#46039f"
             ],
             [
              0.2222222222222222,
              "#7201a8"
             ],
             [
              0.3333333333333333,
              "#9c179e"
             ],
             [
              0.4444444444444444,
              "#bd3786"
             ],
             [
              0.5555555555555556,
              "#d8576b"
             ],
             [
              0.6666666666666666,
              "#ed7953"
             ],
             [
              0.7777777777777778,
              "#fb9f3a"
             ],
             [
              0.8888888888888888,
              "#fdca26"
             ],
             [
              1,
              "#f0f921"
             ]
            ],
            "type": "surface"
           }
          ],
          "table": [
           {
            "cells": {
             "fill": {
              "color": "#EBF0F8"
             },
             "line": {
              "color": "white"
             }
            },
            "header": {
             "fill": {
              "color": "#C8D4E3"
             },
             "line": {
              "color": "white"
             }
            },
            "type": "table"
           }
          ]
         },
         "layout": {
          "annotationdefaults": {
           "arrowcolor": "#2a3f5f",
           "arrowhead": 0,
           "arrowwidth": 1
          },
          "autotypenumbers": "strict",
          "coloraxis": {
           "colorbar": {
            "outlinewidth": 0,
            "ticks": ""
           }
          },
          "colorscale": {
           "diverging": [
            [
             0,
             "#8e0152"
            ],
            [
             0.1,
             "#c51b7d"
            ],
            [
             0.2,
             "#de77ae"
            ],
            [
             0.3,
             "#f1b6da"
            ],
            [
             0.4,
             "#fde0ef"
            ],
            [
             0.5,
             "#f7f7f7"
            ],
            [
             0.6,
             "#e6f5d0"
            ],
            [
             0.7,
             "#b8e186"
            ],
            [
             0.8,
             "#7fbc41"
            ],
            [
             0.9,
             "#4d9221"
            ],
            [
             1,
             "#276419"
            ]
           ],
           "sequential": [
            [
             0,
             "#0d0887"
            ],
            [
             0.1111111111111111,
             "#46039f"
            ],
            [
             0.2222222222222222,
             "#7201a8"
            ],
            [
             0.3333333333333333,
             "#9c179e"
            ],
            [
             0.4444444444444444,
             "#bd3786"
            ],
            [
             0.5555555555555556,
             "#d8576b"
            ],
            [
             0.6666666666666666,
             "#ed7953"
            ],
            [
             0.7777777777777778,
             "#fb9f3a"
            ],
            [
             0.8888888888888888,
             "#fdca26"
            ],
            [
             1,
             "#f0f921"
            ]
           ],
           "sequentialminus": [
            [
             0,
             "#0d0887"
            ],
            [
             0.1111111111111111,
             "#46039f"
            ],
            [
             0.2222222222222222,
             "#7201a8"
            ],
            [
             0.3333333333333333,
             "#9c179e"
            ],
            [
             0.4444444444444444,
             "#bd3786"
            ],
            [
             0.5555555555555556,
             "#d8576b"
            ],
            [
             0.6666666666666666,
             "#ed7953"
            ],
            [
             0.7777777777777778,
             "#fb9f3a"
            ],
            [
             0.8888888888888888,
             "#fdca26"
            ],
            [
             1,
             "#f0f921"
            ]
           ]
          },
          "colorway": [
           "#636efa",
           "#EF553B",
           "#00cc96",
           "#ab63fa",
           "#FFA15A",
           "#19d3f3",
           "#FF6692",
           "#B6E880",
           "#FF97FF",
           "#FECB52"
          ],
          "font": {
           "color": "#2a3f5f"
          },
          "geo": {
           "bgcolor": "white",
           "lakecolor": "white",
           "landcolor": "#E5ECF6",
           "showlakes": true,
           "showland": true,
           "subunitcolor": "white"
          },
          "hoverlabel": {
           "align": "left"
          },
          "hovermode": "closest",
          "mapbox": {
           "style": "light"
          },
          "paper_bgcolor": "white",
          "plot_bgcolor": "#E5ECF6",
          "polar": {
           "angularaxis": {
            "gridcolor": "white",
            "linecolor": "white",
            "ticks": ""
           },
           "bgcolor": "#E5ECF6",
           "radialaxis": {
            "gridcolor": "white",
            "linecolor": "white",
            "ticks": ""
           }
          },
          "scene": {
           "xaxis": {
            "backgroundcolor": "#E5ECF6",
            "gridcolor": "white",
            "gridwidth": 2,
            "linecolor": "white",
            "showbackground": true,
            "ticks": "",
            "zerolinecolor": "white"
           },
           "yaxis": {
            "backgroundcolor": "#E5ECF6",
            "gridcolor": "white",
            "gridwidth": 2,
            "linecolor": "white",
            "showbackground": true,
            "ticks": "",
            "zerolinecolor": "white"
           },
           "zaxis": {
            "backgroundcolor": "#E5ECF6",
            "gridcolor": "white",
            "gridwidth": 2,
            "linecolor": "white",
            "showbackground": true,
            "ticks": "",
            "zerolinecolor": "white"
           }
          },
          "shapedefaults": {
           "line": {
            "color": "#2a3f5f"
           }
          },
          "ternary": {
           "aaxis": {
            "gridcolor": "white",
            "linecolor": "white",
            "ticks": ""
           },
           "baxis": {
            "gridcolor": "white",
            "linecolor": "white",
            "ticks": ""
           },
           "bgcolor": "#E5ECF6",
           "caxis": {
            "gridcolor": "white",
            "linecolor": "white",
            "ticks": ""
           }
          },
          "title": {
           "x": 0.05
          },
          "xaxis": {
           "automargin": true,
           "gridcolor": "white",
           "linecolor": "white",
           "ticks": "",
           "title": {
            "standoff": 15
           },
           "zerolinecolor": "white",
           "zerolinewidth": 2
          },
          "yaxis": {
           "automargin": true,
           "gridcolor": "white",
           "linecolor": "white",
           "ticks": "",
           "title": {
            "standoff": 15
           },
           "zerolinecolor": "white",
           "zerolinewidth": 2
          }
         }
        },
        "title": {
         "text": "Overlap between Clusters based on Topic Groups"
        },
        "xaxis": {
         "title": {
          "text": "Clusters"
         }
        },
        "yaxis": {
         "title": {
          "text": "Number of Topics in Cluster"
         }
        }
       }
      }
     },
     "metadata": {},
     "output_type": "display_data"
    }
   ],
   "source": [
    "import pandas as pd\n",
    "import plotly.graph_objects as go\n",
    "\n",
    "# Sample data\n",
    "data = pd.read_csv(\"C:/Users/alime/Dropbox/PC/Documents/Coding/2023/ProductHunt_EDA_and_Unspervised_Sentiment_Analysis/Stats_Code/Data_Wrangling/Topics_Clusters.csv\")\n",
    "\n",
    "df_topics = pd.DataFrame(data)\n",
    "\n",
    "# # Sample data for topic groups\n",
    "# topic_groups = [\n",
    "#     ['Safari Extensions', 'API', 'WordPress'],\n",
    "#     ['AI', 'Marketing'],\n",
    "#     ['Business', 'Blockchain', 'AI']\n",
    "# ]\n",
    "topic_groups= pd.read_csv(\"C:/Users/alime/Dropbox/PC/Documents/Coding/2023/ProductHunt_EDA_and_Unspervised_Sentiment_Analysis/Stats_Code/Data_Wrangling/Topics_Groups.csv\")\n",
    "\n",
    "\n",
    "\n",
    "# Function to calculate the overlap between clusters based on topic groups\n",
    "def calculate_cluster_overlap(topic_groups, df_topics):\n",
    "    cluster_overlap = {}\n",
    "    for group in topic_groups:\n",
    "        for i, topic1 in enumerate(group):\n",
    "            for topic2 in group[i+1:]:\n",
    "                if (df_topics['Topic'] == topic1).any() and (df_topics['Topic'] == topic2).any():\n",
    "                    cluster1 = df_topics[df_topics['Topic'] == topic1]['Cluster'].iloc[0]\n",
    "                    cluster2 = df_topics[df_topics['Topic'] == topic2]['Cluster'].iloc[0]\n",
    "                    key = frozenset([cluster1, cluster2])\n",
    "                    cluster_overlap[key] = cluster_overlap.get(key, 0) + 1\n",
    "                \n",
    "    return cluster_overlap\n",
    "\n",
    "# Calculate the number of topics in each cluster\n",
    "cluster_sizes = df_topics['Cluster'].value_counts().to_dict()\n",
    "\n",
    "# Calculate the overlap between clusters based on topic groups\n",
    "cluster_overlap = calculate_cluster_overlap(topic_groups, df_topics)\n",
    "\n",
    "# Create a Plotly scatter plot\n",
    "fig = go.Figure()\n",
    "\n",
    "# Add circles for each cluster\n",
    "for cluster, size in cluster_sizes.items():\n",
    "    fig.add_trace(go.Scatter(\n",
    "        x=[cluster],\n",
    "        y=[size],\n",
    "        mode='markers',\n",
    "        marker=dict(size=size*10, sizemode='diameter'),\n",
    "        text=cluster,\n",
    "        name=cluster\n",
    "    ))\n",
    "\n",
    "# Adjust the size of the overlap between clusters\n",
    "for clusters, overlap in cluster_overlap.items():\n",
    "    cluster1, cluster2 = clusters\n",
    "    if cluster1 in cluster_sizes and cluster2 in cluster_sizes:\n",
    "        avg_size = (cluster_sizes[cluster1] + cluster_sizes[cluster2]) / 2\n",
    "        overlap_size = overlap / len(topic_groups) * 100\n",
    "        fig.add_trace(go.Scatter(\n",
    "            x=[cluster1, cluster2],\n",
    "            y=[avg_size, avg_size],\n",
    "            mode='lines',\n",
    "            line=dict(width=overlap_size),\n",
    "            hoverinfo='none',\n",
    "            showlegend=False\n",
    "        ))\n",
    "\n",
    "# Set layout properties\n",
    "fig.update_layout(\n",
    "    title='Overlap between Clusters based on Topic Groups',\n",
    "    xaxis=dict(title='Clusters'),\n",
    "    yaxis=dict(title='Number of Topics in Cluster'),\n",
    "    showlegend=True\n",
    ")\n",
    "\n",
    "# Show the plot\n",
    "fig.show()"
   ]
  },
  {
   "cell_type": "code",
   "execution_count": null,
   "metadata": {},
   "outputs": [],
   "source": [
    "\n",
    "# Function to calculate the overlap between clusters based on topic groups\n",
    "def calculate_cluster_overlap(topic_groups, df_topics):\n",
    "    cluster_overlap = {}\n",
    "    for group in topic_groups:\n",
    "        for i, topic1 in enumerate(group):\n",
    "            for topic2 in group[i+1:]:\n",
    "                if 'Cluster' in df_topics.columns and (df_topics['Topic'] == topic1).any() and (df_topics['Topic'] == topic2).any():\n",
    "                    cluster1 = df_topics[df_topics['Topic'] == topic1]['Cluster'].iloc[0]\n",
    "                    cluster2 = df_topics[df_topics['Topic'] == topic2]['Cluster'].iloc[0]\n",
    "                    key = frozenset([cluster1, cluster2])\n",
    "                    cluster_overlap[key] = cluster_overlap.get(key, 0) + 1\n",
    "                \n",
    "    return cluster_overlap\n",
    "\n",
    "# Calculate the number of topics in each cluster\n",
    "cluster_sizes = df_topics['Cluster'].value_counts().to_dict()\n",
    "\n",
    "# Calculate the overlap between clusters based on topic groups\n",
    "cluster_overlap = calculate_cluster_overlap(topic_groups, df_topics)\n",
    "\n",
    "# Create a graph with nodes representing the clusters\n",
    "nodes = []\n",
    "for cluster, size in cluster_sizes.items():\n",
    "    nodes.append(go.Scatter(\n",
    "        x=[cluster],\n",
    "        y=[size],\n",
    "        mode='markers',\n",
    "        marker=dict(size=size*10, sizemode='diameter'),\n",
    "        text=cluster,\n",
    "        name=cluster\n",
    "    ))\n",
    "\n",
    "# Create edges between clusters based on the overlap\n",
    "edges = []\n",
    "for clusters, overlap in cluster_overlap.items():\n",
    "    cluster1, cluster2 = clusters\n",
    "    if cluster1 in cluster_sizes and cluster2 in cluster_sizes:\n",
    "        avg_size = (cluster_sizes[cluster1] + cluster_sizes[cluster2]) / 2\n",
    "        overlap_size = overlap / len(topic_groups) * 100\n",
    "        edges.append(go.Scatter(\n",
    "            x=[cluster1, cluster2],\n",
    "            y=[avg_size, avg_size],\n",
    "            mode='lines',\n",
    "            line=dict(width=overlap_size),\n",
    "            hoverinfo='none',\n",
    "            showlegend=False\n",
    "        ))\n",
    "\n",
    "# Set layout properties\n",
    "layout = go.Layout(\n",
    "    title='Overlap between Clusters based on Topic Groups',\n",
    "    xaxis=dict(title='Clusters'),\n",
    "    yaxis=dict(title='Number of Topics in Cluster'),\n",
    "    showlegend=False\n",
    ")\n",
    "\n",
    "# Create the figure with nodes and edges\n",
    "fig = go.Figure(data=nodes + edges, layout=layout)\n",
    "\n",
    "# Show the plot\n",
    "fig.show()"
   ]
  },
  {
   "cell_type": "code",
   "execution_count": null,
   "metadata": {},
   "outputs": [],
   "source": []
  }
 ],
 "metadata": {
  "kernelspec": {
   "display_name": "Python 3",
   "language": "python",
   "name": "python3"
  },
  "language_info": {
   "codemirror_mode": {
    "name": "ipython",
    "version": 3
   },
   "file_extension": ".py",
   "mimetype": "text/x-python",
   "name": "python",
   "nbconvert_exporter": "python",
   "pygments_lexer": "ipython3",
   "version": "3.10.3"
  },
  "orig_nbformat": 4
 },
 "nbformat": 4,
 "nbformat_minor": 2
}
