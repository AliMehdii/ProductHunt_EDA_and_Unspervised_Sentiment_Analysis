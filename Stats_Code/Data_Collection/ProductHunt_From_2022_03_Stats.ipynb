{
  "cells": [
    {
      "cell_type": "code",
      "execution_count": 1,
      "metadata": {
        "id": "c0x3jPoS2nw7"
      },
      "outputs": [],
      "source": [
        "import requests\n",
        "import json\n",
        "import time\n",
        "from tqdm import tqdm\n"
      ]
    },
    {
      "cell_type": "code",
      "execution_count": null,
      "metadata": {
        "colab": {
          "base_uri": "https://localhost:8080/"
        },
        "id": "5yRVKZyJ2pX5",
        "outputId": "a68810c1-b5a9-4c94-c7d9-32112fab8e3c"
      },
      "outputs": [
        {
          "name": "stdout",
          "output_type": "stream",
          "text": [
            "Mounted at /content/drive\n"
          ]
        }
      ],
      "source": [
        "from google.colab import drive\n",
        "drive.mount('/content/drive')"
      ]
    },
    {
      "cell_type": "code",
      "execution_count": 6,
      "metadata": {
        "id": "NylV-Zgk2nw-"
      },
      "outputs": [],
      "source": [
        "\n",
        "access_token = \"YmY_hVX5X-e9zKMBPCowCVlvIOpmdkq9wP8H4MEJptE\"\n",
        "\n",
        "query = \"\"\"\n",
        "query ($afterDate: DateTime!, $beforeDate: DateTime!, $cursor: String) {\n",
        "  posts(postedAfter: $afterDate, postedBefore: $beforeDate, after: $cursor) {\n",
        "    pageInfo {\n",
        "      endCursor\n",
        "      hasNextPage\n",
        "    }\n",
        "    edges {\n",
        "      node {\n",
        "        id\n",
        "        name\n",
        "        votesCount\n",
        "        reviewsRating\n",
        "        reviewsCount\n",
        "        commentsCount\n",
        "        votes {\n",
        "          totalCount\n",
        "        }\n",
        "        createdAt\n",
        "        collections {\n",
        "          totalCount\n",
        "        }\n",
        "        topics {\n",
        "          edges {\n",
        "            node {\n",
        "              name\n",
        "              followersCount\n",
        "              postsCount\n",
        "            }\n",
        "          }\n",
        "        }\n",
        "      }\n",
        "    }\n",
        "  }\n",
        "}\n",
        "\"\"\""
      ]
    },
    {
      "cell_type": "code",
      "execution_count": 7,
      "metadata": {
        "id": "Yx40BRLY2nw_"
      },
      "outputs": [],
      "source": [
        "def send_graphql_request(query, access_token, variables=None):\n",
        "\n",
        "  url = \"https://api.producthunt.com/v2/api/graphql\"\n",
        "\n",
        "  headers = {\n",
        "    \"Content-Type\": \"application/json\",\n",
        "    \"Authorization\": f\"Bearer {access_token}\",\n",
        "  }\n",
        "\n",
        "  data = {\"query\": query, \"variables\": variables}\n",
        "\n",
        "  response = requests.post(url, headers=headers, data=json.dumps(data))\n",
        "\n",
        "  # Check rate limit headers\n",
        "  limit = int(response.headers['X-Rate-Limit-Limit'])\n",
        "  remaining = int(response.headers['X-Rate-Limit-Remaining'])\n",
        "  reset = int(response.headers['X-Rate-Limit-Reset'])\n",
        "  # print(\"limit: \", limit)\n",
        "  print(\"remaining: \", remaining)\n",
        "  print(\"reset: \", reset)\n",
        "\n",
        "  def sleep_with_progress(seconds):\n",
        "    for remaining in tqdm(range(seconds), desc=\"Sleeping\", unit=\"sec\", ascii=True):\n",
        "        time.sleep(1)\n",
        "\n",
        "  if remaining < 100:\n",
        "    # print(\"Waiting...\")\n",
        "    # time.sleep(int(reset)) # l\n",
        "    sleep_with_progress(int(reset))\n",
        "\n",
        "\n",
        "  return response.json()\n"
      ]
    },
    {
      "cell_type": "code",
      "execution_count": 8,
      "metadata": {
        "id": "DutMMWdG2nw_"
      },
      "outputs": [],
      "source": [
        "\n",
        "# Specify dates\n",
        "after_date = \"2023-03-01\"\n",
        "before_date = \"2023-04-01\"\n",
        "\n",
        "# Initial variables\n",
        "variables = {\"afterDate\": after_date, \"beforeDate\": before_date, \"cursor\": None}\n",
        "\n",
        "all_posts = []\n"
      ]
    },
    {
      "cell_type": "code",
      "execution_count": 9,
      "metadata": {
        "id": "2sb0EzwF2nw_"
      },
      "outputs": [
        {
          "name": "stdout",
          "output_type": "stream",
          "text": [
            "{'errors': [{'message': \"Field 'reviews' doesn't exist on type 'Post'\", 'locations': [{'line': 15, 'column': 9}], 'path': ['query', 'posts', 'edges', 'node', 'reviews'], 'extensions': {'code': 'undefinedField', 'typeName': 'Post', 'fieldName': 'reviews'}}]}\n",
            "Invalid response format.\n"
          ]
        }
      ],
      "source": [
        "file_path = \"/content/drive/My Drive/CS_Projects/2023/Posts_Mar_2023_Fix_02.json\"\n",
        "\n",
        "while True:\n",
        "\n",
        "  response = send_graphql_request(query, access_token, variables)\n",
        "  print(\"response\", response)\n",
        "  # print(\"response\", type(response))\n",
        "  # Check response format\n",
        "  if \"data\" not in response or \"posts\" not in response[\"data\"]:\n",
        "    print(\"Invalid response format.\")\n",
        "    break\n",
        "\n",
        "  posts = response[\"data\"][\"posts\"][\"edges\"]\n",
        "  all_posts.extend(posts)\n",
        "\n",
        "  with open(file_path, \"a\") as file:\n",
        "    json.dump(all_posts, file)\n",
        "\n",
        "  pageInfo = response[\"data\"][\"posts\"][\"pageInfo\"]\n",
        "  has_next_page = pageInfo[\"hasNextPage\"]\n",
        "\n",
        "  if has_next_page:\n",
        "    cursor = pageInfo[\"endCursor\"]\n",
        "    variables[\"cursor\"] = cursor\n",
        "\n",
        "  else:\n",
        "    break\n",
        "\n",
        "  print(\"Saved!\")\n",
        "\n"
      ]
    },
    {
      "cell_type": "code",
      "execution_count": null,
      "metadata": {
        "id": "BmiPFXSE4Ep0"
      },
      "outputs": [],
      "source": []
    }
  ],
  "metadata": {
    "colab": {
      "provenance": []
    },
    "kernelspec": {
      "display_name": "Python 3",
      "name": "python3"
    },
    "language_info": {
      "codemirror_mode": {
        "name": "ipython",
        "version": 3
      },
      "file_extension": ".py",
      "mimetype": "text/x-python",
      "name": "python",
      "nbconvert_exporter": "python",
      "pygments_lexer": "ipython3",
      "version": "3.10.3"
    },
    "orig_nbformat": 4
  },
  "nbformat": 4,
  "nbformat_minor": 0
}
